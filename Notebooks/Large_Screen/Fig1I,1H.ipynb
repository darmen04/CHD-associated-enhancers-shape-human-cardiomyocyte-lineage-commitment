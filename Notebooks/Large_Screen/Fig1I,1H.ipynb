{
 "cells": [
  {
   "cell_type": "code",
   "execution_count": 1,
   "metadata": {},
   "outputs": [],
   "source": [
    "#import scrublet as scr\n",
    "import numpy as np\n",
    "import pandas as pd\n",
    "import statistics as st\n",
    "import re\n",
    "import csv\n",
    "import scanpy as sc \n",
    "import scanpy.external as sce\n",
    "import phate\n",
    "import matplotlib\n",
    "from matplotlib import pyplot as plt\n",
    "import warnings\n",
    "from scipy.stats import binom\n",
    "from scipy.stats import multinomial\n",
    "import seaborn\n",
    "from scipy.stats import hypergeom\n",
    "import warnings\n",
    "import scipy\n",
    "warnings.filterwarnings('ignore')\n",
    "import pickle\n",
    "import scrublet as scr\n",
    "import harmonypy as hm\n",
    "import sys\n",
    "from random import sample\n",
    "from _util_updated import cluster_bias"
   ]
  },
  {
   "cell_type": "markdown",
   "metadata": {},
   "source": [
    "### Load Data"
   ]
  },
  {
   "cell_type": "code",
   "execution_count": 2,
   "metadata": {},
   "outputs": [],
   "source": [
    "SC_DF = sc.read_h5ad('/project/GCRB/Hon_lab/s425140/03.Data/07.Cardiomyocyte_Small_Scale/DAP3/07_28_21_Paper/H5AD/DAP3_SC_072821.h5ad')"
   ]
  },
  {
   "cell_type": "code",
   "execution_count": 3,
   "metadata": {},
   "outputs": [],
   "source": [
    "PATH = '/project/GCRB/Hon_lab/s425140/03.Data/07.Cardiomyocyte_Small_Scale/DAP3/07_28_21_Paper/DIC/'\n",
    "Dict_File = open(PATH + \"ALL_Large_sgRNA_Dic_Filtered.pkl\", \"rb\")\n",
    "SGRNA_CELLS_DIC = pickle.load(Dict_File)"
   ]
  },
  {
   "cell_type": "code",
   "execution_count": 4,
   "metadata": {},
   "outputs": [],
   "source": [
    "PATH = '/project/GCRB/Hon_lab/s425140/03.Data/07.Cardiomyocyte_Small_Scale/DAP3/07_28_21_Paper/DIC/'\n",
    "Dict_File = open(PATH + \"Guide_Dictionary_Filtered.pkl\", \"rb\")\n",
    "Guide_Dictionary = pickle.load(Dict_File)"
   ]
  },
  {
   "cell_type": "code",
   "execution_count": 5,
   "metadata": {},
   "outputs": [
    {
     "data": {
      "text/plain": [
       "[None, None, None, None]"
      ]
     },
     "execution_count": 5,
     "metadata": {},
     "output_type": "execute_result"
    }
   ],
   "source": [
    "Clean_NC_Cells = []\n",
    "[Clean_NC_Cells.extend(SGRNA_CELLS_DIC[i]) for i in Guide_Dictionary['NC']]"
   ]
  },
  {
   "cell_type": "markdown",
   "metadata": {},
   "source": [
    "### Promoter Enhancer Dicts"
   ]
  },
  {
   "cell_type": "code",
   "execution_count": 6,
   "metadata": {},
   "outputs": [],
   "source": [
    "### Enhancer Dic (Do firt. Not all promoters have enhancers)\n",
    "\n",
    "Target_Name = []\n",
    "Enhancer_Name = []\n",
    "for target in Guide_Dictionary.keys():\n",
    "    try:\n",
    "        if target.split('_')[1].startswith('ENH'):\n",
    "            Target_Name.append(target.split('_')[0])\n",
    "            Enhancer_Name.append(target)\n",
    "    except:\n",
    "        continue\n",
    "        \n",
    "Enhancer_Set = []\n",
    "for target in np.unique(Target_Name):\n",
    "    Target_Set = []\n",
    "    for target_enh in Enhancer_Name:\n",
    "        if target_enh.split('_')[0] == target:\n",
    "            Target_Set.append(target_enh)\n",
    "    Enhancer_Set.append(Target_Set)\n",
    "    \n",
    "ENH_DICT = dict(zip(np.unique(Target_Name), Enhancer_Set))\n",
    "\n",
    "### Add Missing TBX5 Set from Sean\n",
    "\n",
    "ENH_DICT['TBX5'] = ['TBXEnh1']\n",
    "ENH_DICT['TBX5'].append('TBXEnh2')\n",
    "ENH_DICT['TBX5'].append('TBXEnh3')\n",
    "ENH_DICT['TBX5'].append('TBXEnh4')\n",
    "ENH_DICT['TBX5'].append('TBXEnh5')\n",
    "ENH_DICT['TBX5'].append('TBXEnh6')"
   ]
  },
  {
   "cell_type": "code",
   "execution_count": 7,
   "metadata": {},
   "outputs": [],
   "source": [
    "### Promoter Dic\n",
    "\n",
    "Target_Name = []\n",
    "Promoter_Name = []\n",
    "for target in Guide_Dictionary.keys():\n",
    "    try:\n",
    "        if target.split('_')[0] not in ENH_DICT.keys():\n",
    "            continue\n",
    "        if target.split('_')[1].startswith('PROM'):\n",
    "            Target_Name.append(target.split('_')[0])\n",
    "            Promoter_Name.append(target)\n",
    "    except:\n",
    "        continue\n",
    "        \n",
    "Prom_Set = []\n",
    "for target in np.unique(Target_Name):\n",
    "    Target_Set = []\n",
    "    for target_prom in Promoter_Name:\n",
    "        if target_prom.split('_')[0] == target:\n",
    "            Target_Set.append(target_prom)\n",
    "    Prom_Set.append(Target_Set)\n",
    "    \n",
    "PROM_DICT = dict(zip(np.unique(Target_Name), Prom_Set))\n",
    "\n",
    "### Add Missing TBX5 Set from Sean\n",
    "PROM_DICT['TBX5'].append('TBX5_P1')\n",
    "PROM_DICT['TBX5'].append('TBX5_P2')\n",
    "PROM_DICT['TBX5'].append('TBX5_AS1_P1')\n",
    "PROM_DICT['TBX5'].append('TBX5_AS1_P2')"
   ]
  },
  {
   "cell_type": "code",
   "execution_count": 8,
   "metadata": {},
   "outputs": [],
   "source": [
    "tran_matrix = SC_DF\n",
    "t_dict = Guide_Dictionary\n",
    "s_dict = SGRNA_CELLS_DIC\n",
    "\n",
    "dep_target_values = []\n",
    "enr_target_values = []\n",
    "Target_List = []\n",
    "for target in Guide_Dictionary.keys():\n",
    "    control_list = Clean_NC_Cells\n",
    "    if target  == 'NC':\n",
    "        for nc in Guide_Dictionary[target]:\n",
    "            Target_List.append(nc)\n",
    "            CELL_LIST = s_dict[nc]\n",
    "            nc_controls = []\n",
    "            for cell in Clean_NC_Cells:\n",
    "                if cell not in CELL_LIST:\n",
    "                    nc_controls.append(cell)\n",
    "            dep_clust_values, cluster_list = cluster_bias(target_cells= CELL_LIST, control_cells = nc_controls, t_matrix=tran_matrix, direction = 'depletion')\n",
    "            enr_clust_values, cluster_list = cluster_bias(target_cells= CELL_LIST, control_cells = nc_controls, t_matrix=tran_matrix, direction = 'enrichment')\n",
    "\n",
    "            dep_target_values.append(dep_clust_values)\n",
    "            enr_target_values.append(enr_clust_values)\n",
    "    elif target == 'MALAT1':\n",
    "        Target_List.append(target)\n",
    "        CELL_LIST = s_dict[target]\n",
    "        dep_clust_values, cluster_list = cluster_bias(target_cells= CELL_LIST, control_cells = control_list, t_matrix=tran_matrix, direction = 'depletion')\n",
    "        enr_clust_values, cluster_list = cluster_bias(target_cells= CELL_LIST, control_cells = control_list, t_matrix=tran_matrix, direction = 'enrichment') \n",
    "        dep_target_values.append(dep_clust_values)\n",
    "        enr_target_values.append(enr_clust_values)\n",
    "    else:\n",
    "        Target_List.append(target)\n",
    "        guide_set = t_dict[target]\n",
    "        CELL_LIST = []\n",
    "        [CELL_LIST.extend(s_dict[Target_key]) for Target_key in list(guide_set)]\n",
    "        dep_clust_values, cluster_list = cluster_bias(target_cells= CELL_LIST, control_cells = control_list, t_matrix=tran_matrix, direction = 'depletion')\n",
    "        enr_clust_values, cluster_list = cluster_bias(target_cells= CELL_LIST, control_cells = control_list, t_matrix=tran_matrix, direction = 'enrichment') \n",
    "        dep_target_values.append(dep_clust_values)\n",
    "        enr_target_values.append(enr_clust_values)\n",
    "        \n",
    "CM_filtered_dep_CM = pd.DataFrame(data = dep_target_values, columns  = tran_matrix.obs.louvain.cat.categories.tolist(), index= Target_List)  \n",
    "CM_filtered_enr_CM = pd.DataFrame(data = enr_target_values, columns  = tran_matrix.obs.louvain.cat.categories.tolist(), index= Target_List)  "
   ]
  },
  {
   "cell_type": "markdown",
   "metadata": {},
   "source": [
    "# TBX5 Percents"
   ]
  },
  {
   "cell_type": "code",
   "execution_count": 14,
   "metadata": {},
   "outputs": [],
   "source": [
    "%%capture\n",
    "\n",
    "cluster_order = ['1', '2']\n",
    "\n",
    "target = 'TBX5_PROM1'\n",
    "Target_Cells = []\n",
    "[Target_Cells.extend(SGRNA_CELLS_DIC[i]) for i in Guide_Dictionary[target]]\n",
    "Target_DF = SC_DF[Target_Cells]\n",
    "\n",
    "Target_Percents = []\n",
    "for clust in cluster_order:\n",
    "    Target_Percents.append((Target_DF[Target_DF.obs.louvain == clust].shape[0]/Target_DF.shape[0])*100)\n",
    "\n",
    "NC_Percents = []\n",
    "NC_DF = SC_DF[Clean_NC_Cells]\n",
    "for clust in cluster_order:\n",
    "    NC_Percents.append((NC_DF[NC_DF.obs.louvain == clust].shape[0]/NC_DF.shape[0])*100)"
   ]
  },
  {
   "cell_type": "code",
   "execution_count": 15,
   "metadata": {},
   "outputs": [
    {
     "data": {
      "image/png": "[encoded data removed]",
      "text/plain": [
       "<Figure size 720x216 with 1 Axes>"
      ]
     },
     "metadata": {
      "needs_background": "light"
     },
     "output_type": "display_data"
    }
   ],
   "source": [
    "plt.rcParams.update({'font.size': 20})\n",
    "\n",
    "fig, ax = plt.subplots(figsize=(10,3))\n",
    "\n",
    "#labels = ['Cluster 0', 'Cluster 1', 'Cluster 2', 'Cluster 3','Cluster 4','Cluster 5','Cluster 6','Cluster 7']\n",
    "\n",
    "N=2\n",
    "ind = np.arange(N)\n",
    "\n",
    "width = 0.3       # the width of the bars: can also be len(x) sequence\n",
    "\n",
    "ax.bar(ind, NC_Percents, width, alpha = 0.7, label='NC', color = '#4c72b0')\n",
    "ax.bar(ind+width, Target_Percents, width,  alpha = 0.7,\n",
    "       label=target, color ='#c44e52')\n",
    "\n",
    "ax.set_ylabel('% in Cell Type')\n",
    "ax.set_title(target +  ' Percent Distribution Across Clusters')\n",
    "plt.xticks(ind + width*.5)\n",
    "plt.ylim(0,30)\n",
    "ax.legend()\n",
    "plt.legend(prop={'size': 15})\n",
    "plt.savefig('./All_Cluster_Percentage_TBX5_PROM1.pdf')\n",
    "plt.show()"
   ]
  },
  {
   "cell_type": "markdown",
   "metadata": {},
   "source": [
    "### Expression ViolinPlot"
   ]
  },
  {
   "cell_type": "code",
   "execution_count": 73,
   "metadata": {},
   "outputs": [
    {
     "data": {
      "text/plain": [
       "[None, None, None, None, None, None, None]"
      ]
     },
     "execution_count": 73,
     "metadata": {},
     "output_type": "execute_result"
    }
   ],
   "source": [
    "TBX5_ENH_Cells = []\n",
    "[TBX5_ENH_Cells.extend(SGRNA_CELLS_DIC[i]) for i in Guide_Dictionary['TBXEnh6']]\n",
    "\n",
    "TBX5_PROM_Cells = []\n",
    "[TBX5_PROM_Cells.extend(SGRNA_CELLS_DIC[i]) for i in Guide_Dictionary['TBX5_PROM1']]"
   ]
  },
  {
   "cell_type": "code",
   "execution_count": 74,
   "metadata": {},
   "outputs": [],
   "source": [
    "Target_SG = []\n",
    "for cell in SC_DF.obs.index:\n",
    "    if cell in Clean_NC_Cells:\n",
    "        Target_SG.append('NC')\n",
    "    elif cell in TBX5_PROM_Cells and cell not in TBX5_ENH_Cells:\n",
    "        Target_SG.append('TBX5_Prom1')\n",
    "    elif cell in TBX5_ENH_Cells and cell not in TBX5_PROM_Cells:\n",
    "        Target_SG.append('TBX5_Enh6')\n",
    "    else:\n",
    "        Target_SG.append('Other')\n",
    "SC_DF.obs['SG'] = Target_SG\n",
    "SC_DF_Subset = SC_DF[SC_DF.obs['SG'] != 'Other']"
   ]
  },
  {
   "cell_type": "code",
   "execution_count": 75,
   "metadata": {},
   "outputs": [],
   "source": [
    "SC_DF_Subset = SC_DF_Subset[SC_DF_Subset.obs.louvain == '1']"
   ]
  },
  {
   "cell_type": "code",
   "execution_count": 76,
   "metadata": {},
   "outputs": [],
   "source": [
    "Gene = 'NPPA'\n",
    "Gene_Pos = np.argwhere(SC_DF_Subset.raw.var_names == Gene)[0][0]\n",
    "TBX5_Prom1_Cells = SC_DF_Subset[SC_DF_Subset.obs.SG == 'TBX5_Prom1']\n",
    "TBX5_Enh6_Cells = SC_DF_Subset[SC_DF_Subset.obs.SG == 'TBX5_Enh6']\n",
    "NC_Cells = SC_DF_Subset[SC_DF_Subset.obs.SG == 'NC']"
   ]
  },
  {
   "cell_type": "code",
   "execution_count": 30,
   "metadata": {},
   "outputs": [
    {
     "data": {
      "image/png": "[encoded data removed]",
      "text/plain": [
       "<Figure size 432x288 with 1 Axes>"
      ]
     },
     "metadata": {
      "needs_background": "light"
     },
     "output_type": "display_data"
    }
   ],
   "source": [
    "plt.violinplot(NC_Cells.raw.X[:,Gene_Pos].todense().tolist()/np.log(2), positions=[0], showextrema=False)\n",
    "plt.violinplot(TBX5_Prom1_Cells.raw.X[:,Gene_Pos].todense().tolist()/np.log(2), positions=[.5], showextrema=False)\n",
    "plt.violinplot(TBX5_Enh6_Cells.raw.X[:,Gene_Pos].todense().tolist()/np.log(2), positions=[1], showextrema=False)\n",
    "\n",
    "\n",
    "plt.ylim(0)\n",
    "plt.savefig('/project/GCRB/Hon_lab/s425140/04.Figures/Cardio_Diff/Large_Scale/All_Violin_' + Gene + '.pdf')"
   ]
  },
  {
   "cell_type": "markdown",
   "metadata": {},
   "source": [
    "### Statistics (NPPA)"
   ]
  },
  {
   "cell_type": "code",
   "execution_count": 78,
   "metadata": {},
   "outputs": [
    {
     "data": {
      "text/plain": [
       "AAACCCAGTCTGTGTA-8            NC\n",
       "AAACCCATCGCCACTT-1    TBX5_Prom1\n",
       "AAACGAACATCCGATA-8            NC\n",
       "AAAGGATGTAGTGGCA-5            NC\n",
       "AAAGGATTCACTGGTA-4            NC\n",
       "                         ...    \n",
       "TTTGACTTCGCGTGAC-5            NC\n",
       "TTTGATCCAATGGCAG-8    TBX5_Prom1\n",
       "TTTGATCTCCAGCTCT-4            NC\n",
       "TTTGTTGAGTAGAATC-2            NC\n",
       "TTTGTTGTCATCTGTT-1            NC\n",
       "Name: SG, Length: 1041, dtype: object"
      ]
     },
     "execution_count": 78,
     "metadata": {},
     "output_type": "execute_result"
    }
   ],
   "source": [
    "SC_DF_Subset.obs.SG"
   ]
  },
  {
   "cell_type": "code",
   "execution_count": 79,
   "metadata": {},
   "outputs": [],
   "source": [
    "%%capture\n",
    "CM_Control = SC_DF_Subset[SC_DF_Subset.obs.SG == 'NC']\n",
    "Con_Mean = CM_Control.raw.X[:,Gene_Pos]/np.log(2)\n",
    "Con_Means = []\n",
    "[Con_Means.append(i[0]) for i in Con_Mean.mean(axis=1).tolist()]\n",
    "\n",
    "CM_Perturb = SC_DF_Subset[SC_DF_Subset.obs.SG == 'TBX5_Prom1']\n",
    "Perturb_Mean = CM_Perturb.raw.X[:,Gene_Pos]/np.log(2)\n",
    "Perturb_Prom = []\n",
    "[Perturb_Prom.append(i[0]) for i in Perturb_Mean.mean(axis=1).tolist()]\n",
    "\n",
    "CM_Perturb = SC_DF_Subset[SC_DF_Subset.obs.SG == 'TBX5_Enh6']\n",
    "Perturb_Mean = CM_Perturb.raw.X[:,Gene_Pos]/np.log(2)\n",
    "Perturb_Enh = []\n",
    "[Perturb_Enh.append(i[0]) for i in Perturb_Mean.mean(axis=1).tolist()]"
   ]
  },
  {
   "cell_type": "code",
   "execution_count": 80,
   "metadata": {},
   "outputs": [
    {
     "name": "stdout",
     "output_type": "stream",
     "text": [
      "p-val = 0.03401136791144638\n"
     ]
    }
   ],
   "source": [
    "print('p-val = ' + str(scipy.stats.mannwhitneyu(Perturb_Enh, Con_Means)[1]))"
   ]
  },
  {
   "cell_type": "code",
   "execution_count": 83,
   "metadata": {},
   "outputs": [
    {
     "name": "stdout",
     "output_type": "stream",
     "text": [
      "2.2250738585072014e-308\n"
     ]
    }
   ],
   "source": [
    "print(sys.float_info.min)"
   ]
  }
 ],
 "metadata": {
  "kernelspec": {
   "display_name": "hope",
   "language": "python",
   "name": "hope"
  },
  "language_info": {
   "codemirror_mode": {
    "name": "ipython",
    "version": 3
   },
   "file_extension": ".py",
   "mimetype": "text/x-python",
   "name": "python",
   "nbconvert_exporter": "python",
   "pygments_lexer": "ipython3",
   "version": "3.6.12"
  }
 },
 "nbformat": 4,
 "nbformat_minor": 2
}
