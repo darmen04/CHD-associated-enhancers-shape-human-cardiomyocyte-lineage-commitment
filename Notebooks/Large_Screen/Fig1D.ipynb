{
 "cells": [
  {
   "cell_type": "code",
   "execution_count": 1,
   "metadata": {},
   "outputs": [],
   "source": [
    "#import scrublet as scr\n",
    "import numpy as np\n",
    "import pandas as pd\n",
    "import statistics as st\n",
    "import re\n",
    "import csv\n",
    "import scanpy as sc \n",
    "import scanpy.external as sce\n",
    "import phate\n",
    "import matplotlib\n",
    "from matplotlib import pyplot as plt\n",
    "import warnings\n",
    "from scipy.stats import binom\n",
    "from scipy.stats import multinomial\n",
    "import seaborn as sns\n",
    "from scipy.stats import hypergeom\n",
    "import warnings\n",
    "warnings.filterwarnings('ignore')\n",
    "import matplotlib.patches as mpatches\n",
    "\n",
    "import scrublet as scr\n",
    "import harmonypy as hm\n",
    "import pickle\n",
    "from random import sample\n",
    "from matplotlib_venn import venn2\n",
    "import scipy"
   ]
  },
  {
   "cell_type": "markdown",
   "metadata": {},
   "source": [
    "### Load scData"
   ]
  },
  {
   "cell_type": "code",
   "execution_count": 2,
   "metadata": {},
   "outputs": [],
   "source": [
    "#SG_DF = pd.read_pickle('./DAP3_SGRNA_IND_072821.pkl')"
   ]
  },
  {
   "cell_type": "code",
   "execution_count": 3,
   "metadata": {},
   "outputs": [],
   "source": [
    "#CM_Cells = sc.read_h5ad('./DAP3_SC_CM_Pseudo_PHATE_Man_080521.h5ad')\n",
    "#CM_Ordered_Cells = CM_Cells[CM_Cells.obs['rank_pseudotime'].sort_values()]"
   ]
  },
  {
   "cell_type": "markdown",
   "metadata": {},
   "source": [
    "### Load RNA Seq Data"
   ]
  },
  {
   "cell_type": "code",
   "execution_count": 5,
   "metadata": {},
   "outputs": [],
   "source": [
    "#file_dir = './GSE76525'"
   ]
  },
  {
   "cell_type": "code",
   "execution_count": 6,
   "metadata": {},
   "outputs": [],
   "source": [
    "### Create sample name dictionary\n",
    "sample_keys = pd.read_csv(file_dir + 'samples.txt', delimiter='\\t', index_col=0).index\n",
    "sample_values = pd.read_csv(file_dir + 'samples.txt', delimiter='\\t', index_col=0)['condition'].tolist()\n",
    "sample_values[2] = 'D01'\n",
    "\n",
    "Sample_Dict = dict(zip(sample_keys,sample_values))"
   ]
  },
  {
   "cell_type": "markdown",
   "metadata": {},
   "source": [
    "### RNA-Seq RPKM Normalize"
   ]
  },
  {
   "cell_type": "code",
   "execution_count": 7,
   "metadata": {},
   "outputs": [],
   "source": [
    "Read_List = []\n",
    "Timepoint_List = []\n",
    "for key in Sample_Dict.keys():\n",
    "    s_reads = pd.read_csv(file_dir + key + '_feature_counts.txt', delimiter='\\t', header=1, index_col=0, usecols=[0,5,6]).iloc[:,1].values.tolist()\n",
    "    if sum(s_reads) == 0:\n",
    "        continue\n",
    "    rpm_factor = sum(s_reads)/1000000\n",
    "    rpm_reads = [read/rpm_factor for read in s_reads]\n",
    "    Read_List.append(rpm_reads)\n",
    "    Timepoint_List.append(Sample_Dict[key])"
   ]
  },
  {
   "cell_type": "code",
   "execution_count": 8,
   "metadata": {},
   "outputs": [],
   "source": [
    "### Load just one for values\n",
    "Initial_DF = pd.read_csv(file_dir + key + '_feature_counts.txt', delimiter='\\t', header=1, index_col=0, usecols=[0,5,6])"
   ]
  },
  {
   "cell_type": "code",
   "execution_count": 9,
   "metadata": {},
   "outputs": [],
   "source": [
    "RPM_DF = pd.DataFrame(data = Read_List, index=Timepoint_List, columns=pd.read_csv(file_dir + 'SRR3084936_feature_counts.txt', delimiter='\\t', header=1, index_col=0, usecols=[0,5,6]).index).T"
   ]
  },
  {
   "cell_type": "code",
   "execution_count": 10,
   "metadata": {},
   "outputs": [],
   "source": [
    "RPKM_DF = RPM_DF.iloc[:,0:].div(Initial_DF['Length'], axis=0)"
   ]
  },
  {
   "cell_type": "code",
   "execution_count": 11,
   "metadata": {},
   "outputs": [],
   "source": [
    "### Average replicates\n",
    "RPKM_DF = RPKM_DF.groupby(RPKM_DF.columns, axis=1).mean()"
   ]
  },
  {
   "cell_type": "markdown",
   "metadata": {},
   "source": [
    "### When are our target genes most highly expressed?"
   ]
  },
  {
   "cell_type": "code",
   "execution_count": 13,
   "metadata": {},
   "outputs": [],
   "source": [
    "## Unique list\n",
    "Target_List = []\n",
    "for target in SG_DF.columns:\n",
    "    Target_List.append(target.split(':')[0])\n",
    "Unique_Target_List = np.unique(Target_List)"
   ]
  },
  {
   "cell_type": "code",
   "execution_count": 14,
   "metadata": {},
   "outputs": [],
   "source": [
    "# Dictionary to get individual sg name\n",
    "Target_Name = []\n",
    "Target_Guides = []\n",
    "\n",
    "for target in Unique_Target_List:\n",
    "    Target_Name.append(target)\n",
    "    if Target_List.count(target) == 1:\n",
    "        Target_Guides.append(target)\n",
    "    else:\n",
    "        Target_Guide_Range = list(range(Target_List.count(target)))\n",
    "        \n",
    "        Subset_Guides = []\n",
    "        for guide in Target_Guide_Range:\n",
    "            Subset_Guides.append(target + ':' + str(guide + 1))\n",
    "        Target_Guides.append(Subset_Guides)\n",
    "Guide_Dictionary = dict(zip(Target_Name,Target_Guides))"
   ]
  },
  {
   "cell_type": "code",
   "execution_count": 15,
   "metadata": {},
   "outputs": [],
   "source": [
    "Promoters = []\n",
    "for target in Guide_Dictionary.keys():\n",
    "    try:\n",
    "        if target.split('_')[1].startswith('PROM'):\n",
    "            Promoters.append(target.split('_')[0])\n",
    "    except:\n",
    "        continue\n",
    "Uni_Prom = np.unique(Promoters)"
   ]
  },
  {
   "cell_type": "code",
   "execution_count": 16,
   "metadata": {},
   "outputs": [],
   "source": [
    "Target_List = []\n",
    "Target_TP = []\n",
    "for target in Uni_Prom:\n",
    "    Target_List.append(target)\n",
    "    Target_TP.append(RPKM_DF.columns[np.argwhere(np.asarray(RPKM_DF.loc[target]) == RPKM_DF.loc[target].max())[0][0]])\n",
    "TP_Gene_DF = pd.DataFrame(data = Target_TP, index=Target_List)"
   ]
  },
  {
   "cell_type": "markdown",
   "metadata": {},
   "source": [
    "### Target Gene Expression Through Pseudotime"
   ]
  },
  {
   "cell_type": "code",
   "execution_count": 25,
   "metadata": {},
   "outputs": [],
   "source": [
    "## Unique list\n",
    "Target_List = []\n",
    "for target in SG_DF.columns:\n",
    "    Target_List.append(target.split(':')[0])\n",
    "Unique_Target_List = np.unique(Target_List)"
   ]
  },
  {
   "cell_type": "code",
   "execution_count": 26,
   "metadata": {},
   "outputs": [],
   "source": [
    "# Dictionary to get individual sg name\n",
    "Target_Name = []\n",
    "Target_Guides = []\n",
    "\n",
    "for target in Unique_Target_List:\n",
    "    Target_Name.append(target)\n",
    "    if Target_List.count(target) == 1:\n",
    "        Target_Guides.append(target)\n",
    "    else:\n",
    "        Target_Guide_Range = list(range(Target_List.count(target)))\n",
    "        \n",
    "        Subset_Guides = []\n",
    "        for guide in Target_Guide_Range:\n",
    "            Subset_Guides.append(target + ':' + str(guide + 1))\n",
    "        Target_Guides.append(Subset_Guides)\n",
    "Guide_Dictionary = dict(zip(Target_Name,Target_Guides))"
   ]
  },
  {
   "cell_type": "code",
   "execution_count": 27,
   "metadata": {},
   "outputs": [],
   "source": [
    "Promoters = []\n",
    "for target in Guide_Dictionary.keys():\n",
    "    try:\n",
    "        if target.split('_')[1].startswith('PROM'):\n",
    "            Promoters.append(target.split('_')[0])\n",
    "    except:\n",
    "        continue\n",
    "Uni_Prom = np.unique(Promoters).tolist()"
   ]
  },
  {
   "cell_type": "code",
   "execution_count": 28,
   "metadata": {},
   "outputs": [],
   "source": [
    "Target_List = []\n",
    "Target_TP = []\n",
    "for target in Uni_Prom:\n",
    "    Target_List.append(target)\n",
    "    Target_TP.append(RPKM_DF.loc[target].tolist())\n",
    "TP_Gene_DF = pd.DataFrame(data = Target_TP, index=Target_List, columns=RPKM_DF.columns)"
   ]
  },
  {
   "cell_type": "code",
   "execution_count": 29,
   "metadata": {},
   "outputs": [],
   "source": [
    "#FC_Gene_DF_Temp = TP_Gene_DF.sub(TP_Gene_DF['D00'],axis=0)\n",
    "FC_Gene_DF = TP_Gene_DF.div(TP_Gene_DF['D00'],axis=0)"
   ]
  },
  {
   "cell_type": "code",
   "execution_count": 30,
   "metadata": {},
   "outputs": [],
   "source": [
    "Ordered_Genes = []\n",
    "End_Genes = []\n",
    "for gene in FC_Gene_DF.sort_values(by='D01', ascending=False).index:\n",
    "    if sum(FC_Gene_DF.loc[gene] > 1) > 0:\n",
    "        Ordered_Genes.append(gene)\n",
    "    else:\n",
    "        End_Genes.append(gene)"
   ]
  },
  {
   "cell_type": "code",
   "execution_count": 31,
   "metadata": {},
   "outputs": [],
   "source": [
    "Ordered_Genes = Ordered_Genes + End_Genes"
   ]
  },
  {
   "cell_type": "code",
   "execution_count": 39,
   "metadata": {},
   "outputs": [
    {
     "data": {
      "image/png": "[encoded data removed]",
      "text/plain": [
       "<Figure size 720x288 with 2 Axes>"
      ]
     },
     "metadata": {
      "needs_background": "light"
     },
     "output_type": "display_data"
    }
   ],
   "source": [
    "fig, ax = plt.subplots(1, figsize=(10,4))\n",
    "h = sns.heatmap(np.log2(FC_Gene_DF.sort_index()),cmap=\"vlag\", vmin=-7,center=0,vmax=7)\n",
    "plt.savefig('./BULK_RNA_Targeted_Genes.pdf')"
   ]
  }
 ],
 "metadata": {
  "kernelspec": {
   "display_name": "hope",
   "language": "python",
   "name": "hope"
  },
  "language_info": {
   "codemirror_mode": {
    "name": "ipython",
    "version": 3
   },
   "file_extension": ".py",
   "mimetype": "text/x-python",
   "name": "python",
   "nbconvert_exporter": "python",
   "pygments_lexer": "ipython3",
   "version": "3.6.12"
  }
 },
 "nbformat": 4,
 "nbformat_minor": 2
}
