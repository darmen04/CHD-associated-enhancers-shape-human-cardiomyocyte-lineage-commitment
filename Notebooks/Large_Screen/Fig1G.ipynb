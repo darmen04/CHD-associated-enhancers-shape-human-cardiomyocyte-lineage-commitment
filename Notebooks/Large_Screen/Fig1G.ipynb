{
 "cells": [
  {
   "cell_type": "code",
   "execution_count": 1,
   "metadata": {},
   "outputs": [],
   "source": [
    "#import scrublet as scr\n",
    "import numpy as np\n",
    "import pandas as pd\n",
    "import statistics as st\n",
    "import re\n",
    "import csv\n",
    "import scanpy as sc \n",
    "import scanpy.external as sce\n",
    "import phate\n",
    "import matplotlib\n",
    "from matplotlib import pyplot as plt\n",
    "import warnings\n",
    "from scipy.stats import binom\n",
    "from scipy.stats import multinomial\n",
    "import scipy\n",
    "import seaborn\n",
    "import sys\n",
    "from scipy.stats import hypergeom\n",
    "import warnings\n",
    "warnings.filterwarnings('ignore')\n",
    "import pickle\n",
    "import scrublet as scr\n",
    "import harmonypy as hm\n",
    "from random import sample"
   ]
  },
  {
   "cell_type": "markdown",
   "metadata": {},
   "source": [
    "### Load Data"
   ]
  },
  {
   "cell_type": "code",
   "execution_count": 2,
   "metadata": {},
   "outputs": [],
   "source": [
    "#SC_DF = sc.read_h5ad('./DAP3_SC_072821.h5ad')"
   ]
  },
  {
   "cell_type": "code",
   "execution_count": 3,
   "metadata": {},
   "outputs": [],
   "source": [
    "PATH = '../../Data/Pickles/'\n",
    "Dict_File = open(PATH + \"ALL_Large_sgRNA_Dic_Filtered.pkl\", \"rb\")\n",
    "SGRNA_CELLS_DIC = pickle.load(Dict_File)"
   ]
  },
  {
   "cell_type": "code",
   "execution_count": 4,
   "metadata": {},
   "outputs": [],
   "source": [
    "PATH = '../../Data/Pickles/'\n",
    "Dict_File = open(PATH + \"Guide_Dictionary_Filtered.pkl\", \"rb\")\n",
    "Guide_Dictionary = pickle.load(Dict_File)"
   ]
  },
  {
   "cell_type": "code",
   "execution_count": 5,
   "metadata": {},
   "outputs": [
    {
     "data": {
      "text/plain": [
       "[None, None, None, None]"
      ]
     },
     "execution_count": 5,
     "metadata": {},
     "output_type": "execute_result"
    }
   ],
   "source": [
    "Clean_NC_Cells = []\n",
    "[Clean_NC_Cells.extend(SGRNA_CELLS_DIC[i]) for i in Guide_Dictionary['NC']]"
   ]
  },
  {
   "cell_type": "markdown",
   "metadata": {},
   "source": [
    "### Malat 1 Repression"
   ]
  },
  {
   "cell_type": "code",
   "execution_count": 6,
   "metadata": {},
   "outputs": [],
   "source": [
    "Target_SG = []\n",
    "Target_SG_Grouped = []\n",
    "\n",
    "for cell in SC_DF.obs.index:\n",
    "    if cell in SGRNA_CELLS_DIC['MALAT1']:\n",
    "        Target_SG.append('sgMALAT1')\n",
    "        Target_SG_Grouped.append('sgMALAT1')\n",
    "    elif cell in Clean_NC_Cells:\n",
    "        for NC in Guide_Dictionary['NC']:\n",
    "            if cell in SGRNA_CELLS_DIC[NC]:\n",
    "                Target_SG_Grouped.append('NC')\n",
    "                Target_SG.append(NC)\n",
    "    else:\n",
    "        Target_SG.append('Other')\n",
    "        Target_SG_Grouped.append('Other')"
   ]
  },
  {
   "cell_type": "code",
   "execution_count": 7,
   "metadata": {},
   "outputs": [],
   "source": [
    "SC_DF_Group = SC_DF\n",
    "SC_DF_Group.obs['SG'] = Target_SG_Grouped\n",
    "SC_DF_Group_Subset = SC_DF_Group[SC_DF_Group.obs['SG'] != 'Other']\n",
    "\n",
    "\n",
    "SC_DF.obs['SG'] = Target_SG\n",
    "SC_DF_Subset = SC_DF[SC_DF.obs['SG'] != 'Other']"
   ]
  },
  {
   "cell_type": "code",
   "execution_count": 8,
   "metadata": {},
   "outputs": [
    {
     "name": "stderr",
     "output_type": "stream",
     "text": [
      "Trying to set attribute `.obs` of view, copying.\n",
      "... storing 'SG' as categorical\n"
     ]
    }
   ],
   "source": [
    "sc.tl.rank_genes_groups(SC_DF_Group_Subset, groupby = 'SG',method = 'wilcoxon')"
   ]
  },
  {
   "cell_type": "code",
   "execution_count": 9,
   "metadata": {},
   "outputs": [
    {
     "name": "stdout",
     "output_type": "stream",
     "text": [
      "28.1454630165143% reduction in expression of MALAT1.\n"
     ]
    }
   ],
   "source": [
    "Gene = 'MALAT1'\n",
    "Gene_Pos = np.argwhere(SC_DF_Group_Subset.raw.var_names == Gene)[0][0]\n",
    "Target_Val = SC_DF_Group_Subset[SC_DF_Group_Subset.obs.SG == 'sgMALAT1'].raw.X[:, Gene_Pos].mean()/np.log(2)\n",
    "NC_Val = SC_DF_Group_Subset[SC_DF_Group_Subset.obs.SG == 'NC'].raw.X[:, Gene_Pos].mean()/np.log(2)\n",
    "print(str(100-(Target_Val/NC_Val*100)) + '% reduction in expression of MALAT1.')"
   ]
  },
  {
   "cell_type": "code",
   "execution_count": 10,
   "metadata": {},
   "outputs": [],
   "source": [
    "Gene = 'MALAT1'\n",
    "Gene_Pos = np.argwhere(SC_DF.raw.var_names == Gene)[0][0]\n",
    "Perturbed_Cells = SC_DF[SC_DF.obs.SG == 'sgMALAT1']\n",
    "NC1_Cells = SC_DF[SC_DF.obs.SG == 'NC:1']\n",
    "NC2_Cells = SC_DF[SC_DF.obs.SG == 'NC:2']\n",
    "NC3_Cells = SC_DF[SC_DF.obs.SG == 'NC:3']\n",
    "NC4_Cells = SC_DF[SC_DF.obs.SG == 'NC:4']"
   ]
  },
  {
   "cell_type": "code",
   "execution_count": 11,
   "metadata": {},
   "outputs": [
    {
     "data": {
      "image/png": "[encoded data removed]",
      "text/plain": [
       "<Figure size 432x288 with 1 Axes>"
      ]
     },
     "metadata": {
      "needs_background": "light"
     },
     "output_type": "display_data"
    }
   ],
   "source": [
    "plt.violinplot(NC1_Cells.raw.X[:,Gene_Pos].todense().tolist()/np.log(2), positions=[0], showextrema=False)\n",
    "plt.violinplot(NC2_Cells.raw.X[:,Gene_Pos].todense().tolist()/np.log(2), positions=[0.5], showextrema=False)\n",
    "plt.violinplot(NC3_Cells.raw.X[:,Gene_Pos].todense().tolist()/np.log(2), positions=[1], showextrema=False)\n",
    "plt.violinplot(NC4_Cells.raw.X[:,Gene_Pos].todense().tolist()/np.log(2), positions=[1.5], showextrema=False)\n",
    "plt.violinplot(Perturbed_Cells.raw.X[:,Gene_Pos].todense().tolist()/np.log(2), positions=[2], showextrema=False)\n",
    "\n",
    "\n",
    "plt.ylim(0)\n",
    "plt.savefig('./All_Violin_' + Gene + '.pdf')"
   ]
  },
  {
   "cell_type": "markdown",
   "metadata": {},
   "source": [
    "### Statistics (MALAT1)"
   ]
  },
  {
   "cell_type": "code",
   "execution_count": 12,
   "metadata": {},
   "outputs": [],
   "source": [
    "%%capture\n",
    "CM_Control = SC_DF_Group_Subset[SC_DF_Group_Subset.obs.SG == 'NC']\n",
    "Con_Mean = CM_Control.raw.X[:,Gene_Pos]/np.log(2)\n",
    "Con_Means = []\n",
    "[Con_Means.append(i[0]) for i in Con_Mean.mean(axis=1).tolist()]\n",
    "\n",
    "CM_Perturb = SC_DF_Group_Subset[SC_DF_Group_Subset.obs.SG == 'sgMALAT1']\n",
    "Perturb_Mean = CM_Perturb.raw.X[:,Gene_Pos]/np.log(2)\n",
    "Perturb_Means = []\n",
    "[Perturb_Means.append(i[0]) for i in Perturb_Mean.mean(axis=1).tolist()]\n",
    "\n"
   ]
  },
  {
   "cell_type": "code",
   "execution_count": 13,
   "metadata": {},
   "outputs": [
    {
     "name": "stdout",
     "output_type": "stream",
     "text": [
      "p-val = 0.0\n"
     ]
    }
   ],
   "source": [
    "print('p-val = ' + str(scipy.stats.mannwhitneyu(Perturb_Means, Con_Means)[1]))"
   ]
  }
 ],
 "metadata": {
  "kernelspec": {
   "display_name": "hope",
   "language": "python",
   "name": "hope"
  },
  "language_info": {
   "codemirror_mode": {
    "name": "ipython",
    "version": 3
   },
   "file_extension": ".py",
   "mimetype": "text/x-python",
   "name": "python",
   "nbconvert_exporter": "python",
   "pygments_lexer": "ipython3",
   "version": "3.6.12"
  }
 },
 "nbformat": 4,
 "nbformat_minor": 2
}
