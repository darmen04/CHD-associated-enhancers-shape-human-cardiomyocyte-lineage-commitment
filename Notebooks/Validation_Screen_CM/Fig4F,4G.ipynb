{
 "cells": [
  {
   "cell_type": "code",
   "execution_count": 1,
   "metadata": {},
   "outputs": [],
   "source": [
    "#import scrublet as scr\n",
    "import numpy as np\n",
    "import pandas as pd\n",
    "import statistics as st\n",
    "import re\n",
    "import csv\n",
    "import scanpy as sc \n",
    "import scanpy.external as sce\n",
    "import phate\n",
    "import matplotlib\n",
    "from matplotlib import pyplot as plt\n",
    "import warnings\n",
    "import scipy\n",
    "from scipy.stats import binom\n",
    "from scipy.stats import multinomial\n",
    "import seaborn as sns\n",
    "from numpy.polynomial.polynomial import polyfit\n",
    "from scipy.stats import hypergeom\n",
    "import warnings\n",
    "warnings.filterwarnings('ignore')\n",
    "import scrublet as scr\n",
    "import harmonypy as hm\n",
    "import pickle\n",
    "from random import sample\n",
    "from matplotlib_venn import venn2\n",
    "from _util_updated import cluster_bias"
   ]
  },
  {
   "cell_type": "code",
   "execution_count": 2,
   "metadata": {},
   "outputs": [],
   "source": [
    "#SG_DF = pd.read_pickle('./Focused_SGRNA_IND_091121.pkl')"
   ]
  },
  {
   "cell_type": "code",
   "execution_count": 3,
   "metadata": {},
   "outputs": [],
   "source": [
    "#CM_Cells = sc.read_h5ad('./Focused_PHATE_092121.h5ad')\n",
    "CM_Ordered_Cells = CM_Cells[CM_Cells.obs['rank_pseudotime'].sort_values()]"
   ]
  },
  {
   "cell_type": "code",
   "execution_count": 4,
   "metadata": {},
   "outputs": [],
   "source": [
    "PATH = '../../Data/Pickles/'\n",
    "Dict_File = open(PATH + \"CM_FILTERED_DICT_080521.pkl\", \"rb\")\n",
    "CM_FILTERED_DICT = pickle.load(Dict_File)"
   ]
  },
  {
   "cell_type": "markdown",
   "metadata": {},
   "source": [
    "### Process sgRNA"
   ]
  },
  {
   "cell_type": "code",
   "execution_count": 5,
   "metadata": {},
   "outputs": [],
   "source": [
    "cell_list = []\n",
    "for cell in SG_DF.index:\n",
    "    if cell in CM_Cells.obs.index:\n",
    "        cell_list.append(cell)\n",
    "SG_DF = SG_DF.loc[cell_list]"
   ]
  },
  {
   "cell_type": "code",
   "execution_count": 6,
   "metadata": {},
   "outputs": [],
   "source": [
    "### Make Dict of sgRNA \n",
    "SG_Targets = []\n",
    "for sg in SG_DF.columns:\n",
    "    SG_Targets.append(sg.split('_')[0])\n",
    "SG_Targets = np.unique(SG_Targets)\n",
    "\n",
    "SG_Name = []\n",
    "SG_Indi = []\n",
    "for sg in SG_Targets:\n",
    "    if sg == 'NC_Blank':\n",
    "        SG_Name.append('NC')\n",
    "        SG_Indi.append('NC_Blank')\n",
    "    else:\n",
    "        SG_Name.append(sg)\n",
    "        sg_list = []\n",
    "        for indi in SG_DF.columns:\n",
    "            if indi.split('_')[0] == sg:\n",
    "                sg_list.append(indi)\n",
    "        SG_Indi.append(sg_list)\n",
    "Guide_Dictionary = dict(zip(SG_Name, SG_Indi))"
   ]
  },
  {
   "cell_type": "code",
   "execution_count": 7,
   "metadata": {},
   "outputs": [],
   "source": [
    "### Cells for each sgRNA\n",
    "Cell_List = []\n",
    "for target in SG_DF.columns:\n",
    "    Cell_Subset = []\n",
    "    if target == 'NC_Blank':\n",
    "        for cell in SG_DF.index:\n",
    "            if sum(SG_DF.loc[cell] >0) != 1:\n",
    "                continue\n",
    "            if SG_DF.loc[cell][target] >0:\n",
    "                Cell_Subset.append(cell)\n",
    "    else:\n",
    "        [Cell_Subset.append(i) for i in SG_DF[SG_DF[target] > 0].index]\n",
    "    Cell_List.append(Cell_Subset)\n",
    "SG_Dictionary = dict(zip(SG_DF.columns, Cell_List))"
   ]
  },
  {
   "cell_type": "code",
   "execution_count": 8,
   "metadata": {},
   "outputs": [],
   "source": [
    "### List of perturbed cells\n",
    "Perturbed_Cells = []\n",
    "for target in Guide_Dictionary.keys():\n",
    "    if target == 'NC':\n",
    "        continue\n",
    "        \n",
    "    Filtered_SG = [i for i in Guide_Dictionary[target] if int(i.split('_')[1]) not in CM_FILTERED_DICT[target]]\n",
    "    for i in Filtered_SG:\n",
    "        Perturbed_Cells.extend(SG_Dictionary[i])\n",
    "    \n",
    "Perturbed_Cells = np.unique(Perturbed_Cells)"
   ]
  },
  {
   "cell_type": "code",
   "execution_count": 9,
   "metadata": {},
   "outputs": [],
   "source": [
    "sg_id = []\n",
    "for cell in CM_Cells.obs.index:\n",
    "    if cell in SG_Dictionary['NC_Blank']:\n",
    "        sg_id.append('NC')\n",
    "    elif cell in Perturbed_Cells:\n",
    "        sg_id.append('TBX5_ENH')\n",
    "    else:\n",
    "        sg_id.append('Other')\n",
    "CM_Cells.obs['sg_id'] = sg_id"
   ]
  },
  {
   "cell_type": "code",
   "execution_count": 10,
   "metadata": {},
   "outputs": [],
   "source": [
    "CM_Cells_Perturbed = CM_Cells[CM_Cells.obs.sg_id != 'Other']"
   ]
  },
  {
   "cell_type": "code",
   "execution_count": 11,
   "metadata": {},
   "outputs": [],
   "source": [
    "CM_Cells_Perturbed = CM_Cells_Perturbed[CM_Cells_Perturbed.obs.sort_values(by ='rank_pseudotime').index]"
   ]
  },
  {
   "cell_type": "markdown",
   "metadata": {},
   "source": [
    "### Get Gene Set"
   ]
  },
  {
   "cell_type": "code",
   "execution_count": 12,
   "metadata": {},
   "outputs": [],
   "source": [
    "CM_Cells_Clean = CM_Cells[CM_Cells.obs.sg_id != 'Other']\n",
    "CM_Cells_Clean = CM_Cells_Clean[CM_Cells_Clean.obs.sg_id == 'NC']"
   ]
  },
  {
   "cell_type": "code",
   "execution_count": 13,
   "metadata": {},
   "outputs": [
    {
     "name": "stderr",
     "output_type": "stream",
     "text": [
      "Trying to set attribute `.obs` of view, copying.\n",
      "... storing 'sg_id' as categorical\n"
     ]
    }
   ],
   "source": [
    "sc.tl.rank_genes_groups(CM_Cells_Clean, groupby='louvain', method='wilcoxon', groups=['0', '1'])"
   ]
  },
  {
   "cell_type": "code",
   "execution_count": 14,
   "metadata": {},
   "outputs": [
    {
     "data": {
      "image/png": "[encoded data removed]",
      "text/plain": [
       "<Figure size 864x288 with 2 Axes>"
      ]
     },
     "metadata": {
      "needs_background": "light"
     },
     "output_type": "display_data"
    }
   ],
   "source": [
    "sc.pl.rank_genes_groups(CM_Cells_Clean, groupby='louvain', method='wilcoxon')"
   ]
  },
  {
   "cell_type": "code",
   "execution_count": 15,
   "metadata": {},
   "outputs": [],
   "source": [
    "CM_Cells_Perturbed_Ordered = CM_Cells_Perturbed[CM_Cells_Perturbed.obs.sort_values(by='rank_pseudotime').index]"
   ]
  },
  {
   "cell_type": "markdown",
   "metadata": {},
   "source": [
    "### Heatmap"
   ]
  },
  {
   "cell_type": "code",
   "execution_count": 72,
   "metadata": {},
   "outputs": [],
   "source": [
    "%%capture\n",
    "Cluster = '0'\n",
    "Pos_Genes = CM_Cells_Clean.uns['rank_genes_groups']['names'][Cluster][CM_Cells_Clean.uns['rank_genes_groups']['scores'][Cluster] > 0]\n",
    "Pval_Genes = CM_Cells_Clean.uns['rank_genes_groups']['names'][Cluster][CM_Cells_Clean.uns['rank_genes_groups']['pvals_adj'][Cluster] < 0.05]\n",
    "Sig_Genes = [i for i in Pval_Genes if i in Pos_Genes]\n",
    "Sig_Gene_Raw_Index = []\n",
    "[Sig_Gene_Raw_Index.append(np.argwhere(CM_Cells.raw.var_names == i)[0][0]) for i in Sig_Genes]"
   ]
  },
  {
   "cell_type": "code",
   "execution_count": 73,
   "metadata": {},
   "outputs": [],
   "source": [
    "Bin_Size = 229\n",
    "Bins = list(range(0, CM_Cells.shape[0], Bin_Size))"
   ]
  },
  {
   "cell_type": "code",
   "execution_count": 74,
   "metadata": {},
   "outputs": [],
   "source": [
    "NC_Values = []\n",
    "Perturbed_Values = []\n",
    "\n",
    "for i, value in enumerate(Bins):\n",
    "    NC_Bin_Values = []\n",
    "    TBX5_Bin_Values = []\n",
    "\n",
    "    if Bins[i] == Bins[-1]:\n",
    "        Lower_Limit = Bins[i]\n",
    "        Binned_SC = CM_Cells_Perturbed[CM_Cells_Perturbed.obs['rank_pseudotime'] > Lower_Limit]\n",
    "    else:\n",
    "        Lower_Limit = Bins[i]\n",
    "        Upper_Limit = Bins[i+1]\n",
    "        Temp_SC = CM_Cells_Perturbed[CM_Cells_Perturbed.obs['rank_pseudotime'] >= Lower_Limit]\n",
    "        Binned_SC = Temp_SC[Temp_SC.obs['rank_pseudotime'] < Upper_Limit]\n",
    "    \n",
    "    for gene in Sig_Gene_Raw_Index:\n",
    "        NC_Bin_Values.append(Binned_SC[Binned_SC.obs.sg_id == 'NC'].raw.X[:,gene].mean())\n",
    "        TBX5_Bin_Values.append(Binned_SC[Binned_SC.obs.sg_id == 'TBX5_ENH'].raw.X[:,gene].mean())\n",
    "        \n",
    "    NC_Values.append(NC_Bin_Values)\n",
    "    Perturbed_Values.append(TBX5_Bin_Values)"
   ]
  },
  {
   "cell_type": "code",
   "execution_count": 75,
   "metadata": {},
   "outputs": [],
   "source": [
    "Perturbed_DF = pd.DataFrame(data=Perturbed_Values, columns=Sig_Genes).T\n",
    "NC_DF = pd.DataFrame(data=NC_Values, columns=Sig_Genes).T"
   ]
  },
  {
   "cell_type": "code",
   "execution_count": 76,
   "metadata": {},
   "outputs": [],
   "source": [
    "Log2_Exp = Perturbed_DF/np.log(2)\n",
    "Log2_Con = NC_DF/np.log(2)"
   ]
  },
  {
   "cell_type": "code",
   "execution_count": 77,
   "metadata": {},
   "outputs": [],
   "source": [
    "LOG2_FC_DF = Log2_Exp-Log2_Con"
   ]
  },
  {
   "cell_type": "code",
   "execution_count": 78,
   "metadata": {},
   "outputs": [],
   "source": [
    "LOG2_FC_DF['mean'] = LOG2_FC_DF.mean(axis=1)\n",
    "FC_DF = LOG2_FC_DF.sort_values('mean')"
   ]
  },
  {
   "cell_type": "code",
   "execution_count": 79,
   "metadata": {},
   "outputs": [],
   "source": [
    "Cluster_0_Interesting_Genes = ['HAS2', 'MYL6', 'MYL4']"
   ]
  },
  {
   "cell_type": "code",
   "execution_count": 80,
   "metadata": {},
   "outputs": [],
   "source": [
    "Heatmap_Pos = []\n",
    "for gene in Cluster_0_Interesting_Genes:\n",
    "    Heatmap_Pos.append(np.argwhere(FC_DF.index == gene)[0][0])"
   ]
  },
  {
   "cell_type": "code",
   "execution_count": 81,
   "metadata": {},
   "outputs": [
    {
     "data": {
      "image/png": "[encoded data removed]",
      "text/plain": [
       "<Figure size 432x288 with 2 Axes>"
      ]
     },
     "metadata": {
      "needs_background": "light"
     },
     "output_type": "display_data"
    }
   ],
   "source": [
    "h = sns.heatmap(FC_DF.drop( 'mean', axis=1), vmin=-.5, vmax=.5, center=0, cmap=\"vlag\")\n",
    "h.set_yticks(Heatmap_Pos)\n",
    "h.set_yticklabels(Cluster_0_Interesting_Genes)\n",
    "h.set_xticks([])\n",
    "plt.savefig('./CM_CLUST0_FC_RAW.pdf')"
   ]
  },
  {
   "cell_type": "code",
   "execution_count": 82,
   "metadata": {},
   "outputs": [],
   "source": [
    "Gene = 'HAS2'\n",
    "Gene_Pos = np.argwhere(CM_Cells.raw.var_names == Gene)[0][0]\n",
    "Perturbed_Cells = CM_Cells[CM_Cells.obs.sg_id == 'TBX5_ENH']\n",
    "NC_Cells = CM_Cells[CM_Cells.obs.sg_id == 'NC']"
   ]
  },
  {
   "cell_type": "code",
   "execution_count": 83,
   "metadata": {},
   "outputs": [
    {
     "data": {
      "image/png": "[encoded data removed]",
      "text/plain": [
       "<Figure size 432x288 with 1 Axes>"
      ]
     },
     "metadata": {
      "needs_background": "light"
     },
     "output_type": "display_data"
    }
   ],
   "source": [
    "clust2_NC = NC_Cells[NC_Cells.obs.louvain == '2']\n",
    "clust2_Perturbed = Perturbed_Cells[Perturbed_Cells.obs.louvain == '2']\n",
    "plt.violinplot(clust2_NC.raw.X[:,Gene_Pos].todense().tolist()/np.log(2), positions=[0], showextrema=False)\n",
    "plt.violinplot(clust2_Perturbed.raw.X[:,Gene_Pos].todense().tolist()/np.log(2), positions=[.5], showextrema=False)\n",
    "\n",
    "clust2_NC = NC_Cells[NC_Cells.obs.louvain == '0']\n",
    "clust2_Perturbed = Perturbed_Cells[Perturbed_Cells.obs.louvain == '0']\n",
    "plt.violinplot(clust2_NC.raw.X[:,Gene_Pos].todense().tolist()/np.log(2), positions=[1.5], showextrema=False)\n",
    "plt.violinplot(clust2_Perturbed.raw.X[:,Gene_Pos].todense().tolist()/np.log(2), positions=[2], showextrema=False)\n",
    "\n",
    "clust2_NC = NC_Cells[NC_Cells.obs.louvain == '1']\n",
    "clust2_Perturbed = Perturbed_Cells[Perturbed_Cells.obs.louvain == '1']\n",
    "plt.violinplot(clust2_NC.raw.X[:,Gene_Pos].todense().tolist()/np.log(2), positions=[3], showextrema=False)\n",
    "plt.violinplot(clust2_Perturbed.raw.X[:,Gene_Pos].todense().tolist()/np.log(2), positions=[3.5], showextrema=False)\n",
    "\n",
    "plt.ylim(0)\n",
    "plt.savefig('./CM_Violin_' + Gene + '.pdf')"
   ]
  },
  {
   "cell_type": "code",
   "execution_count": 84,
   "metadata": {},
   "outputs": [
    {
     "name": "stdout",
     "output_type": "stream",
     "text": [
      "p-val = 0.05661964166315996\n",
      "p-val = 0.0005754127225907028\n",
      "p-val = 0.1355501546365782\n"
     ]
    }
   ],
   "source": [
    "clust2_NC = NC_Cells[NC_Cells.obs.louvain == '2']\n",
    "clust2_Perturbed = Perturbed_Cells[Perturbed_Cells.obs.louvain == '2']\n",
    "print('p-val = ' + str(scipy.stats.mannwhitneyu(clust2_Perturbed.raw.X[:,Gene_Pos].todense().tolist()/np.log(2), clust2_NC.raw.X[:,Gene_Pos].todense().tolist()/np.log(2))[1]))\n",
    "clust2_NC = NC_Cells[NC_Cells.obs.louvain == '0']\n",
    "clust2_Perturbed = Perturbed_Cells[Perturbed_Cells.obs.louvain == '0']\n",
    "print('p-val = ' + str(scipy.stats.mannwhitneyu(clust2_Perturbed.raw.X[:,Gene_Pos].todense().tolist()/np.log(2), clust2_NC.raw.X[:,Gene_Pos].todense().tolist()/np.log(2))[1]))\n",
    "clust2_NC = NC_Cells[NC_Cells.obs.louvain == '1']\n",
    "clust2_Perturbed = Perturbed_Cells[Perturbed_Cells.obs.louvain == '1']\n",
    "print('p-val = ' + str(scipy.stats.mannwhitneyu(clust2_Perturbed.raw.X[:,Gene_Pos].todense().tolist()/np.log(2), clust2_NC.raw.X[:,Gene_Pos].todense().tolist()/np.log(2))[1]))"
   ]
  },
  {
   "cell_type": "code",
   "execution_count": 97,
   "metadata": {},
   "outputs": [],
   "source": [
    "clust2_NC = NC_Cells[NC_Cells.obs.louvain == '1']\n",
    "clust2_Perturbed = Perturbed_Cells[Perturbed_Cells.obs.louvain == '1']\n",
    "\n",
    "Control_Mean = clust2_NC.raw.X[:,Gene_Pos].mean()/np.log(2)\n",
    "Perturbed_Mean = clust2_Perturbed.raw.X[:,Gene_Pos].mean()/np.log(2)"
   ]
  },
  {
   "cell_type": "code",
   "execution_count": 100,
   "metadata": {},
   "outputs": [
    {
     "name": "stdout",
     "output_type": "stream",
     "text": [
      "1.4828073248348583 FC\n"
     ]
    }
   ],
   "source": [
    "print(str(Perturbed_Mean/Control_Mean) + ' FC')"
   ]
  },
  {
   "cell_type": "markdown",
   "metadata": {},
   "source": [
    "### Heatmap"
   ]
  },
  {
   "cell_type": "code",
   "execution_count": 59,
   "metadata": {},
   "outputs": [],
   "source": [
    "%%capture\n",
    "Cluster = '1'\n",
    "Pos_Genes = CM_Cells_Clean.uns['rank_genes_groups']['names'][Cluster][CM_Cells_Clean.uns['rank_genes_groups']['scores'][Cluster] > 0]\n",
    "Pval_Genes = CM_Cells_Clean.uns['rank_genes_groups']['names'][Cluster][CM_Cells_Clean.uns['rank_genes_groups']['pvals_adj'][Cluster] < 0.05]\n",
    "Sig_Genes = [i for i in Pval_Genes if i in Pos_Genes]\n",
    "Sig_Gene_Raw_Index = []\n",
    "[Sig_Gene_Raw_Index.append(np.argwhere(CM_Cells.raw.var_names == i)[0][0]) for i in Sig_Genes]"
   ]
  },
  {
   "cell_type": "code",
   "execution_count": 60,
   "metadata": {},
   "outputs": [],
   "source": [
    "Bin_Size = 229\n",
    "Bins = list(range(0, CM_Cells.shape[0], Bin_Size))"
   ]
  },
  {
   "cell_type": "code",
   "execution_count": 61,
   "metadata": {},
   "outputs": [],
   "source": [
    "NC_Values = []\n",
    "Perturbed_Values = []\n",
    "\n",
    "for i, value in enumerate(Bins):\n",
    "    NC_Bin_Values = []\n",
    "    TBX5_Bin_Values = []\n",
    "\n",
    "    if Bins[i] == Bins[-1]:\n",
    "        Lower_Limit = Bins[i]\n",
    "        Binned_SC = CM_Cells_Perturbed[CM_Cells_Perturbed.obs['rank_pseudotime'] > Lower_Limit]\n",
    "    else:\n",
    "        Lower_Limit = Bins[i]\n",
    "        Upper_Limit = Bins[i+1]\n",
    "        Temp_SC = CM_Cells_Perturbed[CM_Cells_Perturbed.obs['rank_pseudotime'] >= Lower_Limit]\n",
    "        Binned_SC = Temp_SC[Temp_SC.obs['rank_pseudotime'] < Upper_Limit]\n",
    "    \n",
    "    for gene in Sig_Gene_Raw_Index:\n",
    "        NC_Bin_Values.append(Binned_SC[Binned_SC.obs.sg_id == 'NC'].raw.X[:,gene].mean())\n",
    "        TBX5_Bin_Values.append(Binned_SC[Binned_SC.obs.sg_id == 'TBX5_ENH'].raw.X[:,gene].mean())\n",
    "    NC_Values.append(NC_Bin_Values)\n",
    "    Perturbed_Values.append(TBX5_Bin_Values)"
   ]
  },
  {
   "cell_type": "code",
   "execution_count": 62,
   "metadata": {},
   "outputs": [],
   "source": [
    "Perturbed_DF = pd.DataFrame(data=Perturbed_Values, columns=Sig_Genes).T\n",
    "NC_DF = pd.DataFrame(data=NC_Values, columns=Sig_Genes).T"
   ]
  },
  {
   "cell_type": "code",
   "execution_count": 63,
   "metadata": {},
   "outputs": [],
   "source": [
    "Log2_Exp = Perturbed_DF/np.log(2)\n",
    "Log2_Con = NC_DF/np.log(2)"
   ]
  },
  {
   "cell_type": "code",
   "execution_count": 64,
   "metadata": {},
   "outputs": [],
   "source": [
    "LOG2_FC_DF = Log2_Exp-Log2_Con"
   ]
  },
  {
   "cell_type": "code",
   "execution_count": 65,
   "metadata": {},
   "outputs": [],
   "source": [
    "LOG2_FC_DF['mean'] = LOG2_FC_DF.mean(axis=1)\n",
    "FC_DF = LOG2_FC_DF.sort_values('mean')"
   ]
  },
  {
   "cell_type": "code",
   "execution_count": 66,
   "metadata": {},
   "outputs": [],
   "source": [
    "Cluster_1_Interesting_Ges = ['NPPA', 'NPPB', 'MYL7', 'TNNT2', 'TNNC1']"
   ]
  },
  {
   "cell_type": "code",
   "execution_count": 67,
   "metadata": {},
   "outputs": [],
   "source": [
    "Heatmap_Pos = []\n",
    "for gene in Cluster_1_Interesting_Ges:\n",
    "    Heatmap_Pos.append(np.argwhere(FC_DF.index == gene)[0][0])"
   ]
  },
  {
   "cell_type": "code",
   "execution_count": 68,
   "metadata": {},
   "outputs": [
    {
     "data": {
      "image/png": "[encoded data removed]",
      "text/plain": [
       "<Figure size 432x288 with 2 Axes>"
      ]
     },
     "metadata": {
      "needs_background": "light"
     },
     "output_type": "display_data"
    }
   ],
   "source": [
    "h = sns.heatmap(FC_DF.drop( 'mean', axis=1), vmin=-.5, vmax=.5, center=0, cmap=\"vlag\")\n",
    "h.set_yticks(Heatmap_Pos)\n",
    "h.set_yticklabels(Cluster_1_Interesting_Ges)\n",
    "h.set_xticks([])\n",
    "plt.savefig('./CM_CLUST1_FC_RAW.pdf')"
   ]
  },
  {
   "cell_type": "code",
   "execution_count": 69,
   "metadata": {},
   "outputs": [],
   "source": [
    "Gene = 'NPPA'\n",
    "Gene_Pos = np.argwhere(CM_Cells.raw.var_names == Gene)[0][0]\n",
    "Perturbed_Cells = CM_Cells[CM_Cells.obs.sg_id == 'TBX5_ENH']\n",
    "NC_Cells = CM_Cells[CM_Cells.obs.sg_id == 'NC']"
   ]
  },
  {
   "cell_type": "code",
   "execution_count": 70,
   "metadata": {},
   "outputs": [
    {
     "data": {
      "image/png": "[encoded data removed]",
      "text/plain": [
       "<Figure size 432x288 with 1 Axes>"
      ]
     },
     "metadata": {
      "needs_background": "light"
     },
     "output_type": "display_data"
    }
   ],
   "source": [
    "clust2_NC = NC_Cells[NC_Cells.obs.louvain == '2']\n",
    "clust2_Perturbed = Perturbed_Cells[Perturbed_Cells.obs.louvain == '2']\n",
    "plt.violinplot(clust2_NC.raw.X[:,Gene_Pos].todense().tolist()/np.log(2), positions=[0], showextrema=False)\n",
    "plt.violinplot(clust2_Perturbed.raw.X[:,Gene_Pos].todense().tolist()/np.log(2), positions=[.5], showextrema=False)\n",
    "\n",
    "clust2_NC = NC_Cells[NC_Cells.obs.louvain == '0']\n",
    "clust2_Perturbed = Perturbed_Cells[Perturbed_Cells.obs.louvain == '0']\n",
    "plt.violinplot(clust2_NC.raw.X[:,Gene_Pos].todense().tolist()/np.log(2), positions=[1.5], showextrema=False)\n",
    "plt.violinplot(clust2_Perturbed.raw.X[:,Gene_Pos].todense().tolist()/np.log(2), positions=[2], showextrema=False)\n",
    "\n",
    "clust2_NC = NC_Cells[NC_Cells.obs.louvain == '1']\n",
    "clust2_Perturbed = Perturbed_Cells[Perturbed_Cells.obs.louvain == '1']\n",
    "plt.violinplot(clust2_NC.raw.X[:,Gene_Pos].todense().tolist()/np.log(2), positions=[3], showextrema=False)\n",
    "plt.violinplot(clust2_Perturbed.raw.X[:,Gene_Pos].todense().tolist()/np.log(2), positions=[3.5], showextrema=False)\n",
    "\n",
    "plt.ylim(0)\n",
    "plt.savefig('./CM_Violin_' + Gene + '.pdf')"
   ]
  },
  {
   "cell_type": "code",
   "execution_count": 71,
   "metadata": {},
   "outputs": [
    {
     "name": "stdout",
     "output_type": "stream",
     "text": [
      "p-val = 0.39812687426038174\n",
      "p-val = 0.19214995094572246\n",
      "p-val = 0.3243632589160935\n"
     ]
    }
   ],
   "source": [
    "clust2_NC = NC_Cells[NC_Cells.obs.louvain == '2']\n",
    "clust2_Perturbed = Perturbed_Cells[Perturbed_Cells.obs.louvain == '2']\n",
    "print('p-val = ' + str(scipy.stats.mannwhitneyu(clust2_Perturbed.raw.X[:,Gene_Pos].todense().tolist()/np.log(2), clust2_NC.raw.X[:,Gene_Pos].todense().tolist()/np.log(2))[1]))\n",
    "clust2_NC = NC_Cells[NC_Cells.obs.louvain == '0']\n",
    "clust2_Perturbed = Perturbed_Cells[Perturbed_Cells.obs.louvain == '0']\n",
    "print('p-val = ' + str(scipy.stats.mannwhitneyu(clust2_Perturbed.raw.X[:,Gene_Pos].todense().tolist()/np.log(2), clust2_NC.raw.X[:,Gene_Pos].todense().tolist()/np.log(2))[1]))\n",
    "clust2_NC = NC_Cells[NC_Cells.obs.louvain == '1']\n",
    "clust2_Perturbed = Perturbed_Cells[Perturbed_Cells.obs.louvain == '1']\n",
    "print('p-val = ' + str(scipy.stats.mannwhitneyu(clust2_Perturbed.raw.X[:,Gene_Pos].todense().tolist()/np.log(2), clust2_NC.raw.X[:,Gene_Pos].todense().tolist()/np.log(2))[1]))"
   ]
  }
 ],
 "metadata": {
  "kernelspec": {
   "display_name": "hope",
   "language": "python",
   "name": "hope"
  },
  "language_info": {
   "codemirror_mode": {
    "name": "ipython",
    "version": 3
   },
   "file_extension": ".py",
   "mimetype": "text/x-python",
   "name": "python",
   "nbconvert_exporter": "python",
   "pygments_lexer": "ipython3",
   "version": "3.6.12"
  }
 },
 "nbformat": 4,
 "nbformat_minor": 2
}
