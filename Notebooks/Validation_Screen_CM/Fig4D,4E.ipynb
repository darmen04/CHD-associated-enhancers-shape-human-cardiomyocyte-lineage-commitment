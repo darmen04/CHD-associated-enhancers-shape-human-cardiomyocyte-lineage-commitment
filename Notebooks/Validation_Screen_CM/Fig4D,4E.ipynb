{
 "cells": [
  {
   "cell_type": "code",
   "execution_count": 1,
   "metadata": {},
   "outputs": [],
   "source": [
    "#import scrublet as scr\n",
    "import numpy as np\n",
    "import pandas as pd\n",
    "import statistics as st\n",
    "import re\n",
    "import csv\n",
    "import scanpy as sc \n",
    "import scanpy.external as sce\n",
    "import phate\n",
    "import matplotlib\n",
    "from matplotlib import pyplot as plt\n",
    "import warnings\n",
    "import scipy\n",
    "from scipy.stats import binom\n",
    "from scipy.stats import multinomial\n",
    "import seaborn as sns\n",
    "from scipy.stats import hypergeom\n",
    "import warnings\n",
    "warnings.filterwarnings('ignore')\n",
    "import scrublet as scr\n",
    "import harmonypy as hm\n",
    "import pickle\n",
    "from random import sample\n",
    "from matplotlib_venn import venn2\n",
    "from _util_updated import cluster_bias"
   ]
  },
  {
   "cell_type": "code",
   "execution_count": 2,
   "metadata": {},
   "outputs": [],
   "source": [
    "#SG_DF = pd.read_pickle('./Focused_SGRNA_IND_091121.pkl')"
   ]
  },
  {
   "cell_type": "code",
   "execution_count": 3,
   "metadata": {},
   "outputs": [],
   "source": [
    "#CM_Cells = sc.read_h5ad('./Focused_PHATE_092121.h5ad')\n",
    "CM_Ordered_Cells = CM_Cells[CM_Cells.obs['rank_pseudotime'].sort_values()]"
   ]
  },
  {
   "cell_type": "code",
   "execution_count": 4,
   "metadata": {},
   "outputs": [],
   "source": [
    "PATH = '../../Data/Pickles/'\n",
    "Dict_File = open(PATH + \"CM_FILTERED_DICT_080521.pkl\", \"rb\")\n",
    "CM_FILTERED_DICT = pickle.load(Dict_File)"
   ]
  },
  {
   "cell_type": "markdown",
   "metadata": {},
   "source": [
    "### Process sgRNA"
   ]
  },
  {
   "cell_type": "code",
   "execution_count": 5,
   "metadata": {},
   "outputs": [],
   "source": [
    "cell_list = []\n",
    "for cell in SG_DF.index:\n",
    "    if cell in CM_Cells.obs.index:\n",
    "        cell_list.append(cell)\n",
    "SG_DF = SG_DF.loc[cell_list]"
   ]
  },
  {
   "cell_type": "code",
   "execution_count": 6,
   "metadata": {},
   "outputs": [],
   "source": [
    "### Make Dict of sgRNA \n",
    "SG_Targets = []\n",
    "for sg in SG_DF.columns:\n",
    "    SG_Targets.append(sg.split('_')[0])\n",
    "SG_Targets = np.unique(SG_Targets)\n",
    "\n",
    "SG_Name = []\n",
    "SG_Indi = []\n",
    "for sg in SG_Targets:\n",
    "    if sg == 'NC_Blank':\n",
    "        SG_Name.append('NC')\n",
    "        SG_Indi.append('NC_Blank')\n",
    "    else:\n",
    "        SG_Name.append(sg)\n",
    "        sg_list = []\n",
    "        for indi in SG_DF.columns:\n",
    "            if indi.split('_')[0] == sg:\n",
    "                sg_list.append(indi)\n",
    "        SG_Indi.append(sg_list)\n",
    "Guide_Dictionary = dict(zip(SG_Name, SG_Indi))"
   ]
  },
  {
   "cell_type": "code",
   "execution_count": 7,
   "metadata": {},
   "outputs": [],
   "source": [
    "### Cells for each sgRNA\n",
    "Cell_List = []\n",
    "for target in SG_DF.columns:\n",
    "    Cell_Subset = []\n",
    "    if target == 'NC_Blank':\n",
    "        for cell in SG_DF.index:\n",
    "            if sum(SG_DF.loc[cell] >0) != 1:\n",
    "                continue\n",
    "            if SG_DF.loc[cell][target] >0:\n",
    "                Cell_Subset.append(cell)\n",
    "    else:\n",
    "        [Cell_Subset.append(i) for i in SG_DF[SG_DF[target] > 0].index]\n",
    "    Cell_List.append(Cell_Subset)\n",
    "SG_Dictionary = dict(zip(SG_DF.columns, Cell_List))"
   ]
  },
  {
   "cell_type": "code",
   "execution_count": 8,
   "metadata": {},
   "outputs": [],
   "source": [
    "### List of perturbed cells\n",
    "Perturbed_Cells = []\n",
    "for target in Guide_Dictionary.keys():\n",
    "    if target == 'NC':\n",
    "        continue\n",
    "        \n",
    "    Filtered_SG = [i for i in Guide_Dictionary[target] if int(i.split('_')[1]) not in CM_FILTERED_DICT[target]]\n",
    "    for i in Filtered_SG:\n",
    "        Perturbed_Cells.extend(SG_Dictionary[i])\n",
    "    \n",
    "Perturbed_Cells = np.unique(Perturbed_Cells)"
   ]
  },
  {
   "cell_type": "code",
   "execution_count": 9,
   "metadata": {},
   "outputs": [],
   "source": [
    "sg_id = []\n",
    "for cell in CM_Cells.obs.index:\n",
    "    if cell in SG_Dictionary['NC_Blank']:\n",
    "        sg_id.append('NC')\n",
    "    elif cell in Perturbed_Cells:\n",
    "        sg_id.append('TBX5_ENH')\n",
    "    else:\n",
    "        sg_id.append('Other')\n",
    "CM_Cells.obs['sg_id'] = sg_id"
   ]
  },
  {
   "cell_type": "code",
   "execution_count": 10,
   "metadata": {},
   "outputs": [],
   "source": [
    "CM_Cells_Perturbed = CM_Cells[CM_Cells.obs.sg_id != 'Other']"
   ]
  },
  {
   "cell_type": "markdown",
   "metadata": {},
   "source": [
    "### Run HyperGeo"
   ]
  },
  {
   "cell_type": "code",
   "execution_count": 11,
   "metadata": {},
   "outputs": [],
   "source": [
    "tran_matrix = CM_Cells\n",
    "\n",
    "dep_target_values = []\n",
    "enr_target_values = []\n",
    "Target_List = []\n",
    "control_list = CM_Cells_Perturbed[CM_Cells_Perturbed.obs['sg_id'] == 'NC'].obs.index.tolist()\n",
    "    \n",
    "Target_List.append('TBX5Enh')\n",
    "CELL_LIST = CM_Cells_Perturbed[CM_Cells_Perturbed.obs['sg_id'] == 'TBX5_ENH'].obs.index.tolist()\n",
    "dep_clust_values, cluster_list = cluster_bias(target_cells= CELL_LIST, control_cells = control_list, t_matrix=tran_matrix, direction = 'depletion')\n",
    "enr_clust_values, cluster_list = cluster_bias(target_cells= CELL_LIST, control_cells = control_list, t_matrix=tran_matrix, direction = 'enrichment') \n",
    "dep_target_values.append(dep_clust_values)\n",
    "enr_target_values.append(enr_clust_values)\n",
    "        \n",
    "depleted_df = pd.DataFrame(data = dep_target_values, columns  = tran_matrix.obs.louvain.cat.categories.tolist(), index= Target_List)  \n",
    "enriched_df = pd.DataFrame(data = enr_target_values, columns  = tran_matrix.obs.louvain.cat.categories.tolist(), index= Target_List)  "
   ]
  },
  {
   "cell_type": "code",
   "execution_count": 12,
   "metadata": {},
   "outputs": [
    {
     "data": {
      "text/html": [
       "<div>\n",
       "<style scoped>\n",
       "    .dataframe tbody tr th:only-of-type {\n",
       "        vertical-align: middle;\n",
       "    }\n",
       "\n",
       "    .dataframe tbody tr th {\n",
       "        vertical-align: top;\n",
       "    }\n",
       "\n",
       "    .dataframe thead th {\n",
       "        text-align: right;\n",
       "    }\n",
       "</style>\n",
       "<table border=\"1\" class=\"dataframe\">\n",
       "  <thead>\n",
       "    <tr style=\"text-align: right;\">\n",
       "      <th></th>\n",
       "      <th>0</th>\n",
       "      <th>1</th>\n",
       "      <th>2</th>\n",
       "    </tr>\n",
       "  </thead>\n",
       "  <tbody>\n",
       "    <tr>\n",
       "      <th>TBX5Enh</th>\n",
       "      <td>1.0</td>\n",
       "      <td>3.799096e-18</td>\n",
       "      <td>0.98829</td>\n",
       "    </tr>\n",
       "  </tbody>\n",
       "</table>\n",
       "</div>"
      ],
      "text/plain": [
       "           0             1        2\n",
       "TBX5Enh  1.0  3.799096e-18  0.98829"
      ]
     },
     "execution_count": 12,
     "metadata": {},
     "output_type": "execute_result"
    }
   ],
   "source": [
    "depleted_df"
   ]
  },
  {
   "cell_type": "code",
   "execution_count": 13,
   "metadata": {},
   "outputs": [
    {
     "data": {
      "text/html": [
       "<div>\n",
       "<style scoped>\n",
       "    .dataframe tbody tr th:only-of-type {\n",
       "        vertical-align: middle;\n",
       "    }\n",
       "\n",
       "    .dataframe tbody tr th {\n",
       "        vertical-align: top;\n",
       "    }\n",
       "\n",
       "    .dataframe thead th {\n",
       "        text-align: right;\n",
       "    }\n",
       "</style>\n",
       "<table border=\"1\" class=\"dataframe\">\n",
       "  <thead>\n",
       "    <tr style=\"text-align: right;\">\n",
       "      <th></th>\n",
       "      <th>0</th>\n",
       "      <th>1</th>\n",
       "      <th>2</th>\n",
       "    </tr>\n",
       "  </thead>\n",
       "  <tbody>\n",
       "    <tr>\n",
       "      <th>TBX5Enh</th>\n",
       "      <td>7.771561e-13</td>\n",
       "      <td>1.0</td>\n",
       "      <td>0.021183</td>\n",
       "    </tr>\n",
       "  </tbody>\n",
       "</table>\n",
       "</div>"
      ],
      "text/plain": [
       "                    0    1         2\n",
       "TBX5Enh  7.771561e-13  1.0  0.021183"
      ]
     },
     "execution_count": 13,
     "metadata": {},
     "output_type": "execute_result"
    }
   ],
   "source": [
    "enriched_df"
   ]
  },
  {
   "cell_type": "markdown",
   "metadata": {},
   "source": [
    "### Violin Plot Distribution"
   ]
  },
  {
   "cell_type": "code",
   "execution_count": 23,
   "metadata": {},
   "outputs": [
    {
     "data": {
      "image/png": "[encoded data removed]",
      "text/plain": [
       "<Figure size 1440x720 with 1 Axes>"
      ]
     },
     "metadata": {
      "needs_background": "light"
     },
     "output_type": "display_data"
    }
   ],
   "source": [
    "fig, ax = plt.subplots(nrows=1, ncols=1, figsize=(20, 10), sharey=True)\n",
    "\n",
    "\n",
    "NC_SC = CM_Cells_Perturbed[CM_Cells_Perturbed.obs['sg_id'] == 'NC']\n",
    "NC_Pseudos = NC_SC.obs.rank_pseudotime\n",
    "\n",
    "plt.violinplot(NC_Pseudos, positions = [1], vert=True, showextrema=False)\n",
    "plt.boxplot(NC_Pseudos, positions= [1], vert=True)\n",
    "\n",
    "Target_SC = CM_Cells_Perturbed[CM_Cells_Perturbed.obs['sg_id'] == 'TBX5_ENH']\n",
    "Target_Pseudos = Target_SC.obs.rank_pseudotime\n",
    "plt.violinplot(Target_Pseudos, positions = [2], vert=True, showextrema=False)\n",
    "plt.boxplot(Target_Pseudos, positions= [2], vert=True)\n",
    "\n",
    "plt.ylim(0,CM_Cells.obs.rank_pseudotime.max()+100)\n",
    "fig.savefig('./CM_SG_PHATE_Violin.pdf')"
   ]
  },
  {
   "cell_type": "code",
   "execution_count": 25,
   "metadata": {},
   "outputs": [
    {
     "name": "stdout",
     "output_type": "stream",
     "text": [
      "TBX5Enh MW p-val 2.2266235918684158e-05\n"
     ]
    }
   ],
   "source": [
    "print('TBX5Enh' + ' MW p-val ' +  str(scipy.stats.mannwhitneyu(NC_Pseudos, Target_Pseudos)[1]))"
   ]
  },
  {
   "cell_type": "markdown",
   "metadata": {},
   "source": [
    "### Bar Graph Distribution"
   ]
  },
  {
   "cell_type": "code",
   "execution_count": 26,
   "metadata": {},
   "outputs": [],
   "source": [
    "cluster_list = ['2', '0', '1']"
   ]
  },
  {
   "cell_type": "code",
   "execution_count": 27,
   "metadata": {},
   "outputs": [],
   "source": [
    "Target_SC = CM_Cells_Perturbed[CM_Cells_Perturbed.obs['sg_id'] == 'TBX5_ENH']\n",
    "Target_Cell_Num = Target_SC.shape[0]\n",
    "Target_Percents = []\n",
    "for cluster in cluster_list:\n",
    "    Target_Percents.append((Target_SC[Target_SC.obs.louvain == cluster].shape[0]/Target_Cell_Num)*100)\n",
    "TBX5_Percents = Target_Percents\n",
    "\n",
    "NC_SC = CM_Cells_Perturbed[CM_Cells_Perturbed.obs['sg_id'] == 'NC']\n",
    "NC_Cell_Num = NC_SC.shape[0]\n",
    "NC_Percents = []\n",
    "for cluster in cluster_list:\n",
    "     NC_Percents.append((NC_SC[NC_SC.obs.louvain == cluster].shape[0]/NC_Cell_Num)*100)"
   ]
  },
  {
   "cell_type": "code",
   "execution_count": 31,
   "metadata": {},
   "outputs": [],
   "source": [
    "NC_cmap = {\n",
    "    'Progenitor': '#8c8c8c',\n",
    "    'Mid_CM': '#8c8c8c',\n",
    "    'Late_CM' : '#8c8c8c'}"
   ]
  },
  {
   "cell_type": "code",
   "execution_count": 32,
   "metadata": {},
   "outputs": [],
   "source": [
    "TBX5_cmap = {\n",
    "    'Progenitor': '#c44e52',\n",
    "    'Mid_CM' : '#c44e52',\n",
    "    'Late_CM' : '#c44e52'}"
   ]
  },
  {
   "cell_type": "code",
   "execution_count": 33,
   "metadata": {},
   "outputs": [
    {
     "data": {
      "image/png": "[encoded data removed]",
      "text/plain": [
       "<Figure size 720x432 with 1 Axes>"
      ]
     },
     "metadata": {
      "needs_background": "light"
     },
     "output_type": "display_data"
    }
   ],
   "source": [
    "plt.rcParams.update({'font.size': 15})\n",
    "\n",
    "fig, ax = plt.subplots(1, figsize=(10,6))\n",
    "\n",
    "width = 0.25\n",
    "\n",
    "labels =  ['Progenitor', 'Mid_CM', 'Late_CM' ]\n",
    "\n",
    "\n",
    "for i, c in enumerate(NC_Percents):\n",
    "    ax.bar(i, c, width, color=NC_cmap[labels[i]])\n",
    "    \n",
    "for i, c in enumerate(TBX5_Percents):\n",
    "    ax.bar(i + width, c, width, color=TBX5_cmap[labels[i]])\n",
    "    \n",
    "ax.set_xticks(np.arange(i+1) + .17)\n",
    "ax.set_xticklabels(labels)\n",
    "ax.set_ylabel('% Cells')\n",
    "plt.xticks(rotation = 45)\n",
    "rects = ax.patches\n",
    "rect_subset = rects[4:]\n",
    "\n",
    "\n",
    "plt.ylim(0, 75)\n",
    "plt.ylabel('Percent Cells')\n",
    "plt.title('TBX5 Cell Percents Across Differentiation')\n",
    "fig.tight_layout()\n",
    "fig.savefig('./CM_SG_PHATE_Bar.pdf')"
   ]
  }
 ],
 "metadata": {
  "kernelspec": {
   "display_name": "hope",
   "language": "python",
   "name": "hope"
  },
  "language_info": {
   "codemirror_mode": {
    "name": "ipython",
    "version": 3
   },
   "file_extension": ".py",
   "mimetype": "text/x-python",
   "name": "python",
   "nbconvert_exporter": "python",
   "pygments_lexer": "ipython3",
   "version": "3.6.12"
  }
 },
 "nbformat": 4,
 "nbformat_minor": 2
}
