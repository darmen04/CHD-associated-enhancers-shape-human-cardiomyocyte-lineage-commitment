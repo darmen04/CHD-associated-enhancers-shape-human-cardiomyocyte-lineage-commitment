{
 "cells": [
  {
   "cell_type": "code",
   "execution_count": 20,
   "metadata": {},
   "outputs": [],
   "source": [
    "#import scrublet as scr\n",
    "import numpy as np\n",
    "import pandas as pd\n",
    "import statistics as st\n",
    "import re\n",
    "import csv\n",
    "import scanpy as sc \n",
    "import scanpy.external as sce\n",
    "import phate\n",
    "import matplotlib\n",
    "from matplotlib import pyplot as plt\n",
    "import warnings\n",
    "import scipy\n",
    "from scipy.stats import binom\n",
    "from scipy.stats import multinomial\n",
    "import seaborn as sns\n",
    "from numpy.polynomial.polynomial import polyfit\n",
    "from scipy.stats import hypergeom\n",
    "import warnings\n",
    "warnings.filterwarnings('ignore')\n",
    "import scrublet as scr\n",
    "import harmonypy as hm\n",
    "import random\n",
    "import pickle\n",
    "from random import sample\n",
    "from matplotlib_venn import venn2"
   ]
  },
  {
   "cell_type": "code",
   "execution_count": 5,
   "metadata": {},
   "outputs": [],
   "source": [
    "SG_DF = pd.read_pickle('./Focused_SG_DF.pkl')"
   ]
  },
  {
   "cell_type": "code",
   "execution_count": 6,
   "metadata": {},
   "outputs": [],
   "source": [
    "KO_SC = sc.read_h5ad('./Knockout_CM_DF.h5ad')"
   ]
  },
  {
   "cell_type": "code",
   "execution_count": 7,
   "metadata": {},
   "outputs": [],
   "source": [
    "CM_Cells = sc.read_h5ad('./Validation_CM_DF.h5ad')"
   ]
  },
  {
   "cell_type": "code",
   "execution_count": 8,
   "metadata": {},
   "outputs": [],
   "source": [
    "PATH = '/project/GCRB/Hon_lab/s425140/03.Data/07.Cardiomyocyte_Small_Scale/DAP3/07_28_21_Paper/SG_FILTERING/'\n",
    "Dict_File = open(PATH + \"Guide_Dictionary_Filtered.pkl\", \"rb\")\n",
    "CM_FILTERED_DICT = pickle.load(Dict_File)"
   ]
  },
  {
   "cell_type": "markdown",
   "metadata": {},
   "source": [
    "### Process sgRNA"
   ]
  },
  {
   "cell_type": "code",
   "execution_count": 9,
   "metadata": {},
   "outputs": [],
   "source": [
    "cell_list = []\n",
    "for cell in SG_DF.index:\n",
    "    if cell in CM_Cells.obs.index:\n",
    "        cell_list.append(cell)\n",
    "SG_DF = SG_DF.loc[cell_list]"
   ]
  },
  {
   "cell_type": "code",
   "execution_count": 10,
   "metadata": {},
   "outputs": [],
   "source": [
    "### Make Dict of sgRNA \n",
    "SG_Targets = []\n",
    "for sg in SG_DF.columns:\n",
    "    SG_Targets.append(sg.split('_')[0])\n",
    "SG_Targets = np.unique(SG_Targets)\n",
    "\n",
    "SG_Name = []\n",
    "SG_Indi = []\n",
    "for sg in SG_Targets:\n",
    "    if sg == 'NC_Blank':\n",
    "        SG_Name.append('NC')\n",
    "        SG_Indi.append('NC_Blank')\n",
    "    else:\n",
    "        SG_Name.append(sg)\n",
    "        sg_list = []\n",
    "        for indi in SG_DF.columns:\n",
    "            if indi.split('_')[0] == sg:\n",
    "                sg_list.append(indi)\n",
    "        SG_Indi.append(sg_list)\n",
    "Guide_Dictionary = dict(zip(SG_Name, SG_Indi))"
   ]
  },
  {
   "cell_type": "code",
   "execution_count": 11,
   "metadata": {},
   "outputs": [],
   "source": [
    "### Cells for each sgRNA\n",
    "Cell_List = []\n",
    "for target in SG_DF.columns:\n",
    "    Cell_Subset = []\n",
    "    if target == 'NC_Blank':\n",
    "        for cell in SG_DF.index:\n",
    "            if sum(SG_DF.loc[cell] >0) != 1:\n",
    "                continue\n",
    "            if SG_DF.loc[cell][target] >0:\n",
    "                Cell_Subset.append(cell)\n",
    "    else:\n",
    "        [Cell_Subset.append(i) for i in SG_DF[SG_DF[target] > 0].index]\n",
    "    Cell_List.append(Cell_Subset)\n",
    "SG_Dictionary = dict(zip(SG_DF.columns, Cell_List))"
   ]
  },
  {
   "cell_type": "code",
   "execution_count": 12,
   "metadata": {},
   "outputs": [],
   "source": [
    "### List of perturbed cells\n",
    "Perturbed_Cells = []\n",
    "for target in Guide_Dictionary.keys():\n",
    "    if target == 'NC':\n",
    "        continue\n",
    "        \n",
    "    Filtered_SG = [i for i in Guide_Dictionary[target] if int(i.split('_')[1]) not in CM_FILTERED_DICT[target]]\n",
    "    for i in Filtered_SG:\n",
    "        Perturbed_Cells.extend(SG_Dictionary[i])\n",
    "    \n",
    "Perturbed_Cells = np.unique(Perturbed_Cells)"
   ]
  },
  {
   "cell_type": "code",
   "execution_count": 13,
   "metadata": {},
   "outputs": [],
   "source": [
    "sg_id = []\n",
    "for cell in CM_Cells.obs.index:\n",
    "    if cell in SG_Dictionary['NC_Blank']:\n",
    "        sg_id.append('NC')\n",
    "    elif cell in Perturbed_Cells:\n",
    "        sg_id.append('TBX5_ENH')\n",
    "    else:\n",
    "        sg_id.append('Other')\n",
    "CM_Cells.obs['sg_id'] = sg_id"
   ]
  },
  {
   "cell_type": "code",
   "execution_count": 14,
   "metadata": {},
   "outputs": [],
   "source": [
    "CM_Cells_Clean = CM_Cells[CM_Cells.obs.sg_id != 'Other']\n",
    "CM_Cells_Clean = CM_Cells_Clean[CM_Cells_Clean.obs.sg_id == 'NC']"
   ]
  },
  {
   "cell_type": "code",
   "execution_count": 15,
   "metadata": {},
   "outputs": [
    {
     "name": "stderr",
     "output_type": "stream",
     "text": [
      "Trying to set attribute `.obs` of view, copying.\n",
      "... storing 'sg_id' as categorical\n"
     ]
    }
   ],
   "source": [
    "sc.tl.rank_genes_groups(CM_Cells_Clean, groupby='louvain', method='wilcoxon')"
   ]
  },
  {
   "cell_type": "markdown",
   "metadata": {},
   "source": [
    "### Expression of mid genes"
   ]
  },
  {
   "cell_type": "code",
   "execution_count": 38,
   "metadata": {},
   "outputs": [],
   "source": [
    "%%capture\n",
    "Cluster = '0'\n",
    "Pos_Genes = CM_Cells_Clean.uns['rank_genes_groups']['names'][Cluster][CM_Cells_Clean.uns['rank_genes_groups']['scores'][Cluster] > 0]\n",
    "Pval_Genes = CM_Cells_Clean.uns['rank_genes_groups']['names'][Cluster][CM_Cells_Clean.uns['rank_genes_groups']['pvals_adj'][Cluster] < 0.05]\n",
    "Sig_Genes = [i for i in Pval_Genes if i in Pos_Genes]\n",
    "Sig_Gene_Raw_Index = []\n",
    "[Sig_Gene_Raw_Index.append(np.argwhere(KO_SC.raw.var_names == i)[0][0]) for i in Sig_Genes]"
   ]
  },
  {
   "cell_type": "code",
   "execution_count": 39,
   "metadata": {},
   "outputs": [],
   "source": [
    "Gene_Set = Sig_Gene_Raw_Index\n",
    "Cluster_DF = KO_SC[KO_SC.obs.louvain == '0']"
   ]
  },
  {
   "cell_type": "code",
   "execution_count": 40,
   "metadata": {},
   "outputs": [],
   "source": [
    "WT_Cells_Expression = np.mean(Cluster_DF[Cluster_DF.obs.Sample == 'WT'].raw.X[:,Gene_Set].todense().tolist(), axis=1).tolist()\n",
    "Perturbed_Cells_Expression = np.mean(Cluster_DF[Cluster_DF.obs.Sample != 'WT'].raw.X[:,Gene_Set].todense().tolist(), axis=1).tolist()\n",
    "PROM_Cells_Expression = np.mean(Cluster_DF[Cluster_DF.obs.Sample == 'PROM1'].raw.X[:,Gene_Set].todense().tolist(), axis=1).tolist()\n",
    "ENH3_Cells_Expression = np.mean(Cluster_DF[Cluster_DF.obs.Sample == 'ENH3'].raw.X[:,Gene_Set].todense().tolist(), axis=1).tolist()\n",
    "ENH5_Cells_Expression = np.mean(Cluster_DF[Cluster_DF.obs.Sample == 'ENH5'].raw.X[:,Gene_Set].todense().tolist(), axis=1).tolist()"
   ]
  },
  {
   "cell_type": "code",
   "execution_count": 41,
   "metadata": {},
   "outputs": [],
   "source": [
    "Sampling_Amount = 1000\n",
    "Sampling_List = list(range(Sampling_Amount))\n",
    "Test_Target = Perturbed_Cells_Expression\n",
    "\n",
    "\n",
    "## Average Expression of Pattern in Perturbed Cells\n",
    "Perturbed_Cells = len(Test_Target)\n",
    "Perturbed_Average = np.mean(Test_Target)/np.log(2)\n",
    "\n",
    "### Randomly Sample Same Number of Perturbed Cells from NC and get average\n",
    "\n",
    "Total_NC_Cells = len(WT_Cells_Expression)\n",
    "Random_Numbers = [i for i in range(Total_NC_Cells)]\n",
    "NC_Averages = []\n",
    "\n",
    "random.seed(0)\n",
    "for value in Sampling_List:\n",
    "    Random_Positions = sample(Random_Numbers, Perturbed_Cells)\n",
    "    Randomized_List = [WT_Cells_Expression[i] for i in Random_Positions]\n",
    "    Randomized_Mean = np.mean(Randomized_List)/np.log(2)\n",
    "    NC_Averages.append(Randomized_Mean)\n",
    "Perturbed_Deviation = (Perturbed_Average-np.mean(NC_Averages))/np.std(NC_Averages)"
   ]
  },
  {
   "cell_type": "code",
   "execution_count": 42,
   "metadata": {},
   "outputs": [
    {
     "name": "stdout",
     "output_type": "stream",
     "text": [
      "2.0e-32\n"
     ]
    }
   ],
   "source": [
    "#cdf for below sf for above\n",
    "P_VALUE_CDF  = '{:0.1e}'.format(scipy.stats.norm.cdf(Perturbed_Deviation))\n",
    "P_VALUE_SF  = '{:0.1e}'.format(scipy.stats.norm.sf(Perturbed_Deviation))\n",
    "\n",
    "if scipy.stats.norm.cdf(Perturbed_Deviation) < scipy.stats.norm.sf(Perturbed_Deviation):\n",
    "    P_VALUE = P_VALUE_CDF\n",
    "else:\n",
    "    P_VALUE = P_VALUE_SF\n",
    "print(P_VALUE)"
   ]
  },
  {
   "cell_type": "markdown",
   "metadata": {},
   "source": [
    "### Plot Distributions"
   ]
  },
  {
   "cell_type": "code",
   "execution_count": 43,
   "metadata": {},
   "outputs": [
    {
     "data": {
      "image/png": "[encoded data removed]",
      "text/plain": [
       "<Figure size 432x288 with 1 Axes>"
      ]
     },
     "metadata": {
      "needs_background": "light"
     },
     "output_type": "display_data"
    }
   ],
   "source": [
    "x = Perturbed_Average\n",
    "y = NC_Averages\n",
    "\n",
    "plt.hist(y, alpha=0.5, label='NC', bins = 100, color = '#8c8c8c')\n",
    "plt.hist(x, alpha=0.5, label='Perturbation', bins = 100, color = '#c44e52')\n",
    "plt.legend(loc='upper right')\n",
    "plt.xlabel('Mean Expression   pval: ' + P_VALUE)\n",
    "plt.title('Cluster ' + Cluster + ' Mean Expression')\n",
    "\n",
    "plt.savefig('./CM_MidGenes_CLUST0_Hist.pdf')"
   ]
  },
  {
   "cell_type": "markdown",
   "metadata": {},
   "source": [
    "### Expression of late genes"
   ]
  },
  {
   "cell_type": "code",
   "execution_count": 46,
   "metadata": {},
   "outputs": [],
   "source": [
    "%%capture\n",
    "Cluster = '1'\n",
    "Pos_Genes = CM_Cells_Clean.uns['rank_genes_groups']['names'][Cluster][CM_Cells_Clean.uns['rank_genes_groups']['scores'][Cluster] > 0]\n",
    "Pval_Genes = CM_Cells_Clean.uns['rank_genes_groups']['names'][Cluster][CM_Cells_Clean.uns['rank_genes_groups']['pvals_adj'][Cluster] < 0.05]\n",
    "Sig_Genes = [i for i in Pval_Genes if i in Pos_Genes]\n",
    "Sig_Gene_Raw_Index = []\n",
    "[Sig_Gene_Raw_Index.append(np.argwhere(KO_SC.raw.var_names == i)[0][0]) for i in Sig_Genes]"
   ]
  },
  {
   "cell_type": "code",
   "execution_count": 47,
   "metadata": {},
   "outputs": [],
   "source": [
    "Gene_Set = Sig_Gene_Raw_Index\n",
    "Cluster_DF = KO_SC[KO_SC.obs.louvain == '0']"
   ]
  },
  {
   "cell_type": "code",
   "execution_count": 48,
   "metadata": {},
   "outputs": [],
   "source": [
    "WT_Cells_Expression = np.mean(Cluster_DF[Cluster_DF.obs.Sample == 'WT'].raw.X[:,Gene_Set].todense().tolist(), axis=1).tolist()\n",
    "Perturbed_Cells_Expression = np.mean(Cluster_DF[Cluster_DF.obs.Sample != 'WT'].raw.X[:,Gene_Set].todense().tolist(), axis=1).tolist()\n",
    "PROM_Cells_Expression = np.mean(Cluster_DF[Cluster_DF.obs.Sample == 'PROM1'].raw.X[:,Gene_Set].todense().tolist(), axis=1).tolist()\n",
    "ENH3_Cells_Expression = np.mean(Cluster_DF[Cluster_DF.obs.Sample == 'ENH3'].raw.X[:,Gene_Set].todense().tolist(), axis=1).tolist()\n",
    "ENH5_Cells_Expression = np.mean(Cluster_DF[Cluster_DF.obs.Sample == 'ENH5'].raw.X[:,Gene_Set].todense().tolist(), axis=1).tolist()"
   ]
  },
  {
   "cell_type": "code",
   "execution_count": 49,
   "metadata": {},
   "outputs": [],
   "source": [
    "Sampling_Amount = 1000\n",
    "Sampling_List = list(range(Sampling_Amount))\n",
    "Test_Target = Perturbed_Cells_Expression\n",
    "\n",
    "\n",
    "## Average Expression of Pattern in Perturbed Cells\n",
    "Perturbed_Cells = len(Test_Target)\n",
    "Perturbed_Average = np.mean(Test_Target)/np.log(2)\n",
    "\n",
    "### Randomly Sample Same Number of Perturbed Cells from NC and get average\n",
    "\n",
    "Total_NC_Cells = len(WT_Cells_Expression)\n",
    "Random_Numbers = [i for i in range(Total_NC_Cells)]\n",
    "NC_Averages = []\n",
    "\n",
    "random.seed(0)\n",
    "for value in Sampling_List:\n",
    "    Random_Positions = sample(Random_Numbers, Perturbed_Cells)\n",
    "    Randomized_List = [WT_Cells_Expression[i] for i in Random_Positions]\n",
    "    Randomized_Mean = np.mean(Randomized_List)/np.log(2)\n",
    "    NC_Averages.append(Randomized_Mean)\n",
    "Perturbed_Deviation = (Perturbed_Average-np.mean(NC_Averages))/np.std(NC_Averages)"
   ]
  },
  {
   "cell_type": "code",
   "execution_count": 50,
   "metadata": {},
   "outputs": [
    {
     "name": "stdout",
     "output_type": "stream",
     "text": [
      "4.0e-110\n"
     ]
    }
   ],
   "source": [
    "#cdf for below sf for above\n",
    "P_VALUE_CDF  = '{:0.1e}'.format(scipy.stats.norm.cdf(Perturbed_Deviation))\n",
    "P_VALUE_SF  = '{:0.1e}'.format(scipy.stats.norm.sf(Perturbed_Deviation))\n",
    "\n",
    "if scipy.stats.norm.cdf(Perturbed_Deviation) < scipy.stats.norm.sf(Perturbed_Deviation):\n",
    "    P_VALUE = P_VALUE_CDF\n",
    "else:\n",
    "    P_VALUE = P_VALUE_SF\n",
    "print(P_VALUE)"
   ]
  },
  {
   "cell_type": "markdown",
   "metadata": {},
   "source": [
    "### Plot Distributions"
   ]
  },
  {
   "cell_type": "code",
   "execution_count": 51,
   "metadata": {},
   "outputs": [
    {
     "data": {
      "image/png": "[encoded data removed]",
      "text/plain": [
       "<Figure size 432x288 with 1 Axes>"
      ]
     },
     "metadata": {
      "needs_background": "light"
     },
     "output_type": "display_data"
    }
   ],
   "source": [
    "x = Perturbed_Average\n",
    "y = NC_Averages\n",
    "\n",
    "plt.hist(y, alpha=0.5, label='NC', bins = 100, color = '#8c8c8c')\n",
    "plt.hist(x, alpha=0.5, label='Perturbation', bins = 100, color = '#c44e52')\n",
    "plt.legend(loc='upper right')\n",
    "plt.xlabel('Mean Expression   pval: ' + P_VALUE)\n",
    "plt.title('Cluster ' + Cluster + ' Mean Expression')\n",
    "\n",
    "plt.savefig('./CM_LateGenes_CLUST1_Hist.pdf')"
   ]
  },
  {
   "cell_type": "code",
   "execution_count": null,
   "metadata": {},
   "outputs": [],
   "source": []
  }
 ],
 "metadata": {
  "kernelspec": {
   "display_name": "hope",
   "language": "python",
   "name": "hope"
  },
  "language_info": {
   "codemirror_mode": {
    "name": "ipython",
    "version": 3
   },
   "file_extension": ".py",
   "mimetype": "text/x-python",
   "name": "python",
   "nbconvert_exporter": "python",
   "pygments_lexer": "ipython3",
   "version": "3.6.12"
  }
 },
 "nbformat": 4,
 "nbformat_minor": 2
}
