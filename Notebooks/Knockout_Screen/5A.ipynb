{
 "cells": [
  {
   "cell_type": "code",
   "execution_count": 1,
   "metadata": {},
   "outputs": [],
   "source": [
    "import re\n",
    "from pathlib import Path\n",
    "import numpy as np\n",
    "import pandas as pd\n",
    "import scipy.sparse\n",
    "import scanpy.external as sce\n",
    "import sklearn.manifold\n",
    "import statsmodels.api as sm\n",
    "\n",
    "# from sklearn.preprocessing import StandardScaler\n",
    "# from sklearn.decomposition import PCA\n",
    "from sklearn.manifold import TSNE\n",
    "from pyclustering.cluster.kmedoids import kmedoids\n",
    "\n",
    "import matplotlib as mpl\n",
    "import matplotlib.pyplot as plt\n",
    "import seaborn as sns\n",
    "# import seaborn as sb\n",
    "\n",
    "import scanpy as sc\n",
    "import harmonypy as hm\n",
    "import anndata\n",
    "import pickle\n",
    "import statsmodels.api as sm\n",
    "lowess = sm.nonparametric.lowess\n",
    "from scipy.stats import chi2_contingency\n",
    "from matplotlib_venn import venn2, venn2_circles, venn2_unweighted\n",
    "def intersection(lst1, lst2): \n",
    "    return list(set(lst1) & set(lst2)) \n",
    "import os\n",
    "plt.rcParams['figure.figsize']=(8,8) #rescale figures\n",
    "sc.settings.verbosity = 3\n",
    "from _util_updated import cluster_bias"
   ]
  },
  {
   "cell_type": "markdown",
   "metadata": {},
   "source": [
    "### Load Data"
   ]
  },
  {
   "cell_type": "code",
   "execution_count": 2,
   "metadata": {},
   "outputs": [],
   "source": [
    "SC_DF = sc.read_h5ad('./Knockout_SC_DF.h5ad')"
   ]
  },
  {
   "cell_type": "markdown",
   "metadata": {},
   "source": [
    "### Cluster Bias (Combined Biological Reps)"
   ]
  },
  {
   "cell_type": "code",
   "execution_count": 4,
   "metadata": {},
   "outputs": [],
   "source": [
    "control_cells = SC_DF[SC_DF.obs.Sample == 'WT'].obs.index.tolist()"
   ]
  },
  {
   "cell_type": "code",
   "execution_count": 5,
   "metadata": {},
   "outputs": [],
   "source": [
    "Enr_List = []\n",
    "Depleted_List = []\n",
    "Target_List = []\n",
    "\n",
    "for sample in SC_DF.obs.Sample.cat.categories.tolist():\n",
    "    if sample == 'WT':\n",
    "        continue\n",
    "    Target_List.append(sample)\n",
    "    target_cells = SC_DF[SC_DF.obs.Sample == sample].obs.index.tolist()\n",
    "    \n",
    "    depleted_pvals, depleted_list = cluster_bias(target_cells,control_cells, SC_DF, direction='depletion')\n",
    "    enriched_pvals, enriched_list = cluster_bias(target_cells,control_cells, SC_DF, direction='enrichment')\n",
    "    \n",
    "    Enr_List.append(enriched_pvals)\n",
    "    Depleted_List.append(depleted_pvals)"
   ]
  },
  {
   "cell_type": "code",
   "execution_count": 6,
   "metadata": {},
   "outputs": [],
   "source": [
    "Enr_DF = pd.DataFrame(data=Enr_List, columns=SC_DF.obs.louvain.cat.categories.tolist(), index = Target_List)\n",
    "Dep_DF = pd.DataFrame(data=Depleted_List, columns=SC_DF.obs.louvain.cat.categories.tolist(), index = Target_List)"
   ]
  },
  {
   "cell_type": "markdown",
   "metadata": {},
   "source": [
    "### Bar Graph Distribution"
   ]
  },
  {
   "cell_type": "code",
   "execution_count": 9,
   "metadata": {},
   "outputs": [],
   "source": [
    "cluster_list = ['1']"
   ]
  },
  {
   "cell_type": "code",
   "execution_count": 10,
   "metadata": {},
   "outputs": [],
   "source": [
    "Total_Percents = []\n",
    "Targets = []\n",
    "for target in SC_DF.obs.Sample.cat.categories:\n",
    "    Targets.append(target)\n",
    "    \n",
    "    target_sc = SC_DF[SC_DF.obs['Sample'] == target]\n",
    "    target_cells = target_sc.shape[0]\n",
    "    target_percents = []\n",
    "    \n",
    "    for cluster in cluster_list:\n",
    "        target_percents.append((target_sc[target_sc.obs.louvain == cluster].shape[0]/target_cells)*100)\n",
    "        \n",
    "    Total_Percents.append(target_percents)"
   ]
  },
  {
   "cell_type": "code",
   "execution_count": 11,
   "metadata": {},
   "outputs": [],
   "source": [
    "ENH3_cmap = {\n",
    "    'CM': '#dd8452'}"
   ]
  },
  {
   "cell_type": "code",
   "execution_count": 12,
   "metadata": {},
   "outputs": [],
   "source": [
    "ENH5_cmap = {\n",
    "    'CM': '#C4B04F'}"
   ]
  },
  {
   "cell_type": "code",
   "execution_count": 13,
   "metadata": {},
   "outputs": [],
   "source": [
    "PROM1_cmap = {\n",
    "    'CM': '#c44e52'}"
   ]
  },
  {
   "cell_type": "code",
   "execution_count": 14,
   "metadata": {},
   "outputs": [],
   "source": [
    "WT_cmap = {\n",
    "    'CM': '#8c8c8c'}"
   ]
  },
  {
   "cell_type": "code",
   "execution_count": 15,
   "metadata": {},
   "outputs": [
    {
     "data": {
      "image/png": "[encoded data removed]",
      "text/plain": [
       "<Figure size 720x432 with 1 Axes>"
      ]
     },
     "metadata": {
      "needs_background": "light"
     },
     "output_type": "display_data"
    }
   ],
   "source": [
    "plt.rcParams.update({'font.size': 15})\n",
    "\n",
    "fig, ax = plt.subplots(1, figsize=(10,6))\n",
    "\n",
    "width = 0.20\n",
    "\n",
    "labels =  ['CM' ]\n",
    "\n",
    "\n",
    "for i, c in enumerate(Total_Percents[3]):\n",
    "    ax.bar(i, c, width, color=WT_cmap[labels[i]])\n",
    "    \n",
    "for i, c in enumerate(Total_Percents[2]):\n",
    "    ax.bar(i + width, c, width, color=PROM1_cmap[labels[i]])\n",
    "    \n",
    "for i, c in enumerate(Total_Percents[0]):\n",
    "    ax.bar(i + width + width, c, width, color=ENH3_cmap[labels[i]])\n",
    "\n",
    "for i, c in enumerate(Total_Percents[1]):\n",
    "    ax.bar(i + width + width + width, c, width, color=ENH5_cmap[labels[i]])\n",
    "    \n",
    "ax.set_xticks(np.arange(i+1) + .17)\n",
    "ax.set_xticklabels(labels)\n",
    "ax.set_ylabel('% Cells')\n",
    "plt.xticks(rotation = 45)\n",
    "rects = ax.patches\n",
    "rect_subset = rects[4:]\n",
    "\n",
    "\n",
    "\n",
    "plt.ylim(0, 75)\n",
    "plt.ylabel('Percent Cells')\n",
    "plt.title('TBX5 Cell Percents Across Differentiation')\n",
    "fig.tight_layout()\n",
    "fig.savefig('./All_CM_Bar.pdf')"
   ]
  }
 ],
 "metadata": {
  "kernelspec": {
   "display_name": "hope",
   "language": "python",
   "name": "hope"
  },
  "language_info": {
   "codemirror_mode": {
    "name": "ipython",
    "version": 3
   },
   "file_extension": ".py",
   "mimetype": "text/x-python",
   "name": "python",
   "nbconvert_exporter": "python",
   "pygments_lexer": "ipython3",
   "version": "3.6.12"
  }
 },
 "nbformat": 4,
 "nbformat_minor": 2
}
