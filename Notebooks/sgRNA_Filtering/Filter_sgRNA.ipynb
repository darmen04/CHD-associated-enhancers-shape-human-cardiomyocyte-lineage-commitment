{
 "cells": [
  {
   "cell_type": "code",
   "execution_count": 2,
   "metadata": {},
   "outputs": [],
   "source": [
    "#import scrublet as scr\n",
    "import numpy as np\n",
    "import pandas as pd\n",
    "import statistics as st\n",
    "import re\n",
    "import csv\n",
    "import scanpy as sc \n",
    "import scanpy.external as sce\n",
    "import phate\n",
    "import matplotlib\n",
    "from matplotlib import pyplot as plt\n",
    "import warnings\n",
    "import pickle\n",
    "from scipy.stats import binom\n",
    "from scipy.stats import multinomial\n",
    "import seaborn as sns\n",
    "from scipy.stats import hypergeom\n",
    "import warnings\n",
    "warnings.filterwarnings('ignore')\n",
    "import scrublet as scr\n",
    "import scipy\n",
    "import itertools\n",
    "import harmonypy as hm\n",
    "from random import sample\n",
    "import matplotlib.patches as mpatches\n",
    "from scipy.stats import linregress\n",
    "\n",
    "\n",
    "\n",
    "from sgRNA_Filtering_Functions import CB_Filter_SG_Stat\n",
    "from sgRNA_Filtering_Functions import CB_Filter_SG_Stat_ALL"
   ]
  },
  {
   "cell_type": "markdown",
   "metadata": {},
   "source": [
    "# Load Data"
   ]
  },
  {
   "cell_type": "code",
   "execution_count": 131,
   "metadata": {},
   "outputs": [],
   "source": [
    "#SG_DF = pd.read_pickle('/project/GCRB/Hon_lab/s425140/03.Data/07.Cardiomyocyte_Small_Scale/DAP3/07_28_21_Paper/PICKLES/DAP3_SGRNA_IND_072821.pkl')"
   ]
  },
  {
   "cell_type": "code",
   "execution_count": 132,
   "metadata": {},
   "outputs": [],
   "source": [
    "#CM_Cells = sc.read_h5ad('/project/GCRB/Hon_lab/s425140/03.Data/07.Cardiomyocyte_Small_Scale/DAP3/07_28_21_Paper/H5AD/DAP3_SC_CM_Pseudo_PHATE_Man_080521.h5ad')"
   ]
  },
  {
   "cell_type": "code",
   "execution_count": 133,
   "metadata": {},
   "outputs": [],
   "source": [
    "Single_Guide_List= ['NC_GAG', 'NC_GFP', 'NC_GFP_1', 'NC_GFP_2', 'NC_HS2', 'MALAT1']"
   ]
  },
  {
   "cell_type": "code",
   "execution_count": 134,
   "metadata": {},
   "outputs": [],
   "source": [
    "PATH = '/project/GCRB/Hon_lab/s425140/03.Data/07.Cardiomyocyte_Small_Scale/DAP3/07_28_21_Paper/DIC/'\n",
    "Dict_File = open(PATH + \"Guide_Dictionary.pkl\", \"rb\")\n",
    "Guide_Dictionary = pickle.load(Dict_File)"
   ]
  },
  {
   "cell_type": "markdown",
   "metadata": {},
   "source": [
    "### CM Filtered"
   ]
  },
  {
   "cell_type": "code",
   "execution_count": 15,
   "metadata": {},
   "outputs": [],
   "source": [
    "PATH = '/project/GCRB/Hon_lab/s425140/03.Data/07.Cardiomyocyte_Small_Scale/DAP3/07_28_21_Paper/SG_FILTERING/'\n",
    "\n",
    "Filtered_Targets = []\n",
    "Filtered_SG = []\n",
    "for Target in Guide_Dictionary:\n",
    "    if Target in Single_Guide_List:\n",
    "        continue\n",
    "    \n",
    "    Enr_Guides, Dep_Guides, Faulty_Guides = CB_Filter_SG_Stat(pval_path=PATH, target=Target, df_suffix='_080521_', dict_suffix='_combo_dict_080521', total_sg=396)\n",
    "    #Faulty_Guides = CB_Filter_SG_Stat(pval_path=PATH, target=Target, df_suffix='_072621_', dict_suffix='_combo_dict_072621')\n",
    "    if len(Faulty_Guides) > 0:\n",
    "        Filtered_Targets.append(Target)\n",
    "        Filtered_SG.append(Faulty_Guides)\n",
    "\n",
    "FILTERED_DICT = dict(zip(Filtered_Targets,Filtered_SG))"
   ]
  },
  {
   "cell_type": "code",
   "execution_count": 17,
   "metadata": {},
   "outputs": [],
   "source": [
    "a_file = open(PATH + \"CM_FILTERED_DICT_080521.pkl\", \"wb\")\n",
    "pickle.dump(FILTERED_DICT, a_file)\n",
    "a_file.close()"
   ]
  },
  {
   "cell_type": "markdown",
   "metadata": {},
   "source": [
    "### ALL Filtered"
   ]
  },
  {
   "cell_type": "code",
   "execution_count": 18,
   "metadata": {},
   "outputs": [],
   "source": [
    "PATH = '/project/GCRB/Hon_lab/s425140/03.Data/07.Cardiomyocyte_Small_Scale/DAP3/07_28_21_Paper/SG_FILTERING/'\n",
    "\n",
    "Filtered_Targets = []\n",
    "Filtered_SG = []\n",
    "for Target in Guide_Dictionary:\n",
    "    if Target in Single_Guide_List:\n",
    "        continue\n",
    "    \n",
    "    Enr_Guides, Dep_Guides, Faulty_Guides = CB_Filter_SG_Stat_ALL(pval_path=PATH, target=Target, df_suffix='_080321_', dict_suffix='_combo_dict_080321_ALL', total_sg=396)\n",
    "    if len(Faulty_Guides) > 0:\n",
    "        Filtered_Targets.append(Target)\n",
    "        Filtered_SG.append(Faulty_Guides)\n",
    "\n",
    "FILTERED_DICT_ALL = dict(zip(Filtered_Targets,Filtered_SG))"
   ]
  },
  {
   "cell_type": "code",
   "execution_count": 19,
   "metadata": {},
   "outputs": [],
   "source": [
    "a_file = open(PATH + \"ALL_FILTERED_DICT_080521.pkl\", \"wb\")\n",
    "pickle.dump(FILTERED_DICT_ALL, a_file)\n",
    "a_file.close()"
   ]
  },
  {
   "cell_type": "markdown",
   "metadata": {},
   "source": [
    "### Replace sgRNA cells based on CM Filtered"
   ]
  },
  {
   "cell_type": "code",
   "execution_count": 135,
   "metadata": {},
   "outputs": [],
   "source": [
    "PATH = '../../Data/Pickles/'\n",
    "Dict_File = open(PATH + \"CM_Large_sgRNA_Dic.pkl\", \"rb\")\n",
    "CM_Cells_Dic = pickle.load(Dict_File)"
   ]
  },
  {
   "cell_type": "code",
   "execution_count": 136,
   "metadata": {},
   "outputs": [],
   "source": [
    "PATH = '../../Data/Pickles/'\n",
    "Dict_File = open(PATH + \"ALL_Large_sgRNA_Dic.pkl\", \"rb\")\n",
    "ALL_Cells_Dic = pickle.load(Dict_File)"
   ]
  },
  {
   "cell_type": "code",
   "execution_count": 137,
   "metadata": {},
   "outputs": [],
   "source": [
    "PATH = '../../Data/Pickles/'\n",
    "Dict_File = open(PATH + \"Filtered_CM_NC.pkl\", \"rb\")\n",
    "Filtered_NC_CM = pickle.load(Dict_File)"
   ]
  },
  {
   "cell_type": "code",
   "execution_count": 3,
   "metadata": {},
   "outputs": [],
   "source": [
    "PATH = '../../Data/Pickles/'\n",
    "Dict_File = open(PATH + \"CM_FILTERED_DICT_080521.pkl\", \"rb\")\n",
    "CM_FILTERED_DICT = pickle.load(Dict_File)"
   ]
  },
  {
   "cell_type": "code",
   "execution_count": 139,
   "metadata": {},
   "outputs": [],
   "source": [
    "Targets = []\n",
    "Target_SG = []\n",
    "\n",
    "for target in Guide_Dictionary.keys():\n",
    "    \n",
    "    filtered_guides = []\n",
    "    \n",
    "    if target not in CM_FILTERED_DICT.keys():\n",
    "        continue\n",
    "    \n",
    "    faulty_guides = []\n",
    "    for sg_filt in CM_FILTERED_DICT[target]:\n",
    "        faulty_guides.append(Guide_Dictionary[target][sg_filt - 1])\n",
    "        \n",
    "    for sg in Guide_Dictionary[target]:\n",
    "        if sg not in faulty_guides:\n",
    "            filtered_guides.append(sg)\n",
    "            \n",
    "    Guide_Dictionary[target] = filtered_guides   "
   ]
  },
  {
   "cell_type": "code",
   "execution_count": 141,
   "metadata": {},
   "outputs": [],
   "source": [
    "Filtered_NC_List = [i for i in Guide_Dictionary['NC'] if i not in Filtered_NC_CM]\n",
    "Guide_Dictionary['NC'] = Filtered_NC_List"
   ]
  },
  {
   "cell_type": "code",
   "execution_count": 142,
   "metadata": {},
   "outputs": [],
   "source": [
    "del CM_Cells_Dic[Filtered_NC_CM]\n",
    "del ALL_Cells_Dic[Filtered_NC_CM]"
   ]
  },
  {
   "cell_type": "code",
   "execution_count": 143,
   "metadata": {},
   "outputs": [],
   "source": [
    "PATH = '../../Data/Pickles/'"
   ]
  },
  {
   "cell_type": "code",
   "execution_count": 144,
   "metadata": {},
   "outputs": [],
   "source": [
    "### Save Guide Dictionary\n",
    "a_file = open(PATH + \"Guide_Dictionary_Filtered.pkl\", \"wb\")\n",
    "pickle.dump(Guide_Dictionary, a_file)\n",
    "a_file.close()"
   ]
  },
  {
   "cell_type": "code",
   "execution_count": 145,
   "metadata": {},
   "outputs": [],
   "source": [
    "### Save Guide Dictionary\n",
    "a_file = open(PATH + \"CM_Large_sgRNA_Dic_Filtered.pkl\", \"wb\")\n",
    "pickle.dump(CM_Cells_Dic, a_file)\n",
    "a_file.close()"
   ]
  },
  {
   "cell_type": "code",
   "execution_count": 146,
   "metadata": {},
   "outputs": [],
   "source": [
    "### Save Guide Dictionary\n",
    "a_file = open(PATH + \"ALL_Large_sgRNA_Dic_Filtered.pkl\", \"wb\")\n",
    "pickle.dump(ALL_Cells_Dic, a_file)\n",
    "a_file.close()"
   ]
  }
 ],
 "metadata": {
  "kernelspec": {
   "display_name": "hope",
   "language": "python",
   "name": "hope"
  },
  "language_info": {
   "codemirror_mode": {
    "name": "ipython",
    "version": 3
   },
   "file_extension": ".py",
   "mimetype": "text/x-python",
   "name": "python",
   "nbconvert_exporter": "python",
   "pygments_lexer": "ipython3",
   "version": "3.6.12"
  }
 },
 "nbformat": 4,
 "nbformat_minor": 2
}
