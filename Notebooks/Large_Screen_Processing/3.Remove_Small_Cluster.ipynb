{
 "cells": [
  {
   "cell_type": "code",
   "execution_count": 2,
   "metadata": {},
   "outputs": [],
   "source": [
    "#import scrublet as scr\n",
    "import numpy as np\n",
    "import pandas as pd\n",
    "import statistics as st\n",
    "import re\n",
    "import csv\n",
    "import scanpy as sc \n",
    "import scanpy.external as sce\n",
    "import phate\n",
    "import matplotlib\n",
    "from matplotlib import pyplot as plt\n",
    "import warnings\n",
    "from scipy.stats import binom\n",
    "from scipy.stats import multinomial\n",
    "import seaborn\n",
    "from scipy.stats import hypergeom\n",
    "import warnings\n",
    "warnings.filterwarnings('ignore')\n",
    "import scrublet as scr\n",
    "import harmonypy as hm\n",
    "\n",
    "def adjust_feature(feature_matrix, feature_id):\n",
    "    c, f = feature_matrix.shape\n",
    "    feature_matrix = feature_matrix.copy().todense()\n",
    "    \n",
    "    for i in np.arange(f):\n",
    "        feature_umi_array = np.asarray(feature_matrix[:,i]).squeeze()\n",
    "\n",
    "        feature_umi_array_sort = feature_umi_array[np.argsort(feature_umi_array * -1)]\n",
    "        feature_cumsum = np.cumsum(feature_umi_array_sort)\n",
    "\n",
    "        cell_num = np.sum(feature_umi_array_sort > 0)\n",
    "\n",
    "        turn_point = np.sum(np.diff(feature_cumsum) / np.sum(feature_umi_array) > (1 / cell_num))\n",
    "        feature_matrix[np.where(feature_umi_array < feature_umi_array_sort[turn_point]), i] = 0\n",
    "        \n",
    "    return feature_matrix"
   ]
  },
  {
   "cell_type": "code",
   "execution_count": 3,
   "metadata": {},
   "outputs": [],
   "source": [
    "adata = sc.read_h5ad('./DAP3_SC_072821.h5ad')"
   ]
  },
  {
   "cell_type": "code",
   "execution_count": 4,
   "metadata": {},
   "outputs": [],
   "source": [
    "SG_DF = pd.read_pickle('./DAP3_SGRNA_IND_072821.pkl')"
   ]
  },
  {
   "cell_type": "code",
   "execution_count": 5,
   "metadata": {},
   "outputs": [],
   "source": [
    "SG_DF_Grouped = pd.read_pickle('./DAP3_SGRNA_GROUP_072821.pkl')"
   ]
  },
  {
   "cell_type": "code",
   "execution_count": 8,
   "metadata": {},
   "outputs": [],
   "source": [
    "adata = adata[adata.obs.louvain != '7']"
   ]
  },
  {
   "cell_type": "code",
   "execution_count": 13,
   "metadata": {},
   "outputs": [],
   "source": [
    "sg_pos = []\n",
    "for cell in adata.obs.index:\n",
    "    try:\n",
    "        if sum(SG_DF.loc[cell] > 0) > 0:\n",
    "            sg_pos.append(cell)\n",
    "    except:\n",
    "        continue\n",
    "SG_DF = SG_DF.loc[sg_pos]\n",
    "SG_DF_Grouped = SG_DF_Grouped.loc[sg_pos]\n",
    "adata = adata[sg_pos]"
   ]
  },
  {
   "cell_type": "code",
   "execution_count": 17,
   "metadata": {},
   "outputs": [
    {
     "name": "stderr",
     "output_type": "stream",
     "text": [
      "Trying to set attribute `.uns` of view, copying.\n"
     ]
    }
   ],
   "source": [
    "sc.tl.rank_genes_groups(adata, 'louvain', method='wilcoxon')"
   ]
  },
  {
   "cell_type": "code",
   "execution_count": 18,
   "metadata": {},
   "outputs": [],
   "source": [
    "adata.write('./DAP3_SC_072821.h5ad')"
   ]
  },
  {
   "cell_type": "code",
   "execution_count": 15,
   "metadata": {},
   "outputs": [],
   "source": [
    "SG_DF.to_pickle('./DAP3_SGRNA_IND_SC_072821.pkl')"
   ]
  },
  {
   "cell_type": "code",
   "execution_count": 16,
   "metadata": {},
   "outputs": [],
   "source": [
    "SG_DF_Grouped.to_pickle('./DAP3_SGRNA_GROUP_SC_072821.pkl')"
   ]
  }
 ],
 "metadata": {
  "kernelspec": {
   "display_name": "hope",
   "language": "python",
   "name": "hope"
  },
  "language_info": {
   "codemirror_mode": {
    "name": "ipython",
    "version": 3
   },
   "file_extension": ".py",
   "mimetype": "text/x-python",
   "name": "python",
   "nbconvert_exporter": "python",
   "pygments_lexer": "ipython3",
   "version": "3.6.12"
  }
 },
 "nbformat": 4,
 "nbformat_minor": 2
}
