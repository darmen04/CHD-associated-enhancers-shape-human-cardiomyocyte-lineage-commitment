{
 "cells": [
  {
   "cell_type": "code",
   "execution_count": 1,
   "metadata": {},
   "outputs": [],
   "source": [
    "import scipy\n",
    "import statistics\n",
    "import scanpy as sc\n",
    "import numpy as np\n",
    "import pandas as pd\n",
    "import matplotlib as mpl\n",
    "import collections\n",
    "from collections import defaultdict\n",
    "import matplotlib\n",
    "from matplotlib import pyplot as plt\n",
    "import scipy.io as io\n",
    "%matplotlib inline\n",
    "\n",
    "matplotlib.rcParams['pdf.fonttype'] = 42\n",
    "\n",
    "from _util_updated import nested_dict\n",
    "from _util_updated import turn_point\n",
    "from _util_updated import load_data\n",
    "from _util_updated import filter_umi"
   ]
  },
  {
   "cell_type": "code",
   "execution_count": 2,
   "metadata": {},
   "outputs": [],
   "source": [
    "csv_DIR = ''\n",
    "sg_csv = (pd.read_csv(csv_DIR + 'DAP3_NAMES.csv', delimiter=',', header = None))\n",
    "sg_csv.columns = ('Seq', 'ID')"
   ]
  },
  {
   "cell_type": "code",
   "execution_count": 3,
   "metadata": {},
   "outputs": [],
   "source": [
    "sgRNA_DIR = ''\n",
    "\n",
    "DAA259_SG_RAW = pd.read_csv(sgRNA_DIR + 'DAA259_matrix_featurecount.csv.gz', compression='gzip', header=0,index_col = 0, sep=',', quotechar='\"')\n",
    "sg_seq = []\n",
    "new_columns = []\n",
    "for sg in DAA259_SG_RAW.index:\n",
    "    sg_seq.append(sg.split('_')[2])\n",
    "DAA259_SG_RAW.index = sg_seq\n",
    "for col_id in DAA259_SG_RAW.columns:\n",
    "    col_name_adj = col_id + '-1'\n",
    "    new_columns.append(col_name_adj)\n",
    "DAA259_SG_RAW.columns = new_columns\n",
    "\n",
    "DAA260_SG_RAW = pd.read_csv(sgRNA_DIR + 'DAA260_matrix_featurecount.csv.gz', compression='gzip', header=0,index_col = 0, sep=',', quotechar='\"')\n",
    "sg_seq = []\n",
    "new_columns = []\n",
    "for sg in DAA260_SG_RAW.index:\n",
    "    sg_seq.append(sg.split('_')[2])\n",
    "DAA260_SG_RAW.index = sg_seq\n",
    "for col_id in DAA260_SG_RAW.columns:\n",
    "    col_name_adj = col_id + '-2'\n",
    "    new_columns.append(col_name_adj)\n",
    "DAA260_SG_RAW.columns = new_columns\n",
    "\n",
    "\n",
    "DAA261_SG_RAW = pd.read_csv(sgRNA_DIR + 'DAA261_matrix_featurecount.csv.gz', compression='gzip', header=0,index_col = 0, sep=',', quotechar='\"')\n",
    "sg_seq = []\n",
    "new_columns = []\n",
    "for sg in DAA261_SG_RAW.index:\n",
    "    sg_seq.append(sg.split('_')[2])\n",
    "DAA261_SG_RAW.index = sg_seq\n",
    "for col_id in DAA261_SG_RAW.columns:\n",
    "    col_name_adj = col_id + '-3'\n",
    "    new_columns.append(col_name_adj)\n",
    "DAA261_SG_RAW.columns = new_columns\n",
    "\n",
    "\n",
    "DAA262_SG_RAW = pd.read_csv(sgRNA_DIR + 'DAA262_matrix_featurecount.csv.gz', compression='gzip', header=0,index_col = 0, sep=',', quotechar='\"')\n",
    "sg_seq = []\n",
    "new_columns = []\n",
    "for sg in DAA262_SG_RAW.index:\n",
    "    sg_seq.append(sg.split('_')[2])\n",
    "DAA262_SG_RAW.index = sg_seq\n",
    "for col_id in DAA262_SG_RAW.columns:\n",
    "    col_name_adj = col_id + '-4'\n",
    "    new_columns.append(col_name_adj)\n",
    "DAA262_SG_RAW.columns = new_columns\n",
    "\n",
    "DAA263_SG_RAW = pd.read_csv(sgRNA_DIR + 'DAA263_matrix_featurecount.csv.gz', compression='gzip', header=0,index_col = 0, sep=',', quotechar='\"')\n",
    "sg_seq = []\n",
    "new_columns = []\n",
    "for sg in DAA263_SG_RAW.index:\n",
    "    sg_seq.append(sg.split('_')[2])\n",
    "DAA263_SG_RAW.index = sg_seq\n",
    "for col_id in DAA263_SG_RAW.columns:\n",
    "    col_name_adj = col_id + '-5'\n",
    "    new_columns.append(col_name_adj)\n",
    "DAA263_SG_RAW.columns = new_columns\n",
    "\n",
    "DAA264_SG_RAW = pd.read_csv(sgRNA_DIR + 'DAA264_matrix_featurecount.csv.gz', compression='gzip', header=0,index_col = 0, sep=',', quotechar='\"')\n",
    "sg_seq = []\n",
    "new_columns = []\n",
    "for sg in DAA264_SG_RAW.index:\n",
    "    sg_seq.append(sg.split('_')[2])\n",
    "DAA264_SG_RAW.index = sg_seq\n",
    "for col_id in DAA264_SG_RAW.columns:\n",
    "    col_name_adj = col_id + '-6'\n",
    "    new_columns.append(col_name_adj)\n",
    "DAA264_SG_RAW.columns = new_columns\n",
    "\n",
    "DAA265_SG_RAW = pd.read_csv(sgRNA_DIR + 'DAA265_matrix_featurecount.csv.gz', compression='gzip', header=0,index_col = 0, sep=',', quotechar='\"')\n",
    "sg_seq = []\n",
    "new_columns = []\n",
    "for sg in DAA265_SG_RAW.index:\n",
    "    sg_seq.append(sg.split('_')[2])\n",
    "DAA265_SG_RAW.index = sg_seq\n",
    "for col_id in DAA265_SG_RAW.columns:\n",
    "    col_name_adj = col_id + '-7'\n",
    "    new_columns.append(col_name_adj)\n",
    "DAA265_SG_RAW.columns = new_columns\n",
    "\n",
    "DAA266_SG_RAW = pd.read_csv(sgRNA_DIR + 'DAA266_matrix_featurecount.csv.gz', compression='gzip', header=0,index_col = 0, sep=',', quotechar='\"')\n",
    "sg_seq = []\n",
    "new_columns = []\n",
    "for sg in DAA266_SG_RAW.index:\n",
    "    sg_seq.append(sg.split('_')[2])\n",
    "DAA266_SG_RAW.index = sg_seq\n",
    "for col_id in DAA266_SG_RAW.columns:\n",
    "    col_name_adj = col_id + '-8'\n",
    "    new_columns.append(col_name_adj)\n",
    "DAA266_SG_RAW.columns = new_columns"
   ]
  },
  {
   "cell_type": "code",
   "execution_count": 28,
   "metadata": {},
   "outputs": [
    {
     "name": "stdout",
     "output_type": "stream",
     "text": [
      "2.649874055415617\n"
     ]
    }
   ],
   "source": [
    "DAA259_df_adj,cutoffs = filter_umi(DAA259_SG_RAW)\n",
    "\n",
    "print(np.mean(cutoffs))\n",
    "### Replace sgRNA Sequence with Name\n",
    "temp_DAA259 = DAA259_df_adj\n",
    "new_name = []\n",
    "for seq in temp_DAA259.index:\n",
    "        name_index = sg_csv[sg_csv.Seq == seq].index\n",
    "        sgRNA_name = sg_csv.ID[name_index].tolist()[0]\n",
    "        new_name.append(sgRNA_name)\n",
    "temp_DAA259.index = new_name      \n",
    "DAA259_df_name = temp_DAA259.T"
   ]
  },
  {
   "cell_type": "code",
   "execution_count": 5,
   "metadata": {},
   "outputs": [
    {
     "name": "stdout",
     "output_type": "stream",
     "text": [
      "2.7355163727959697\n"
     ]
    }
   ],
   "source": [
    "DAA260_df_adj,cutoffs = filter_umi(DAA260_SG_RAW)\n",
    "print(np.mean(cutoffs))\n",
    "\n",
    "### Replace sgRNA Sequence with Name\n",
    "temp_DAA260 = DAA260_df_adj\n",
    "new_name = []\n",
    "for seq in temp_DAA260.index:\n",
    "        name_index = sg_csv[sg_csv.Seq == seq].index\n",
    "        sgRNA_name = sg_csv.ID[name_index].tolist()[0]\n",
    "        new_name.append(sgRNA_name)\n",
    "temp_DAA260.index = new_name    \n",
    "DAA260_df_name = temp_DAA260.T"
   ]
  },
  {
   "cell_type": "code",
   "execution_count": 6,
   "metadata": {},
   "outputs": [
    {
     "name": "stdout",
     "output_type": "stream",
     "text": [
      "2.1007556675062973\n"
     ]
    }
   ],
   "source": [
    "DAA261_df_adj,cutoffs = filter_umi(DAA261_SG_RAW)\n",
    "print(np.mean(cutoffs))\n",
    "\n",
    "### Replace sgRNA Sequence with Name\n",
    "temp_DAA261 = DAA261_df_adj\n",
    "new_name = []\n",
    "for seq in temp_DAA261.index:\n",
    "        name_index = sg_csv[sg_csv.Seq == seq].index\n",
    "        sgRNA_name = sg_csv.ID[name_index].tolist()[0]\n",
    "        new_name.append(sgRNA_name)\n",
    "temp_DAA261.index = new_name    \n",
    "DAA261_df_name = temp_DAA261.T"
   ]
  },
  {
   "cell_type": "code",
   "execution_count": 7,
   "metadata": {},
   "outputs": [
    {
     "name": "stdout",
     "output_type": "stream",
     "text": [
      "2.1662468513853903\n"
     ]
    }
   ],
   "source": [
    "DAA262_df_adj,cutoffs = filter_umi(DAA262_SG_RAW)\n",
    "print(np.mean(cutoffs))\n",
    "\n",
    "### Replace sgRNA Sequence with Name\n",
    "temp_DAA262 = DAA262_df_adj\n",
    "new_name = []\n",
    "for seq in temp_DAA262.index:\n",
    "        name_index = sg_csv[sg_csv.Seq == seq].index\n",
    "        sgRNA_name = sg_csv.ID[name_index].tolist()[0]\n",
    "        new_name.append(sgRNA_name)\n",
    "temp_DAA262.index = new_name    \n",
    "DAA262_df_name = temp_DAA262.T"
   ]
  },
  {
   "cell_type": "code",
   "execution_count": 8,
   "metadata": {},
   "outputs": [
    {
     "name": "stdout",
     "output_type": "stream",
     "text": [
      "2.697732997481108\n"
     ]
    }
   ],
   "source": [
    "DAA263_df_adj,cutoffs = filter_umi(DAA263_SG_RAW)\n",
    "print(np.mean(cutoffs))\n",
    "\n",
    "### Replace sgRNA Sequence with Name\n",
    "temp_DAA263 = DAA263_df_adj\n",
    "new_name = []\n",
    "for seq in temp_DAA263.index:\n",
    "        name_index = sg_csv[sg_csv.Seq == seq].index\n",
    "        sgRNA_name = sg_csv.ID[name_index].tolist()[0]\n",
    "        new_name.append(sgRNA_name)\n",
    "temp_DAA263.index = new_name    \n",
    "DAA263_df_name = temp_DAA263.T"
   ]
  },
  {
   "cell_type": "code",
   "execution_count": 9,
   "metadata": {},
   "outputs": [
    {
     "name": "stdout",
     "output_type": "stream",
     "text": [
      "2.4307304785894206\n"
     ]
    }
   ],
   "source": [
    "DAA264_df_adj,cutoffs = filter_umi(DAA264_SG_RAW)\n",
    "print(np.mean(cutoffs))\n",
    "\n",
    "### Replace sgRNA Sequence with Name\n",
    "temp_DAA264 = DAA264_df_adj\n",
    "new_name = []\n",
    "for seq in temp_DAA264.index:\n",
    "        name_index = sg_csv[sg_csv.Seq == seq].index\n",
    "        sgRNA_name = sg_csv.ID[name_index].tolist()[0]\n",
    "        new_name.append(sgRNA_name)\n",
    "temp_DAA264.index = new_name    \n",
    "DAA264_df_name = temp_DAA264.T"
   ]
  },
  {
   "cell_type": "code",
   "execution_count": 10,
   "metadata": {},
   "outputs": [
    {
     "name": "stdout",
     "output_type": "stream",
     "text": [
      "2.496221662468514\n"
     ]
    }
   ],
   "source": [
    "DAA265_df_adj,cutoffs = filter_umi(DAA265_SG_RAW)\n",
    "print(np.mean(cutoffs))\n",
    "\n",
    "### Replace sgRNA Sequence with Name\n",
    "temp_DAA265 = DAA265_df_adj\n",
    "new_name = []\n",
    "for seq in temp_DAA265.index:\n",
    "        name_index = sg_csv[sg_csv.Seq == seq].index\n",
    "        sgRNA_name = sg_csv.ID[name_index].tolist()[0]\n",
    "        new_name.append(sgRNA_name)\n",
    "temp_DAA265.index = new_name    \n",
    "DAA265_df_name = temp_DAA265.T"
   ]
  },
  {
   "cell_type": "code",
   "execution_count": 11,
   "metadata": {},
   "outputs": [
    {
     "name": "stdout",
     "output_type": "stream",
     "text": [
      "2.1788413098236776\n"
     ]
    }
   ],
   "source": [
    "DAA266_df_adj,cutoffs = filter_umi(DAA266_SG_RAW)\n",
    "print(np.mean(cutoffs))\n",
    "\n",
    "### Replace sgRNA Sequence with Name\n",
    "temp_DAA266 = DAA266_df_adj\n",
    "new_name = []\n",
    "for seq in temp_DAA266.index:\n",
    "        name_index = sg_csv[sg_csv.Seq == seq].index\n",
    "        sgRNA_name = sg_csv.ID[name_index].tolist()[0]\n",
    "        new_name.append(sgRNA_name)\n",
    "temp_DAA266.index = new_name    \n",
    "DAA266_df_name = temp_DAA266.T"
   ]
  },
  {
   "cell_type": "markdown",
   "metadata": {},
   "source": [
    "### Combine Matrix"
   ]
  },
  {
   "cell_type": "code",
   "execution_count": 17,
   "metadata": {},
   "outputs": [],
   "source": [
    "All_df_adj = pd.concat([DAA259_df_name, DAA260_df_name, DAA261_df_name, DAA262_df_name, DAA263_df_name, DAA264_df_name, DAA265_df_name, DAA266_df_name]).fillna(value=0)"
   ]
  },
  {
   "cell_type": "code",
   "execution_count": 30,
   "metadata": {},
   "outputs": [],
   "source": [
    "DAA259_df_adj,cutoffs = filter_umi(DAA259_SG_RAW)\n",
    "DAA260_df_adj,cutoffs = filter_umi(DAA260_SG_RAW)\n",
    "DAA261_df_adj,cutoffs = filter_umi(DAA261_SG_RAW)\n",
    "DAA262_df_adj,cutoffs = filter_umi(DAA262_SG_RAW)\n",
    "DAA263_df_adj,cutoffs = filter_umi(DAA263_SG_RAW)\n",
    "DAA264_df_adj,cutoffs = filter_umi(DAA264_SG_RAW)\n",
    "DAA265_df_adj,cutoffs = filter_umi(DAA265_SG_RAW)\n",
    "DAA266_df_adj,cutoffs = filter_umi(DAA266_SG_RAW)"
   ]
  },
  {
   "cell_type": "code",
   "execution_count": 31,
   "metadata": {},
   "outputs": [],
   "source": [
    "All_df_adj_seq = pd.concat([DAA259_df_adj.T, DAA260_df_adj.T, DAA261_df_adj.T, DAA262_df_adj.T, DAA263_df_adj.T, DAA264_df_adj.T, DAA265_df_adj.T, DAA266_df_adj.T]).fillna(value=0)"
   ]
  },
  {
   "cell_type": "code",
   "execution_count": 93,
   "metadata": {},
   "outputs": [],
   "source": [
    "sg_cells = []\n",
    "\n",
    "for cell in All_df_adj.index:\n",
    "    if sum(All_df_adj.loc[cell]) > 0:\n",
    "        sg_cells.append(cell)\n",
    "All_df_adj_SG = All_df_adj.loc[sg_cells]"
   ]
  },
  {
   "cell_type": "code",
   "execution_count": 94,
   "metadata": {},
   "outputs": [],
   "source": [
    "All_df_adj_SG.to_pickle('./DAP3_SGRNA_IND_072821.pkl')"
   ]
  },
  {
   "cell_type": "code",
   "execution_count": 33,
   "metadata": {},
   "outputs": [],
   "source": [
    "All_df_adj_seq.to_pickle('./DAP3_SGRNA_IND_072821_seq.pkl')"
   ]
  },
  {
   "cell_type": "markdown",
   "metadata": {},
   "source": [
    "### Grouped Name (Combine sgRNA for each target)"
   ]
  },
  {
   "cell_type": "code",
   "execution_count": 95,
   "metadata": {},
   "outputs": [],
   "source": [
    "for column in All_df_adj_SG.columns:\n",
    "    new_column = column.split(':')[0]\n",
    "    All_df_adj_SG.rename(columns={column:new_column}, inplace = True)"
   ]
  },
  {
   "cell_type": "code",
   "execution_count": 96,
   "metadata": {},
   "outputs": [],
   "source": [
    "All_df_adj_grouped = All_df_adj_SG.groupby(All_df_adj_SG.columns, axis=1).sum()"
   ]
  },
  {
   "cell_type": "code",
   "execution_count": 97,
   "metadata": {},
   "outputs": [],
   "source": [
    "All_df_adj_grouped.to_pickle('./DAP3_SGRNA_GROUP_072821.pkl')"
   ]
  }
 ],
 "metadata": {
  "kernelspec": {
   "display_name": "hope",
   "language": "python",
   "name": "hope"
  },
  "language_info": {
   "codemirror_mode": {
    "name": "ipython",
    "version": 3
   },
   "file_extension": ".py",
   "mimetype": "text/x-python",
   "name": "python",
   "nbconvert_exporter": "python",
   "pygments_lexer": "ipython3",
   "version": "3.6.12"
  }
 },
 "nbformat": 4,
 "nbformat_minor": 2
}
