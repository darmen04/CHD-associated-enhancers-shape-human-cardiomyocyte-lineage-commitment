{
 "cells": [
  {
   "cell_type": "code",
   "execution_count": 1,
   "metadata": {},
   "outputs": [],
   "source": [
    "#import scrublet as scr\n",
    "import numpy as np\n",
    "import pandas as pd\n",
    "import statistics as st\n",
    "import re\n",
    "import csv\n",
    "import scanpy as sc \n",
    "import scanpy.external as sce\n",
    "import phate\n",
    "import matplotlib\n",
    "from matplotlib import pyplot as plt\n",
    "import warnings\n",
    "from scipy.stats import binom\n",
    "from scipy.stats import multinomial\n",
    "import seaborn\n",
    "from scipy.stats import hypergeom\n",
    "import warnings\n",
    "warnings.filterwarnings('ignore')\n",
    "import scrublet as scr\n",
    "import harmonypy as hm\n",
    "\n",
    "def adjust_feature(feature_matrix, feature_id):\n",
    "    c, f = feature_matrix.shape\n",
    "    feature_matrix = feature_matrix.copy().todense()\n",
    "    \n",
    "    for i in np.arange(f):\n",
    "        feature_umi_array = np.asarray(feature_matrix[:,i]).squeeze()\n",
    "\n",
    "        feature_umi_array_sort = feature_umi_array[np.argsort(feature_umi_array * -1)]\n",
    "        feature_cumsum = np.cumsum(feature_umi_array_sort)\n",
    "\n",
    "        cell_num = np.sum(feature_umi_array_sort > 0)\n",
    "\n",
    "        turn_point = np.sum(np.diff(feature_cumsum) / np.sum(feature_umi_array) > (1 / cell_num))\n",
    "        feature_matrix[np.where(feature_umi_array < feature_umi_array_sort[turn_point]), i] = 0\n",
    "        \n",
    "    return feature_matrix\n",
    "###Paste is shift + insert\n",
    "###Copy is ctrl + instert"
   ]
  },
  {
   "cell_type": "code",
   "execution_count": 2,
   "metadata": {},
   "outputs": [],
   "source": [
    "working_dir = ''"
   ]
  },
  {
   "cell_type": "code",
   "execution_count": 3,
   "metadata": {},
   "outputs": [
    {
     "name": "stderr",
     "output_type": "stream",
     "text": [
      "Variable names are not unique. To make them unique, call `.var_names_make_unique`.\n"
     ]
    }
   ],
   "source": [
    "ds = sc.read_10x_h5(working_dir + 'filtered_feature_bc_matrix.h5', gex_only=False)"
   ]
  },
  {
   "cell_type": "code",
   "execution_count": 4,
   "metadata": {},
   "outputs": [],
   "source": [
    "ds.var_names_make_unique()\n",
    "ds.obs_names_make_unique()"
   ]
  },
  {
   "cell_type": "markdown",
   "metadata": {},
   "source": [
    "### Filter Data"
   ]
  },
  {
   "cell_type": "code",
   "execution_count": 6,
   "metadata": {},
   "outputs": [],
   "source": [
    "scrub = scr.Scrublet(ds.X)"
   ]
  },
  {
   "cell_type": "code",
   "execution_count": 7,
   "metadata": {},
   "outputs": [
    {
     "name": "stdout",
     "output_type": "stream",
     "text": [
      "Preprocessing...\n",
      "Simulating doublets...\n",
      "Embedding transcriptomes using PCA...\n",
      "Calculating doublet scores...\n",
      "Automatically set threshold at doublet score = 0.33\n",
      "Detected doublet rate = 5.6%\n",
      "Estimated detectable doublet fraction = 46.2%\n",
      "Overall doublet rate:\n",
      "\tExpected   = 10.0%\n",
      "\tEstimated  = 12.2%\n",
      "Elapsed time: 27.1 seconds\n"
     ]
    }
   ],
   "source": [
    "doublet_scores, predicted_doublets = scrub.scrub_doublets()"
   ]
  },
  {
   "cell_type": "code",
   "execution_count": 8,
   "metadata": {},
   "outputs": [
    {
     "data": {
      "text/plain": [
       "(<Figure size 576x216 with 2 Axes>,\n",
       " array([<AxesSubplot:title={'center':'Observed transcriptomes'}, xlabel='Doublet score', ylabel='Prob. density'>,\n",
       "        <AxesSubplot:title={'center':'Simulated doublets'}, xlabel='Doublet score', ylabel='Prob. density'>],\n",
       "       dtype=object))"
      ]
     },
     "execution_count": 8,
     "metadata": {},
     "output_type": "execute_result"
    },
    {
     "data": {
      "image/png": "[encoded data removed]",
      "text/plain": [
       "<Figure size 576x216 with 2 Axes>"
      ]
     },
     "metadata": {
      "needs_background": "light"
     },
     "output_type": "display_data"
    }
   ],
   "source": [
    "scrub.plot_histogram()"
   ]
  },
  {
   "cell_type": "code",
   "execution_count": 9,
   "metadata": {},
   "outputs": [],
   "source": [
    "singlets = [not elem for elem in predicted_doublets]\n",
    "single_ds = ds[singlets,:]"
   ]
  },
  {
   "cell_type": "code",
   "execution_count": 10,
   "metadata": {},
   "outputs": [
    {
     "name": "stderr",
     "output_type": "stream",
     "text": [
      "Trying to set attribute `.var` of view, copying.\n"
     ]
    }
   ],
   "source": [
    "#merget gene index\n",
    "c_num, g_num = ds.X.shape\n",
    "\n",
    "all_singlet_idx = np.asarray(ds.obs.index)\n",
    "\n",
    "\n",
    "#get the high mito cells\n",
    "mt_index = ds.var.index[ds.var.index.str.startswith('MT-')].tolist()\n",
    "mt_expr = np.sum(ds[:,mt_index].X, axis=1)\n",
    "depth = np.sum(ds.X, axis=1)\n",
    "high_mito_idx = np.argwhere((mt_expr / depth) > 0.2)[:,0].squeeze()\n",
    "\n",
    "#get the gene and cell index\n",
    "chosen_cell_index = np.setdiff1d(all_singlet_idx, all_singlet_idx[high_mito_idx])\n",
    "\n",
    "#filter the matrix\n",
    "adata = ds[chosen_cell_index, :]\n",
    "\n",
    "sc.pp.filter_genes(adata, min_counts=1)         # only consider genes with more than 1 count\n",
    "sc.pp.normalize_per_cell(adata, key_n_counts='n_counts_all') # normalize with total UMI count per cell # select highly-variable genes  # subset the genes\n",
    "\n",
    "\n",
    "sc.pp.log1p(adata)\n",
    "adata.raw = adata\n",
    "sc.pp.scale(adata) "
   ]
  },
  {
   "cell_type": "code",
   "execution_count": 11,
   "metadata": {},
   "outputs": [
    {
     "data": {
      "text/plain": [
       "Text(0.5, 0, 'Mito Gene Expr (log10)')"
      ]
     },
     "execution_count": 11,
     "metadata": {},
     "output_type": "execute_result"
    },
    {
     "data": {
      "image/png": "[encoded data removed]",
      "text/plain": [
       "<Figure size 864x288 with 2 Axes>"
      ]
     },
     "metadata": {
      "needs_background": "light"
     },
     "output_type": "display_data"
    }
   ],
   "source": [
    "## check the mito gene expr\n",
    "fig, (ax1, ax2) = plt.subplots(ncols=2, nrows=1, figsize=(12,4), sharey=True)\n",
    "ax1.hist(mt_expr / depth * 100, bins=50)\n",
    "ax1.set_xlabel('Mito Gene Expr Ratio(%)')\n",
    "ax1.set_ylabel('Cell Counts')\n",
    "\n",
    "ax2.hist(np.log10(mt_expr+0.1), bins=50)\n",
    "ax2.set_xlabel('Mito Gene Expr (log10)')"
   ]
  },
  {
   "cell_type": "code",
   "execution_count": 12,
   "metadata": {},
   "outputs": [],
   "source": [
    "adata.obs['library_name'] = [''] * adata.X.shape[0]\n",
    "for cell_index in adata.obs.index:\n",
    "    if cell_index.split('-')[-1] == '1':\n",
    "        adata.obs['library_name'][cell_index] = 'DAA189'\n",
    "    else:\n",
    "        adata.obs['library_name'][cell_index] = 'DAA190'"
   ]
  },
  {
   "cell_type": "markdown",
   "metadata": {},
   "source": [
    "### Cluster Cells"
   ]
  },
  {
   "cell_type": "code",
   "execution_count": 13,
   "metadata": {},
   "outputs": [],
   "source": [
    "sc.tl.pca(adata, random_state= 0)"
   ]
  },
  {
   "cell_type": "code",
   "execution_count": null,
   "metadata": {},
   "outputs": [],
   "source": [
    "sc.pp.neighbors(adata,use_rep='X_pca',random_state = 0)"
   ]
  },
  {
   "cell_type": "code",
   "execution_count": null,
   "metadata": {},
   "outputs": [],
   "source": [
    "sc.tl.louvain(adata,resolution = 0.2,random_state = 0)"
   ]
  },
  {
   "cell_type": "code",
   "execution_count": null,
   "metadata": {},
   "outputs": [],
   "source": [
    "sc.tl.paga(\n",
    "    adata,\n",
    "    groups='louvain', \n",
    ")"
   ]
  },
  {
   "cell_type": "code",
   "execution_count": null,
   "metadata": {},
   "outputs": [],
   "source": [
    "sc.pl.paga(\n",
    "    adata, \n",
    "    color=['louvain'], \n",
    "    use_raw=True,\n",
    "    layout='fr',\n",
    "    threshold=0.01,\n",
    "    node_size_scale=0.5,\n",
    "    node_size_power=0.9,\n",
    "    edge_width_scale=1,\n",
    ")"
   ]
  },
  {
   "cell_type": "code",
   "execution_count": null,
   "metadata": {},
   "outputs": [],
   "source": [
    "sc.tl.umap(\n",
    "    adata,\n",
    "    init_pos='paga',\n",
    "    random_state = 0\n",
    ")"
   ]
  },
  {
   "cell_type": "code",
   "execution_count": null,
   "metadata": {},
   "outputs": [],
   "source": [
    "sc.pl.umap(\n",
    "    adata,\n",
    "    color=['louvain'], \n",
    "    vmin=0, vmax= 100\n",
    ")"
   ]
  },
  {
   "cell_type": "code",
   "execution_count": null,
   "metadata": {},
   "outputs": [],
   "source": [
    "fig, ax = plt.subplots(figsize=(12,10))\n",
    "sc.pl.umap(\n",
    "    adata, \n",
    "    color=['TNNT2'],\n",
    "        size=50,\n",
    "            use_raw=False,\n",
    "    ax=ax\n",
    ")"
   ]
  },
  {
   "cell_type": "code",
   "execution_count": null,
   "metadata": {},
   "outputs": [],
   "source": [
    "sc.tl.rank_genes_groups(adata, 'louvain', method='wilcoxon')"
   ]
  },
  {
   "cell_type": "code",
   "execution_count": null,
   "metadata": {},
   "outputs": [],
   "source": [
    "sc.pl.rank_genes_groups(adata)"
   ]
  },
  {
   "cell_type": "code",
   "execution_count": null,
   "metadata": {},
   "outputs": [],
   "source": [
    "### Remove small cluster (only 7 cells)\n",
    "adata = adata[adata.obs.louvain != '7']"
   ]
  },
  {
   "cell_type": "markdown",
   "metadata": {},
   "source": [
    "### Combine Neuronal Clusters Into One"
   ]
  },
  {
   "cell_type": "code",
   "execution_count": null,
   "metadata": {},
   "outputs": [],
   "source": [
    "orig_louvain = ['0', '2', '4', '1', '3', '5', '6']\n",
    "new_louvain = ['0', '0', '0', '1', '2', '2', '3']\n",
    "#0=nerual\n",
    "#1=endoderm\n",
    "#2=cardiac\n",
    "#3=all else\n",
    "louvain_changes = dict(zip(orig_louvain, new_louvain))"
   ]
  },
  {
   "cell_type": "code",
   "execution_count": null,
   "metadata": {},
   "outputs": [],
   "source": [
    "new_id = []\n",
    "for index in adata.obs.index:\n",
    "    current_id = adata.obs.louvain[index]\n",
    "    updated_id = louvain_changes[current_id]\n",
    "    new_id.append(updated_id)"
   ]
  },
  {
   "cell_type": "code",
   "execution_count": null,
   "metadata": {},
   "outputs": [],
   "source": [
    "adata.obs['louvain'] = new_id"
   ]
  },
  {
   "cell_type": "code",
   "execution_count": null,
   "metadata": {},
   "outputs": [],
   "source": [
    "sc.tl.rank_genes_groups(adata, 'louvain', method='wilcoxon')"
   ]
  },
  {
   "cell_type": "code",
   "execution_count": null,
   "metadata": {},
   "outputs": [],
   "source": [
    "sc.pl.rank_genes_groups(adata)"
   ]
  },
  {
   "cell_type": "code",
   "execution_count": null,
   "metadata": {},
   "outputs": [],
   "source": [
    "adata.write('./Focused_SC_091121.h5ad')"
   ]
  },
  {
   "cell_type": "markdown",
   "metadata": {},
   "source": [
    "### Load and Remove SG Cells"
   ]
  },
  {
   "cell_type": "code",
   "execution_count": null,
   "metadata": {},
   "outputs": [],
   "source": [
    "SG_DF = pd.read_pickle('./Focused_SGRNA_IND_091121.pkl')"
   ]
  },
  {
   "cell_type": "code",
   "execution_count": null,
   "metadata": {},
   "outputs": [],
   "source": [
    "SG_DF_Grouped = pd.read_pickle('./Focused_SGRNA_IND_091121_GROUP.pkl')"
   ]
  },
  {
   "cell_type": "code",
   "execution_count": null,
   "metadata": {},
   "outputs": [],
   "source": [
    "sg_pos = []\n",
    "for cell in adata.obs.index:\n",
    "    try:\n",
    "        if sum(SG_DF.loc[cell] > 0) > 0:\n",
    "            sg_pos.append(cell)\n",
    "    except:\n",
    "        continue\n",
    "SG_DF = SG_DF.loc[sg_pos]\n",
    "SG_DF_Grouped = SG_DF_Grouped.loc[sg_pos]"
   ]
  },
  {
   "cell_type": "code",
   "execution_count": null,
   "metadata": {},
   "outputs": [],
   "source": [
    "SG_DF.to_pickle('./Focused_SGRNA_IND_SC_091121.pkl')"
   ]
  },
  {
   "cell_type": "code",
   "execution_count": null,
   "metadata": {},
   "outputs": [],
   "source": [
    "SG_DF_Grouped.to_pickle('./Focused_SGRNA_IND_091121_GROUP_SC.pkl')"
   ]
  }
 ],
 "metadata": {
  "kernelspec": {
   "display_name": "hope",
   "language": "python",
   "name": "hope"
  },
  "language_info": {
   "codemirror_mode": {
    "name": "ipython",
    "version": 3
   },
   "file_extension": ".py",
   "mimetype": "text/x-python",
   "name": "python",
   "nbconvert_exporter": "python",
   "pygments_lexer": "ipython3",
   "version": "3.6.12"
  }
 },
 "nbformat": 4,
 "nbformat_minor": 2
}
