{
 "cells": [
  {
   "cell_type": "code",
   "execution_count": 1,
   "metadata": {},
   "outputs": [],
   "source": [
    "import scipy\n",
    "import statistics\n",
    "import scanpy as sc\n",
    "import numpy as np\n",
    "import pandas as pd\n",
    "import matplotlib as mpl\n",
    "import collections\n",
    "from collections import defaultdict\n",
    "import matplotlib\n",
    "from matplotlib import pyplot as plt\n",
    "import scipy.io as io\n",
    "%matplotlib inline\n",
    "\n",
    "matplotlib.rcParams['pdf.fonttype'] = 42\n",
    "\n",
    "from _util_updated import nested_dict\n",
    "from _util_updated import turn_point\n",
    "from _util_updated import load_data\n",
    "from _util_updated import filter_umi"
   ]
  },
  {
   "cell_type": "code",
   "execution_count": 8,
   "metadata": {},
   "outputs": [],
   "source": [
    "sg_csv_dir = ''\n",
    "sg_csv = (pd.read_csv(sg_csv_dir + 'All_sgRNA.csv', delimiter=',', header = 0))\n",
    "sg_csv.columns = ('ID', 'Seq')"
   ]
  },
  {
   "cell_type": "code",
   "execution_count": 31,
   "metadata": {},
   "outputs": [],
   "source": [
    "sgRNA_DIR = ''\n",
    "\n",
    "DAA189_SG_RAW = pd.read_csv(sgRNA_DIR + 'DAA189_matrix_featurecount.csv.gz', compression='gzip', header=0,index_col = 0, sep=',', quotechar='\"')\n",
    "sg_seq = []\n",
    "new_columns = []\n",
    "for sg in DAA189_SG_RAW.index:\n",
    "    sg_seq.append(sg.split('_')[2])\n",
    "DAA189_SG_RAW.index = sg_seq\n",
    "for col_id in DAA189_SG_RAW.columns:\n",
    "    col_name_adj = col_id + '-1'\n",
    "    new_columns.append(col_name_adj)\n",
    "DAA189_SG_RAW.columns = new_columns\n",
    "\n",
    "DAA190_SG_RAW = pd.read_csv(sgRNA_DIR + 'DAA190_matrix_featurecount.csv.gz', compression='gzip', header=0,index_col = 0, sep=',', quotechar='\"')\n",
    "sg_seq = []\n",
    "new_columns = []\n",
    "for sg in DAA190_SG_RAW.index:\n",
    "    sg_seq.append(sg.split('_')[2])\n",
    "DAA190_SG_RAW.index = sg_seq\n",
    "for col_id in DAA190_SG_RAW.columns:\n",
    "    col_name_adj = col_id + '-2'\n",
    "    new_columns.append(col_name_adj)\n",
    "DAA190_SG_RAW.columns = new_columns"
   ]
  },
  {
   "cell_type": "code",
   "execution_count": 32,
   "metadata": {},
   "outputs": [
    {
     "name": "stdout",
     "output_type": "stream",
     "text": [
      "2.63265306122449\n"
     ]
    }
   ],
   "source": [
    "DAA189_df_adj,cutoffs = filter_umi(DAA189_SG_RAW)\n",
    "\n",
    "print(np.mean(cutoffs))\n",
    "### Replace sgRNA Sequence with Name\n",
    "temp_DAA189 = DAA189_df_adj\n",
    "new_name = []\n",
    "for seq in temp_DAA189.index:\n",
    "        name_index = sg_csv[sg_csv.Seq == seq].index\n",
    "        sgRNA_name = sg_csv.ID[name_index].tolist()[0]\n",
    "        new_name.append(sgRNA_name)\n",
    "temp_DAA189.index = new_name      \n",
    "DAA189_df_name = temp_DAA189.T"
   ]
  },
  {
   "cell_type": "code",
   "execution_count": 33,
   "metadata": {},
   "outputs": [
    {
     "name": "stdout",
     "output_type": "stream",
     "text": [
      "2.4285714285714284\n"
     ]
    }
   ],
   "source": [
    "DAA190_df_adj,cutoffs = filter_umi(DAA190_SG_RAW)\n",
    "print(np.mean(cutoffs))\n",
    "\n",
    "### Replace sgRNA Sequence with Name\n",
    "temp_DAA190 = DAA190_df_adj\n",
    "new_name = []\n",
    "for seq in temp_DAA190.index:\n",
    "        name_index = sg_csv[sg_csv.Seq == seq].index\n",
    "        sgRNA_name = sg_csv.ID[name_index].tolist()[0]\n",
    "        new_name.append(sgRNA_name)\n",
    "temp_DAA190.index = new_name    \n",
    "DAA190_df_name = temp_DAA190.T"
   ]
  },
  {
   "cell_type": "markdown",
   "metadata": {},
   "source": [
    "### Combine Matrix"
   ]
  },
  {
   "cell_type": "code",
   "execution_count": 34,
   "metadata": {},
   "outputs": [],
   "source": [
    "All_df_adj = pd.concat([DAA189_df_name, DAA190_df_name]).fillna(value=0)"
   ]
  },
  {
   "cell_type": "code",
   "execution_count": 36,
   "metadata": {},
   "outputs": [],
   "source": [
    "sg_cells = []\n",
    "\n",
    "for cell in All_df_adj.index:\n",
    "    if sum(All_df_adj.loc[cell]) > 0:\n",
    "        sg_cells.append(cell)\n",
    "All_df_adj_SG = All_df_adj.loc[sg_cells]"
   ]
  },
  {
   "cell_type": "code",
   "execution_count": 37,
   "metadata": {},
   "outputs": [],
   "source": [
    "All_df_adj_SG.to_pickle('./Focused_SGRNA_IND_091121.pkl')"
   ]
  },
  {
   "cell_type": "markdown",
   "metadata": {},
   "source": [
    "### Grouped Name (Group sgRNA for each target)"
   ]
  },
  {
   "cell_type": "code",
   "execution_count": 41,
   "metadata": {},
   "outputs": [],
   "source": [
    "for column in All_df_adj_SG.columns:\n",
    "    new_column = column.split('_')[0]\n",
    "    All_df_adj_SG.rename(columns={column:new_column}, inplace = True)"
   ]
  },
  {
   "cell_type": "code",
   "execution_count": 42,
   "metadata": {},
   "outputs": [],
   "source": [
    "All_df_adj_grouped = All_df_adj_SG.groupby(All_df_adj_SG.columns, axis=1).sum()"
   ]
  },
  {
   "cell_type": "code",
   "execution_count": 43,
   "metadata": {},
   "outputs": [],
   "source": [
    "All_df_adj_grouped.to_pickle('./Focused_SGRNA_IND_091121_GROUP.pkl')"
   ]
  }
 ],
 "metadata": {
  "kernelspec": {
   "display_name": "hope",
   "language": "python",
   "name": "hope"
  },
  "language_info": {
   "codemirror_mode": {
    "name": "ipython",
    "version": 3
   },
   "file_extension": ".py",
   "mimetype": "text/x-python",
   "name": "python",
   "nbconvert_exporter": "python",
   "pygments_lexer": "ipython3",
   "version": "3.6.12"
  }
 },
 "nbformat": 4,
 "nbformat_minor": 2
}
