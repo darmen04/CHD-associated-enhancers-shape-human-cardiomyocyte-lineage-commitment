{
 "cells": [
  {
   "cell_type": "code",
   "execution_count": 1,
   "metadata": {},
   "outputs": [],
   "source": [
    "#import scrublet as scr\n",
    "import numpy as np\n",
    "import pandas as pd\n",
    "import statistics as st\n",
    "import re\n",
    "import csv\n",
    "import scanpy as sc \n",
    "import scanpy.external as sce\n",
    "import phate\n",
    "import matplotlib\n",
    "from matplotlib import pyplot as plt\n",
    "import warnings\n",
    "from scipy.stats import binom\n",
    "from scipy.stats import multinomial\n",
    "import seaborn\n",
    "from scipy.stats import hypergeom\n",
    "import warnings\n",
    "warnings.filterwarnings('ignore')\n",
    "import scrublet as scr\n",
    "import harmonypy as hm\n",
    "from random import sample\n",
    "import pickle"
   ]
  },
  {
   "cell_type": "code",
   "execution_count": 2,
   "metadata": {},
   "outputs": [],
   "source": [
    "PATH = '../../Data/Pickles/'\n",
    "Dict_File = open(PATH + \"CM_FILTERED_DICT_080521.pkl\", \"rb\")\n",
    "CM_FILTERED_DICT = pickle.load(Dict_File)"
   ]
  },
  {
   "cell_type": "markdown",
   "metadata": {},
   "source": [
    "### Load Dataset (Focused)"
   ]
  },
  {
   "cell_type": "code",
   "execution_count": 3,
   "metadata": {},
   "outputs": [],
   "source": [
    "Focused_SG = pd.read_pickle('./Focused_SGRNA_IND_091121.pkl')"
   ]
  },
  {
   "cell_type": "code",
   "execution_count": 4,
   "metadata": {},
   "outputs": [],
   "source": [
    "Focused_SC = sc.read_h5ad('./Focused_SC_091121.h5ad')"
   ]
  },
  {
   "cell_type": "markdown",
   "metadata": {},
   "source": [
    "### Process sgRNA"
   ]
  },
  {
   "cell_type": "code",
   "execution_count": 5,
   "metadata": {},
   "outputs": [],
   "source": [
    "cell_list = []\n",
    "for cell in Focused_SG.index:\n",
    "    if cell in Focused_SC.obs.index:\n",
    "        cell_list.append(cell)\n",
    "Focused_SG = Focused_SG.loc[cell_list]"
   ]
  },
  {
   "cell_type": "code",
   "execution_count": 6,
   "metadata": {},
   "outputs": [],
   "source": [
    "### Make Dict of sgRNA \n",
    "SG_Targets = []\n",
    "for sg in Focused_SG.columns:\n",
    "    SG_Targets.append(sg.split('_')[0])\n",
    "SG_Targets = np.unique(SG_Targets)\n",
    "\n",
    "SG_Name = []\n",
    "SG_Indi = []\n",
    "for sg in SG_Targets:\n",
    "    if sg == 'NC_Blank':\n",
    "        SG_Name.append('NC')\n",
    "        SG_Indi.append('NC_Blank')\n",
    "    else:\n",
    "        SG_Name.append(sg)\n",
    "        sg_list = []\n",
    "        for indi in Focused_SG.columns:\n",
    "            if indi.split('_')[0] == sg:\n",
    "                sg_list.append(indi)\n",
    "        SG_Indi.append(sg_list)\n",
    "Focused_Guide_Dictionary = dict(zip(SG_Name, SG_Indi))"
   ]
  },
  {
   "cell_type": "code",
   "execution_count": 7,
   "metadata": {},
   "outputs": [],
   "source": [
    "### Cells for each sgRNA\n",
    "Cell_List = []\n",
    "for target in Focused_SG.columns:\n",
    "    Cell_Subset = []\n",
    "    if target == 'NC_Blank':\n",
    "        for cell in Focused_SG.index:\n",
    "            if sum(Focused_SG.loc[cell] >0) != 1:\n",
    "                continue\n",
    "            if Focused_SG.loc[cell][target] >0:\n",
    "                Cell_Subset.append(cell)\n",
    "    else:\n",
    "        [Cell_Subset.append(i) for i in Focused_SG[Focused_SG[target] > 0].index]\n",
    "    Cell_List.append(Cell_Subset)\n",
    "Focused_SG_Dictionary = dict(zip(Focused_SG.columns, Cell_List))"
   ]
  },
  {
   "cell_type": "code",
   "execution_count": 8,
   "metadata": {},
   "outputs": [],
   "source": [
    "### List of perturbed cells\n",
    "Perturbed_Cells = []\n",
    "for target in Focused_Guide_Dictionary.keys():\n",
    "    if target == 'NC':\n",
    "        continue\n",
    "        \n",
    "    Filtered_SG = [i for i in Focused_Guide_Dictionary[target] if int(i.split('_')[1]) not in CM_FILTERED_DICT[target]]\n",
    "    for i in Filtered_SG:\n",
    "        Perturbed_Cells.extend(Focused_SG_Dictionary[i])\n",
    "    \n",
    "Focused_Perturbed_Cells = np.unique(Perturbed_Cells)"
   ]
  },
  {
   "cell_type": "code",
   "execution_count": 9,
   "metadata": {},
   "outputs": [],
   "source": [
    "sg_id = []\n",
    "for cell in Focused_SC.obs.index:\n",
    "    if cell in Focused_SG_Dictionary['NC_Blank']:\n",
    "        sg_id.append('NC')\n",
    "    elif cell in Focused_Perturbed_Cells:\n",
    "        sg_id.append('sgTBX5Enh')\n",
    "    else:\n",
    "        sg_id.append('Other')\n",
    "Focused_SC.obs['sg_id'] = sg_id"
   ]
  },
  {
   "cell_type": "code",
   "execution_count": 10,
   "metadata": {},
   "outputs": [],
   "source": [
    "Focused_SC_DF = Focused_SC[Focused_SC.obs.sg_id != 'Other']"
   ]
  },
  {
   "cell_type": "markdown",
   "metadata": {},
   "source": [
    "### Load Dataset (Large_Scale)"
   ]
  },
  {
   "cell_type": "code",
   "execution_count": 11,
   "metadata": {},
   "outputs": [],
   "source": [
    "Large_SG_DF = pd.read_pickle('./DAP3_SGRNA_IND_072821.pkl')"
   ]
  },
  {
   "cell_type": "code",
   "execution_count": 12,
   "metadata": {},
   "outputs": [],
   "source": [
    "New_NC_Name = ['NC:1', 'NC:2', 'NC:3', 'NC:4', 'NC:5']\n",
    "NC_Guide_List= ['NC_GAG', 'NC_GFP', 'NC_GFP_1', 'NC_GFP_2', 'NC_HS2']\n",
    "NC_DICT = dict(zip(NC_Guide_List, New_NC_Name))\n",
    "new_name = []\n",
    "for col in Large_SG_DF.columns:\n",
    "    if col in NC_Guide_List:\n",
    "        new_name.append(NC_DICT[col])\n",
    "    else:\n",
    "        new_name.append(col)\n",
    "Large_SG_DF.columns = new_name"
   ]
  },
  {
   "cell_type": "code",
   "execution_count": 13,
   "metadata": {},
   "outputs": [],
   "source": [
    "Large_SC_DF= sc.read_h5ad('./DAP3_SC_072821.h5ad')"
   ]
  },
  {
   "cell_type": "markdown",
   "metadata": {},
   "source": [
    "### Process sgRNA"
   ]
  },
  {
   "cell_type": "code",
   "execution_count": 14,
   "metadata": {},
   "outputs": [],
   "source": [
    "### single cell dataset already selected for sg cells. just need to subset sgdf\n",
    "Large_SG_DF = Large_SG_DF.loc[Large_SC_DF.obs.index]"
   ]
  },
  {
   "cell_type": "code",
   "execution_count": 15,
   "metadata": {},
   "outputs": [],
   "source": [
    "## Unique list\n",
    "Target_List = []\n",
    "for target in Large_SG_DF.columns:\n",
    "    Target_List.append(target.split(':')[0])\n",
    "Unique_Target_List = np.unique(Target_List)"
   ]
  },
  {
   "cell_type": "code",
   "execution_count": 16,
   "metadata": {},
   "outputs": [],
   "source": [
    "# Dictionary to get individual sg name\n",
    "Target_Name = []\n",
    "Target_Guides = []\n",
    "\n",
    "for target in Unique_Target_List:\n",
    "    Target_Name.append(target)\n",
    "    if Target_List.count(target) == 1:\n",
    "        Target_Guides.append(target)\n",
    "    else:\n",
    "        Target_Guide_Range = list(range(Target_List.count(target)))\n",
    "        \n",
    "        Subset_Guides = []\n",
    "        \n",
    "        if target in CM_FILTERED_DICT.keys():\n",
    "            for guide in Target_Guide_Range:\n",
    "                if guide + 1 not in CM_FILTERED_DICT[target]:\n",
    "                    Subset_Guides.append(target + ':' + str(guide + 1))\n",
    "        \n",
    "        else:\n",
    "            for guide in Target_Guide_Range:\n",
    "                Subset_Guides.append(target + ':' + str(guide + 1))\n",
    "        Target_Guides.append(Subset_Guides)\n",
    "CM_Filtered_Guide_Dictionary = dict(zip(Target_Name,Target_Guides))"
   ]
  },
  {
   "cell_type": "code",
   "execution_count": 17,
   "metadata": {},
   "outputs": [],
   "source": [
    "# Dictionary to get individual sg name\n",
    "Target_Name = []\n",
    "Target_Guides = []\n",
    "\n",
    "for target in Unique_Target_List:\n",
    "    Target_Name.append(target)\n",
    "    if Target_List.count(target) == 1:\n",
    "        Target_Guides.append(target)\n",
    "    else:\n",
    "        Target_Guide_Range = list(range(Target_List.count(target)))\n",
    "        \n",
    "        Subset_Guides = []\n",
    "        for guide in Target_Guide_Range:\n",
    "            Subset_Guides.append(target + ':' + str(guide + 1))\n",
    "        Target_Guides.append(Subset_Guides)\n",
    "Large_Guide_Dictionary = dict(zip(Target_Name,Target_Guides))\n",
    "\n",
    "### To treat NC as one target"
   ]
  },
  {
   "cell_type": "code",
   "execution_count": 18,
   "metadata": {},
   "outputs": [],
   "source": [
    "### Sequester individual NCs\n",
    "sg_bool = Large_SG_DF > 0\n",
    "sg_pos = []\n",
    "for cell in sg_bool.index:\n",
    "    if sum(sg_bool.loc[cell]) == 1:\n",
    "        sg_pos.append(cell)\n",
    "Large_SG_INDI = Large_SG_DF.loc[sg_pos]\n",
    "\n",
    "NC_GAG_List = Large_SG_INDI[Large_SG_INDI['NC:1'] > 0].index.tolist()\n",
    "NC_GFP_List = Large_SG_INDI[Large_SG_INDI['NC:2'] > 0].index.tolist()\n",
    "NC_GFP_1_List = Large_SG_INDI[Large_SG_INDI['NC:3'] > 0].index.tolist()\n",
    "NC_GFP_2_List = Large_SG_INDI[Large_SG_INDI['NC:4'] > 0].index.tolist()\n",
    "NC_HS2_List = Large_SG_INDI[Large_SG_INDI['NC:5'] > 0].index.tolist()"
   ]
  },
  {
   "cell_type": "code",
   "execution_count": 19,
   "metadata": {},
   "outputs": [],
   "source": [
    "Single_Guide_List= ['NC_GAG', 'NC_GFP', 'NC_GFP_1', 'NC_GFP_2', 'NC_HS2', 'MALAT1']"
   ]
  },
  {
   "cell_type": "code",
   "execution_count": 20,
   "metadata": {},
   "outputs": [],
   "source": [
    "NC_Guide_List= ['NC_GAG', 'NC_GFP', 'NC_GFP_1', 'NC_GFP_2']"
   ]
  },
  {
   "cell_type": "code",
   "execution_count": 21,
   "metadata": {},
   "outputs": [],
   "source": [
    "Clean_NC_Cells = NC_GAG_List + NC_GFP_List + NC_GFP_1_List + NC_GFP_2_List"
   ]
  },
  {
   "cell_type": "code",
   "execution_count": 22,
   "metadata": {},
   "outputs": [],
   "source": [
    "ALL_NC_LISTS = [NC_GAG_List, NC_GFP_List, NC_GFP_1_List, NC_GFP_2_List]"
   ]
  },
  {
   "cell_type": "code",
   "execution_count": 23,
   "metadata": {},
   "outputs": [],
   "source": [
    "New_NC_Name = ['NC:1', 'NC:2', 'NC:3', 'NC:4']\n",
    "NC_NAME_DICT = dict(zip(NC_Guide_List, New_NC_Name))\n",
    "Col_Name = []\n",
    "for col in Large_SG_DF.columns:\n",
    "    if col in NC_NAME_DICT.keys():\n",
    "        Col_Name.append(NC_NAME_DICT[col])\n",
    "    else:\n",
    "        Col_Name.append(col)\n",
    "Large_SG_DF.columns = Col_Name"
   ]
  },
  {
   "cell_type": "code",
   "execution_count": 24,
   "metadata": {},
   "outputs": [],
   "source": [
    "# Dictionary to get cells for any given guide\n",
    "Target_K = []\n",
    "Target_V = []\n",
    "\n",
    "for target in Large_SG_DF.columns:\n",
    "    Target_K.append(target)\n",
    "    Target_V.append(Large_SG_DF[Large_SG_DF[target] > 0 ].index.tolist())\n",
    "Large_SGRNA_CELLS_DIC = dict(zip(Target_K, Target_V))\n",
    "Large_Guide_Dictionary['NC'] = New_NC_Name"
   ]
  },
  {
   "cell_type": "code",
   "execution_count": 25,
   "metadata": {},
   "outputs": [],
   "source": [
    "NC_DICT = dict(zip(New_NC_Name,ALL_NC_LISTS))"
   ]
  },
  {
   "cell_type": "code",
   "execution_count": 26,
   "metadata": {},
   "outputs": [],
   "source": [
    "Target_SG = []\n",
    "Target_SG_Grouped = []\n",
    "\n",
    "TBX5Enh_Set = ['TBXEnh1', 'TBXEnh2', 'TBXEnh3', 'TBXEnh4', 'TBXEnh5', 'TBXEnh6']\n",
    "Cell_List = []\n",
    "for tar in TBX5Enh_Set:\n",
    "    [Cell_List.extend(Large_SGRNA_CELLS_DIC[SG]) for SG in CM_Filtered_Guide_Dictionary[tar]]\n",
    "Cell_List = np.unique(Cell_List)\n",
    "\n",
    "\n",
    "for cell in Large_SC_DF.obs.index:\n",
    "    if cell in Cell_List:\n",
    "        Target_SG.append('sgTBX5Enh')\n",
    "        Target_SG_Grouped.append('sgTBX5Enh')\n",
    "    elif cell in Clean_NC_Cells:\n",
    "        for NC in NC_DICT.keys():\n",
    "            if cell in NC_DICT[NC]:\n",
    "                Target_SG_Grouped.append('NC')\n",
    "                Target_SG.append(NC)\n",
    "    else:\n",
    "        Target_SG.append('Other')\n",
    "        Target_SG_Grouped.append('Other')"
   ]
  },
  {
   "cell_type": "code",
   "execution_count": 27,
   "metadata": {},
   "outputs": [],
   "source": [
    "Large_SC_DF_Group = Large_SC_DF\n",
    "Large_SC_DF_Group.obs['SG'] = Target_SG_Grouped\n",
    "Large_SC_DF_Group_Subset = Large_SC_DF_Group[Large_SC_DF_Group.obs['SG'] != 'Other']\n"
   ]
  },
  {
   "cell_type": "markdown",
   "metadata": {},
   "source": [
    "### Compare Repression"
   ]
  },
  {
   "cell_type": "code",
   "execution_count": 28,
   "metadata": {},
   "outputs": [],
   "source": [
    "Gene = 'NPPA'\n",
    "\n",
    "Focused_CM = Focused_SC_DF[Focused_SC_DF.obs.louvain == '2']\n",
    "Large_CM = Large_SC_DF_Group_Subset[Large_SC_DF_Group_Subset.obs.louvain == '1']\n",
    "\n",
    "Focused_Pos = np.argwhere(Focused_CM.raw.var_names == Gene)[0][0]\n",
    "Large_Pos = np.argwhere(Large_CM.raw.var_names == Gene)[0][0]"
   ]
  },
  {
   "cell_type": "code",
   "execution_count": 29,
   "metadata": {},
   "outputs": [],
   "source": [
    "Large_FC = (Large_CM[Large_CM.obs.SG == 'sgTBX5Enh'].raw.X[:,Large_Pos].mean()/np.log(2))/(Large_CM[Large_CM.obs.SG == 'NC'].raw.X[:,Large_Pos].mean()/np.log(2))\n",
    "Focused_FC = (Focused_CM[Focused_CM.obs.sg_id == 'sgTBX5Enh'].raw.X[:,Focused_Pos].mean()/np.log(2))/(Focused_CM[Focused_CM.obs.sg_id == 'NC'].raw.X[:,Focused_Pos].mean()/np.log(2))                                                                              "
   ]
  },
  {
   "cell_type": "code",
   "execution_count": 35,
   "metadata": {},
   "outputs": [
    {
     "data": {
      "text/plain": [
       "0.18484322680446574"
      ]
     },
     "execution_count": 35,
     "metadata": {},
     "output_type": "execute_result"
    }
   ],
   "source": [
    "Large_FC-Focused_FC"
   ]
  },
  {
   "cell_type": "code",
   "execution_count": 32,
   "metadata": {},
   "outputs": [
    {
     "data": {
      "image/png": "[encoded data removed]",
      "text/plain": [
       "<Figure size 576x576 with 1 Axes>"
      ]
     },
     "metadata": {
      "needs_background": "light"
     },
     "output_type": "display_data"
    }
   ],
   "source": [
    "plt.rcParams.update({'font.size': 20})\n",
    "\n",
    "fig, ax = plt.subplots(figsize=(8,8))\n",
    "\n",
    "#labels = ['Cluster 0', 'Cluster 1', 'Cluster 2', 'Cluster 3','Cluster 4','Cluster 5','Cluster 6','Cluster 7']\n",
    "\n",
    "N=1\n",
    "ind = np.arange(N)\n",
    "\n",
    "width = 0.3       # the width of the bars: can also be len(x) sequence\n",
    "\n",
    "ax.bar(.5, Large_FC, width, alpha = 0.7, label='Large_Screen', color = '#4c72b0')\n",
    "ax.bar(1, Focused_FC, width,  alpha = 0.7,\n",
    "       label='Focused_Screen', color ='#c44e52')\n",
    "\n",
    "ax.set_ylabel('NPPA FC')\n",
    "plt.xticks(ind + width*.5)\n",
    "plt.ylim(0,1)\n",
    "ax.legend()\n",
    "plt.legend(prop={'size': 15})\n",
    "plt.savefig('./NPPA_FC_Comparison.pdf')\n",
    "plt.show()"
   ]
  }
 ],
 "metadata": {
  "kernelspec": {
   "display_name": "hope",
   "language": "python",
   "name": "hope"
  },
  "language_info": {
   "codemirror_mode": {
    "name": "ipython",
    "version": 3
   },
   "file_extension": ".py",
   "mimetype": "text/x-python",
   "name": "python",
   "nbconvert_exporter": "python",
   "pygments_lexer": "ipython3",
   "version": "3.6.12"
  }
 },
 "nbformat": 4,
 "nbformat_minor": 2
}
