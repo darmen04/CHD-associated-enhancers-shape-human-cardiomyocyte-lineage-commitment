{
 "cells": [
  {
   "cell_type": "code",
   "execution_count": 1,
   "metadata": {},
   "outputs": [],
   "source": [
    "#import scrublet as scr\n",
    "import numpy as np\n",
    "import pandas as pd\n",
    "import statistics as st\n",
    "import re\n",
    "import csv\n",
    "import scanpy as sc \n",
    "import scanpy.external as sce\n",
    "import phate\n",
    "import matplotlib\n",
    "from matplotlib import pyplot as plt\n",
    "import warnings\n",
    "from scipy.stats import binom\n",
    "from scipy.stats import multinomial\n",
    "import seaborn as sns\n",
    "from scipy.stats import hypergeom\n",
    "import warnings\n",
    "warnings.filterwarnings('ignore')\n",
    "import scrublet as scr\n",
    "import harmonypy as hm\n",
    "import pickle\n",
    "from random import sample\n",
    "from matplotlib_venn import venn2\n",
    "from _util_updated import cluster_bias"
   ]
  },
  {
   "cell_type": "markdown",
   "metadata": {},
   "source": [
    "### Load Dataset"
   ]
  },
  {
   "cell_type": "code",
   "execution_count": 2,
   "metadata": {},
   "outputs": [],
   "source": [
    "#SG_DF = pd.read_pickle('./Focused_SG_DF.pkl')"
   ]
  },
  {
   "cell_type": "code",
   "execution_count": 3,
   "metadata": {},
   "outputs": [],
   "source": [
    "#SC_DF = sc.read_h5ad('./Validation_SC_DF.h5ad')"
   ]
  },
  {
   "cell_type": "code",
   "execution_count": 4,
   "metadata": {},
   "outputs": [],
   "source": [
    "PATH = '../../Data/Pickles/'\n",
    "Dict_File = open(PATH + \"Guide_Dictionary_Filtered.pkl\", \"rb\")\n",
    "CM_FILTERED_DICT = pickle.load(Dict_File)"
   ]
  },
  {
   "cell_type": "markdown",
   "metadata": {},
   "source": [
    "### Process sgRNA"
   ]
  },
  {
   "cell_type": "code",
   "execution_count": 5,
   "metadata": {},
   "outputs": [],
   "source": [
    "cell_list = []\n",
    "for cell in SG_DF.index:\n",
    "    if cell in SC_DF.obs.index:\n",
    "        cell_list.append(cell)\n",
    "SG_DF = SG_DF.loc[cell_list]"
   ]
  },
  {
   "cell_type": "code",
   "execution_count": 6,
   "metadata": {},
   "outputs": [],
   "source": [
    "### Make Dict of sgRNA \n",
    "SG_Targets = []\n",
    "for sg in SG_DF.columns:\n",
    "    SG_Targets.append(sg.split('_')[0])\n",
    "SG_Targets = np.unique(SG_Targets)\n",
    "\n",
    "SG_Name = []\n",
    "SG_Indi = []\n",
    "for sg in SG_Targets:\n",
    "    if sg == 'NC_Blank':\n",
    "        SG_Name.append('NC')\n",
    "        SG_Indi.append('NC_Blank')\n",
    "    else:\n",
    "        SG_Name.append(sg)\n",
    "        sg_list = []\n",
    "        for indi in SG_DF.columns:\n",
    "            if indi.split('_')[0] == sg:\n",
    "                sg_list.append(indi)\n",
    "        SG_Indi.append(sg_list)\n",
    "Guide_Dictionary = dict(zip(SG_Name, SG_Indi))"
   ]
  },
  {
   "cell_type": "code",
   "execution_count": 7,
   "metadata": {},
   "outputs": [],
   "source": [
    "### Cells for each sgRNA\n",
    "Cell_List = []\n",
    "for target in SG_DF.columns:\n",
    "    Cell_Subset = []\n",
    "    if target == 'NC_Blank':\n",
    "        for cell in SG_DF.index:\n",
    "            if sum(SG_DF.loc[cell] >0) != 1:\n",
    "                continue\n",
    "            if SG_DF.loc[cell][target] >0:\n",
    "                Cell_Subset.append(cell)\n",
    "    else:\n",
    "        [Cell_Subset.append(i) for i in SG_DF[SG_DF[target] > 0].index]\n",
    "    Cell_List.append(Cell_Subset)\n",
    "SG_Dictionary = dict(zip(SG_DF.columns, Cell_List))"
   ]
  },
  {
   "cell_type": "code",
   "execution_count": 8,
   "metadata": {},
   "outputs": [],
   "source": [
    "### List of perturbed cells\n",
    "Perturbed_Cells = []\n",
    "for target in Guide_Dictionary.keys():\n",
    "    if target == 'NC':\n",
    "        continue\n",
    "        \n",
    "    Filtered_SG = [i for i in Guide_Dictionary[target] if int(i.split('_')[1]) not in CM_FILTERED_DICT[target]]\n",
    "    for i in Filtered_SG:\n",
    "        Perturbed_Cells.extend(SG_Dictionary[i])\n",
    "    \n",
    "Perturbed_Cells = np.unique(Perturbed_Cells)"
   ]
  },
  {
   "cell_type": "code",
   "execution_count": 9,
   "metadata": {},
   "outputs": [],
   "source": [
    "sg_id = []\n",
    "for cell in SC_DF.obs.index:\n",
    "    if cell in SG_Dictionary['NC_Blank']:\n",
    "        sg_id.append('NC')\n",
    "    elif cell in Perturbed_Cells:\n",
    "        sg_id.append('TBX5_ENH')\n",
    "    else:\n",
    "        sg_id.append('Other')\n",
    "SC_DF.obs['sg_id'] = sg_id"
   ]
  },
  {
   "cell_type": "code",
   "execution_count": 10,
   "metadata": {},
   "outputs": [],
   "source": [
    "SC_DF_Perturbed = SC_DF[SC_DF.obs.sg_id != 'Other']"
   ]
  },
  {
   "cell_type": "markdown",
   "metadata": {},
   "source": [
    "### Run HyperGeo"
   ]
  },
  {
   "cell_type": "code",
   "execution_count": 21,
   "metadata": {},
   "outputs": [],
   "source": [
    "tran_matrix = SC_DF\n",
    "\n",
    "dep_target_values = []\n",
    "enr_target_values = []\n",
    "Target_List = []\n",
    "for target in list(Guide_Dictionary.keys())[1:]:\n",
    "    control_list = SG_Dictionary['NC_Blank']\n",
    "    \n",
    "    Target_List.append(target)\n",
    "    CELL_LIST = []\n",
    "    Filtered_SG = [i for i in Guide_Dictionary[target] if int(i.split('_')[1]) not in CM_FILTERED_DICT[target]]\n",
    "    for i in Filtered_SG:\n",
    "        CELL_LIST.extend(SG_Dictionary[i])\n",
    "    dep_clust_values, cluster_list = cluster_bias(target_cells= CELL_LIST, control_cells = control_list, t_matrix=tran_matrix, direction = 'depletion')\n",
    "    enr_clust_values, cluster_list = cluster_bias(target_cells= CELL_LIST, control_cells = control_list, t_matrix=tran_matrix, direction = 'enrichment') \n",
    "    dep_target_values.append(dep_clust_values)\n",
    "    enr_target_values.append(enr_clust_values)\n",
    "        \n",
    "depleted_df = pd.DataFrame(data = dep_target_values, columns  = tran_matrix.obs.louvain.cat.categories.tolist(), index= Target_List)  \n",
    "enriched_df = pd.DataFrame(data = enr_target_values, columns  = tran_matrix.obs.louvain.cat.categories.tolist(), index= Target_List)  "
   ]
  },
  {
   "cell_type": "code",
   "execution_count": 23,
   "metadata": {},
   "outputs": [
    {
     "data": {
      "text/html": [
       "<div>\n",
       "<style scoped>\n",
       "    .dataframe tbody tr th:only-of-type {\n",
       "        vertical-align: middle;\n",
       "    }\n",
       "\n",
       "    .dataframe tbody tr th {\n",
       "        vertical-align: top;\n",
       "    }\n",
       "\n",
       "    .dataframe thead th {\n",
       "        text-align: right;\n",
       "    }\n",
       "</style>\n",
       "<table border=\"1\" class=\"dataframe\">\n",
       "  <thead>\n",
       "    <tr style=\"text-align: right;\">\n",
       "      <th></th>\n",
       "      <th>0</th>\n",
       "      <th>1</th>\n",
       "      <th>2</th>\n",
       "      <th>3</th>\n",
       "    </tr>\n",
       "  </thead>\n",
       "  <tbody>\n",
       "    <tr>\n",
       "      <th>TBXEnh1</th>\n",
       "      <td>1.0</td>\n",
       "      <td>0.068135</td>\n",
       "      <td>6.368319e-14</td>\n",
       "      <td>0.928076</td>\n",
       "    </tr>\n",
       "    <tr>\n",
       "      <th>TBXEnh2</th>\n",
       "      <td>1.0</td>\n",
       "      <td>0.067339</td>\n",
       "      <td>1.298439e-19</td>\n",
       "      <td>0.964809</td>\n",
       "    </tr>\n",
       "    <tr>\n",
       "      <th>TBXEnh3</th>\n",
       "      <td>1.0</td>\n",
       "      <td>0.002242</td>\n",
       "      <td>3.172021e-15</td>\n",
       "      <td>0.801535</td>\n",
       "    </tr>\n",
       "    <tr>\n",
       "      <th>TBXEnh4</th>\n",
       "      <td>1.0</td>\n",
       "      <td>0.069698</td>\n",
       "      <td>3.269978e-09</td>\n",
       "      <td>0.257732</td>\n",
       "    </tr>\n",
       "    <tr>\n",
       "      <th>TBXEnh5</th>\n",
       "      <td>1.0</td>\n",
       "      <td>0.000633</td>\n",
       "      <td>3.211023e-09</td>\n",
       "      <td>0.989228</td>\n",
       "    </tr>\n",
       "    <tr>\n",
       "      <th>TBXEnh6</th>\n",
       "      <td>1.0</td>\n",
       "      <td>0.000001</td>\n",
       "      <td>1.313529e-05</td>\n",
       "      <td>0.673329</td>\n",
       "    </tr>\n",
       "  </tbody>\n",
       "</table>\n",
       "</div>"
      ],
      "text/plain": [
       "           0         1             2         3\n",
       "TBXEnh1  1.0  0.068135  6.368319e-14  0.928076\n",
       "TBXEnh2  1.0  0.067339  1.298439e-19  0.964809\n",
       "TBXEnh3  1.0  0.002242  3.172021e-15  0.801535\n",
       "TBXEnh4  1.0  0.069698  3.269978e-09  0.257732\n",
       "TBXEnh5  1.0  0.000633  3.211023e-09  0.989228\n",
       "TBXEnh6  1.0  0.000001  1.313529e-05  0.673329"
      ]
     },
     "execution_count": 23,
     "metadata": {},
     "output_type": "execute_result"
    }
   ],
   "source": [
    "depleted_df"
   ]
  },
  {
   "cell_type": "code",
   "execution_count": 24,
   "metadata": {},
   "outputs": [
    {
     "data": {
      "text/html": [
       "<div>\n",
       "<style scoped>\n",
       "    .dataframe tbody tr th:only-of-type {\n",
       "        vertical-align: middle;\n",
       "    }\n",
       "\n",
       "    .dataframe tbody tr th {\n",
       "        vertical-align: top;\n",
       "    }\n",
       "\n",
       "    .dataframe thead th {\n",
       "        text-align: right;\n",
       "    }\n",
       "</style>\n",
       "<table border=\"1\" class=\"dataframe\">\n",
       "  <thead>\n",
       "    <tr style=\"text-align: right;\">\n",
       "      <th></th>\n",
       "      <th>0</th>\n",
       "      <th>1</th>\n",
       "      <th>2</th>\n",
       "      <th>3</th>\n",
       "    </tr>\n",
       "  </thead>\n",
       "  <tbody>\n",
       "    <tr>\n",
       "      <th>TBXEnh1</th>\n",
       "      <td>3.698819e-12</td>\n",
       "      <td>0.943478</td>\n",
       "      <td>1.000000</td>\n",
       "      <td>0.145804</td>\n",
       "    </tr>\n",
       "    <tr>\n",
       "      <th>TBXEnh2</th>\n",
       "      <td>0.000000e+00</td>\n",
       "      <td>0.942151</td>\n",
       "      <td>1.000000</td>\n",
       "      <td>0.069934</td>\n",
       "    </tr>\n",
       "    <tr>\n",
       "      <th>TBXEnh3</th>\n",
       "      <td>2.340017e-12</td>\n",
       "      <td>0.998292</td>\n",
       "      <td>1.000000</td>\n",
       "      <td>0.325573</td>\n",
       "    </tr>\n",
       "    <tr>\n",
       "      <th>TBXEnh4</th>\n",
       "      <td>9.396418e-10</td>\n",
       "      <td>0.945638</td>\n",
       "      <td>1.000000</td>\n",
       "      <td>0.931767</td>\n",
       "    </tr>\n",
       "    <tr>\n",
       "      <th>TBXEnh5</th>\n",
       "      <td>4.405587e-12</td>\n",
       "      <td>0.999579</td>\n",
       "      <td>1.000000</td>\n",
       "      <td>0.030540</td>\n",
       "    </tr>\n",
       "    <tr>\n",
       "      <th>TBXEnh6</th>\n",
       "      <td>3.875900e-12</td>\n",
       "      <td>0.999999</td>\n",
       "      <td>0.999994</td>\n",
       "      <td>0.558585</td>\n",
       "    </tr>\n",
       "  </tbody>\n",
       "</table>\n",
       "</div>"
      ],
      "text/plain": [
       "                    0         1         2         3\n",
       "TBXEnh1  3.698819e-12  0.943478  1.000000  0.145804\n",
       "TBXEnh2  0.000000e+00  0.942151  1.000000  0.069934\n",
       "TBXEnh3  2.340017e-12  0.998292  1.000000  0.325573\n",
       "TBXEnh4  9.396418e-10  0.945638  1.000000  0.931767\n",
       "TBXEnh5  4.405587e-12  0.999579  1.000000  0.030540\n",
       "TBXEnh6  3.875900e-12  0.999999  0.999994  0.558585"
      ]
     },
     "execution_count": 24,
     "metadata": {},
     "output_type": "execute_result"
    }
   ],
   "source": [
    "enriched_df"
   ]
  },
  {
   "cell_type": "markdown",
   "metadata": {},
   "source": [
    "### Bar Graph Distribution"
   ]
  },
  {
   "cell_type": "code",
   "execution_count": 28,
   "metadata": {},
   "outputs": [],
   "source": [
    "%%capture\n",
    "\n",
    "cluster_order = ['2']\n",
    "\n",
    "target = 'TBXEnh1'\n",
    "Target_Cells = []\n",
    "Filtered_SG = [i for i in Guide_Dictionary[target] if int(i.split('_')[1]) not in CM_FILTERED_DICT[target]]\n",
    "for i in Filtered_SG:\n",
    "    Target_Cells.extend(SG_Dictionary[i])\n",
    "Target_DF = SC_DF[Target_Cells]\n",
    "TBXEnh1_Percents = []\n",
    "for clust in cluster_order:\n",
    "    TBXEnh1_Percents.append((Target_DF[Target_DF.obs.louvain == clust].shape[0]/Target_DF.shape[0])*100)\n",
    "    \n",
    "target = 'TBXEnh2'\n",
    "Target_Cells = []\n",
    "Filtered_SG = [i for i in Guide_Dictionary[target] if int(i.split('_')[1]) not in CM_FILTERED_DICT[target]]\n",
    "for i in Filtered_SG:\n",
    "    Target_Cells.extend(SG_Dictionary[i])\n",
    "Target_DF = SC_DF[Target_Cells]\n",
    "TBXEnh2_Percents = []\n",
    "for clust in cluster_order:\n",
    "    TBXEnh2_Percents.append((Target_DF[Target_DF.obs.louvain == clust].shape[0]/Target_DF.shape[0])*100)\n",
    "    \n",
    "target = 'TBXEnh3'\n",
    "Target_Cells = []\n",
    "Filtered_SG = [i for i in Guide_Dictionary[target] if int(i.split('_')[1]) not in CM_FILTERED_DICT[target]]\n",
    "for i in Filtered_SG:\n",
    "    Target_Cells.extend(SG_Dictionary[i])\n",
    "Target_DF = SC_DF[Target_Cells]\n",
    "TBXEnh3_Percents = []\n",
    "for clust in cluster_order:\n",
    "    TBXEnh3_Percents.append((Target_DF[Target_DF.obs.louvain == clust].shape[0]/Target_DF.shape[0])*100)\n",
    "    \n",
    "target = 'TBXEnh4'\n",
    "Target_Cells = []\n",
    "Filtered_SG = [i for i in Guide_Dictionary[target] if int(i.split('_')[1]) not in CM_FILTERED_DICT[target]]\n",
    "for i in Filtered_SG:\n",
    "    Target_Cells.extend(SG_Dictionary[i])\n",
    "Target_DF = SC_DF[Target_Cells]\n",
    "TBXEnh4_Percents = []\n",
    "for clust in cluster_order:\n",
    "    TBXEnh4_Percents.append((Target_DF[Target_DF.obs.louvain == clust].shape[0]/Target_DF.shape[0])*100)\n",
    "    \n",
    "target = 'TBXEnh5'\n",
    "Target_Cells = []\n",
    "Filtered_SG = [i for i in Guide_Dictionary[target] if int(i.split('_')[1]) not in CM_FILTERED_DICT[target]]\n",
    "for i in Filtered_SG:\n",
    "    Target_Cells.extend(SG_Dictionary[i])\n",
    "Target_DF = SC_DF[Target_Cells]\n",
    "TBXEnh5_Percents = []\n",
    "for clust in cluster_order:\n",
    "    TBXEnh5_Percents.append((Target_DF[Target_DF.obs.louvain == clust].shape[0]/Target_DF.shape[0])*100)\n",
    "    \n",
    "target = 'TBXEnh6'\n",
    "Target_Cells = []\n",
    "Filtered_SG = [i for i in Guide_Dictionary[target] if int(i.split('_')[1]) not in CM_FILTERED_DICT[target]]\n",
    "for i in Filtered_SG:\n",
    "    Target_Cells.extend(SG_Dictionary[i])\n",
    "Target_DF = SC_DF[Target_Cells]\n",
    "TBXEnh6_Percents = []\n",
    "for clust in cluster_order:\n",
    "    TBXEnh6_Percents.append((Target_DF[Target_DF.obs.louvain == clust].shape[0]/Target_DF.shape[0])*100)\n",
    "\n",
    "NC_Percents = []\n",
    "NC_DF = SC_DF_Perturbed[SC_DF_Perturbed.obs.sg_id == 'NC']\n",
    "for clust in cluster_order:\n",
    "    NC_Percents.append((NC_DF[NC_DF.obs.louvain == clust].shape[0]/NC_DF.shape[0])*100)"
   ]
  },
  {
   "cell_type": "code",
   "execution_count": 29,
   "metadata": {},
   "outputs": [
    {
     "data": {
      "image/png": "[encoded data removed]",
      "text/plain": [
       "<Figure size 720x216 with 1 Axes>"
      ]
     },
     "metadata": {
      "needs_background": "light"
     },
     "output_type": "display_data"
    }
   ],
   "source": [
    "plt.rcParams.update({'font.size': 20})\n",
    "\n",
    "fig, ax = plt.subplots(figsize=(10,3))\n",
    "\n",
    "N=1\n",
    "ind = np.arange(N)\n",
    "\n",
    "width = 0.12       # the width of the bars: can also be len(x) sequence\n",
    "\n",
    "ax.bar(ind, NC_Percents, width, alpha = 0.7, label='NC', color = '#4c72b0')\n",
    "ax.bar(ind+width, TBXEnh1_Percents, width,  alpha = 0.7,\n",
    "       label=target, color ='#c44e52')\n",
    "ax.bar(ind+width+width, TBXEnh2_Percents, width,  alpha = 0.7,\n",
    "       label=target, color ='#c44e52')\n",
    "ax.bar(ind+width+width+width, TBXEnh3_Percents, width,  alpha = 0.7,\n",
    "       label=target, color ='#c44e52')\n",
    "ax.bar(ind+width+width+width+width, TBXEnh4_Percents, width,  alpha = 0.7,\n",
    "       label=target, color ='#c44e52')\n",
    "ax.bar(ind+width+width+width+width+width, TBXEnh5_Percents, width,  alpha = 0.7,\n",
    "       label=target, color ='#c44e52')\n",
    "ax.bar(ind+width+width+width+width+width+width, TBXEnh6_Percents, width,  alpha = 0.7,\n",
    "       label=target, color ='#c44e52')\n",
    "\n",
    "ax.set_ylabel('% in Cell Type')\n",
    "ax.set_title(target +  ' Percent Distribution Across Clusters')\n",
    "plt.xticks(ind + width*.5)\n",
    "plt.ylim(0,20)\n",
    "ax.legend()\n",
    "plt.legend(prop={'size': 15})\n",
    "plt.savefig('./All_TBX5Enh_Percentage_Bar.pdf')\n",
    "plt.show()"
   ]
  }
 ],
 "metadata": {
  "kernelspec": {
   "display_name": "hope",
   "language": "python",
   "name": "hope"
  },
  "language_info": {
   "codemirror_mode": {
    "name": "ipython",
    "version": 3
   },
   "file_extension": ".py",
   "mimetype": "text/x-python",
   "name": "python",
   "nbconvert_exporter": "python",
   "pygments_lexer": "ipython3",
   "version": "3.6.12"
  }
 },
 "nbformat": 4,
 "nbformat_minor": 2
}
