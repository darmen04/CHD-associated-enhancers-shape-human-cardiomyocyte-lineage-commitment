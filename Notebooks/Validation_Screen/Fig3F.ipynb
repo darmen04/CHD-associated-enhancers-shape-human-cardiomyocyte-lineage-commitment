{
 "cells": [
  {
   "cell_type": "code",
   "execution_count": 24,
   "metadata": {},
   "outputs": [],
   "source": [
    "#import scrublet as scr\n",
    "import numpy as np\n",
    "import pandas as pd\n",
    "import statistics as st\n",
    "import re\n",
    "import csv\n",
    "import scanpy as sc \n",
    "import scanpy.external as sce\n",
    "import phate\n",
    "import matplotlib\n",
    "from matplotlib import pyplot as plt\n",
    "import warnings\n",
    "from scipy.stats import binom\n",
    "from scipy.stats import multinomial\n",
    "import seaborn as sns\n",
    "from scipy.stats import hypergeom\n",
    "import warnings\n",
    "import scipy\n",
    "warnings.filterwarnings('ignore')\n",
    "import scrublet as scr\n",
    "import harmonypy as hm\n",
    "import pickle\n",
    "from random import sample\n",
    "from matplotlib_venn import venn2\n",
    "from _util_updated import cluster_bias"
   ]
  },
  {
   "cell_type": "code",
   "execution_count": 2,
   "metadata": {},
   "outputs": [],
   "source": [
    "#import scrublet as scr\n",
    "import numpy as np\n",
    "import pandas as pd\n",
    "import statistics as st\n",
    "import re\n",
    "import csv\n",
    "import scanpy as sc \n",
    "import scanpy.external as sce\n",
    "import phate\n",
    "import matplotlib\n",
    "from matplotlib import pyplot as plt\n",
    "import warnings\n",
    "from scipy.stats import binom\n",
    "from scipy.stats import multinomial\n",
    "import seaborn\n",
    "from scipy.stats import hypergeom\n",
    "import warnings\n",
    "warnings.filterwarnings('ignore')\n",
    "import scrublet as scr\n",
    "import harmonypy as hm\n",
    "from random import sample\n",
    "import pickle"
   ]
  },
  {
   "cell_type": "markdown",
   "metadata": {},
   "source": [
    "### Load Dataset"
   ]
  },
  {
   "cell_type": "code",
   "execution_count": 3,
   "metadata": {},
   "outputs": [],
   "source": [
    "#SG_DF = pd.read_pickle('./Focused_SGRNA_IND_091121.pkl')"
   ]
  },
  {
   "cell_type": "code",
   "execution_count": 4,
   "metadata": {},
   "outputs": [],
   "source": [
    "#SC_DF = sc.read_h5ad('./Focused_SC_091121.h5ad')"
   ]
  },
  {
   "cell_type": "code",
   "execution_count": 5,
   "metadata": {},
   "outputs": [],
   "source": [
    "PATH = '../../Data/Pickles/'\n",
    "Dict_File = open(PATH + \"CM_FILTERED_DICT_080521.pkl\", \"rb\")\n",
    "CM_FILTERED_DICT = pickle.load(Dict_File)"
   ]
  },
  {
   "cell_type": "markdown",
   "metadata": {},
   "source": [
    "### Process sgRNA"
   ]
  },
  {
   "cell_type": "code",
   "execution_count": 6,
   "metadata": {},
   "outputs": [],
   "source": [
    "cell_list = []\n",
    "for cell in SG_DF.index:\n",
    "    if cell in SC_DF.obs.index:\n",
    "        cell_list.append(cell)\n",
    "SG_DF = SG_DF.loc[cell_list]"
   ]
  },
  {
   "cell_type": "code",
   "execution_count": 7,
   "metadata": {},
   "outputs": [],
   "source": [
    "### Make Dict of sgRNA \n",
    "SG_Targets = []\n",
    "for sg in SG_DF.columns:\n",
    "    SG_Targets.append(sg.split('_')[0])\n",
    "SG_Targets = np.unique(SG_Targets)\n",
    "\n",
    "SG_Name = []\n",
    "SG_Indi = []\n",
    "for sg in SG_Targets:\n",
    "    if sg == 'NC_Blank':\n",
    "        SG_Name.append('NC')\n",
    "        SG_Indi.append('NC_Blank')\n",
    "    else:\n",
    "        SG_Name.append(sg)\n",
    "        sg_list = []\n",
    "        for indi in SG_DF.columns:\n",
    "            if indi.split('_')[0] == sg:\n",
    "                sg_list.append(indi)\n",
    "        SG_Indi.append(sg_list)\n",
    "Guide_Dictionary = dict(zip(SG_Name, SG_Indi))"
   ]
  },
  {
   "cell_type": "code",
   "execution_count": 8,
   "metadata": {},
   "outputs": [],
   "source": [
    "### Cells for each sgRNA\n",
    "Cell_List = []\n",
    "for target in SG_DF.columns:\n",
    "    Cell_Subset = []\n",
    "    if target == 'NC_Blank':\n",
    "        for cell in SG_DF.index:\n",
    "            if sum(SG_DF.loc[cell] >0) != 1:\n",
    "                continue\n",
    "            if SG_DF.loc[cell][target] >0:\n",
    "                Cell_Subset.append(cell)\n",
    "    else:\n",
    "        [Cell_Subset.append(i) for i in SG_DF[SG_DF[target] > 0].index]\n",
    "    Cell_List.append(Cell_Subset)\n",
    "SG_Dictionary = dict(zip(SG_DF.columns, Cell_List))"
   ]
  },
  {
   "cell_type": "code",
   "execution_count": 9,
   "metadata": {},
   "outputs": [],
   "source": [
    "### List of perturbed cells\n",
    "Perturbed_Cells = []\n",
    "for target in Guide_Dictionary.keys():\n",
    "    if target == 'NC':\n",
    "        continue\n",
    "        \n",
    "    Filtered_SG = [i for i in Guide_Dictionary[target] if int(i.split('_')[1]) not in CM_FILTERED_DICT[target]]\n",
    "    for i in Filtered_SG:\n",
    "        Perturbed_Cells.extend(SG_Dictionary[i])\n",
    "    \n",
    "Perturbed_Cells = np.unique(Perturbed_Cells)"
   ]
  },
  {
   "cell_type": "code",
   "execution_count": 10,
   "metadata": {},
   "outputs": [],
   "source": [
    "sg_id = []\n",
    "for cell in SC_DF.obs.index:\n",
    "    if cell in SG_Dictionary['NC_Blank']:\n",
    "        sg_id.append('NC')\n",
    "    elif cell in Perturbed_Cells:\n",
    "        sg_id.append('TBX5_ENH')\n",
    "    else:\n",
    "        sg_id.append('Other')\n",
    "SC_DF.obs['sg_id'] = sg_id"
   ]
  },
  {
   "cell_type": "code",
   "execution_count": 11,
   "metadata": {},
   "outputs": [],
   "source": [
    "SC_DF_Perturbed = SC_DF[SC_DF.obs.sg_id != 'Other']"
   ]
  },
  {
   "cell_type": "markdown",
   "metadata": {},
   "source": [
    "### Depleted Genes in CM Violin Plots (ACTA2)"
   ]
  },
  {
   "cell_type": "code",
   "execution_count": 12,
   "metadata": {},
   "outputs": [],
   "source": [
    "SC_DF_Perturbed\n",
    "SC_DF_Subset = SC_DF_Perturbed[SC_DF_Perturbed.obs.louvain == '2']"
   ]
  },
  {
   "cell_type": "code",
   "execution_count": 17,
   "metadata": {},
   "outputs": [
    {
     "name": "stderr",
     "output_type": "stream",
     "text": [
      "WARNING: Default of the method has been changed to 't-test' from 't-test_overestim_var'\n"
     ]
    },
    {
     "data": {
      "image/png": "[encoded data removed]",
      "text/plain": [
       "<Figure size 864x288 with 2 Axes>"
      ]
     },
     "metadata": {
      "needs_background": "light"
     },
     "output_type": "display_data"
    }
   ],
   "source": [
    "sc.tl.rank_genes_groups(SC_DF_Subset, groupby='sg_id')\n",
    "sc.pl.rank_genes_groups(SC_DF_Subset)"
   ]
  },
  {
   "cell_type": "code",
   "execution_count": 18,
   "metadata": {},
   "outputs": [
    {
     "data": {
      "text/plain": [
       "array([1.52411766e-05, 1.52411766e-05, 1.52411766e-05, 4.60415480e-04,\n",
       "       8.70997223e-04, 1.29427038e-03, 1.30122214e-03, 4.17475161e-03,\n",
       "       1.03586952e-02, 1.26201485e-02, 1.29588302e-02])"
      ]
     },
     "execution_count": 18,
     "metadata": {},
     "output_type": "execute_result"
    }
   ],
   "source": [
    "SC_DF_Subset.uns['rank_genes_groups']['pvals_adj']['TBX5_ENH'][0:11]"
   ]
  },
  {
   "cell_type": "code",
   "execution_count": 19,
   "metadata": {},
   "outputs": [],
   "source": [
    "Gene = 'ACTA2'\n",
    "Gene_Pos = np.argwhere(SC_DF.raw.var_names == Gene)[0][0]\n",
    "Perturbed_Cells = SC_DF[SC_DF.obs.sg_id == 'TBX5_ENH']\n",
    "NC_Cells = SC_DF[SC_DF.obs.sg_id == 'NC']"
   ]
  },
  {
   "cell_type": "code",
   "execution_count": 20,
   "metadata": {},
   "outputs": [
    {
     "data": {
      "image/png": "[encoded data removed]",
      "text/plain": [
       "<Figure size 432x288 with 1 Axes>"
      ]
     },
     "metadata": {
      "needs_background": "light"
     },
     "output_type": "display_data"
    }
   ],
   "source": [
    "clust2_NC = NC_Cells[NC_Cells.obs.louvain == '2']\n",
    "clust2_Perturbed = Perturbed_Cells[Perturbed_Cells.obs.louvain == '2']\n",
    "plt.violinplot(clust2_NC.raw.X[:,Gene_Pos].todense().tolist()/np.log(2), positions=[0], showextrema=False)\n",
    "plt.violinplot(clust2_Perturbed.raw.X[:,Gene_Pos].todense().tolist()/np.log(2), positions=[1], showextrema=False)\n",
    "\n",
    "\n",
    "plt.ylim(0)\n",
    "plt.savefig('./All_Violin_' + Gene + '.pdf')"
   ]
  },
  {
   "cell_type": "markdown",
   "metadata": {},
   "source": [
    "### Depleted Genes in CM Violin Plots (NPPA)"
   ]
  },
  {
   "cell_type": "code",
   "execution_count": 12,
   "metadata": {},
   "outputs": [],
   "source": [
    "SC_DF_Perturbed\n",
    "SC_DF_Subset = SC_DF_Perturbed[SC_DF_Perturbed.obs.louvain == '2']"
   ]
  },
  {
   "cell_type": "code",
   "execution_count": 17,
   "metadata": {},
   "outputs": [
    {
     "name": "stderr",
     "output_type": "stream",
     "text": [
      "WARNING: Default of the method has been changed to 't-test' from 't-test_overestim_var'\n"
     ]
    },
    {
     "data": {
      "image/png": "[encoded data removed]",
      "text/plain": [
       "<Figure size 864x288 with 2 Axes>"
      ]
     },
     "metadata": {
      "needs_background": "light"
     },
     "output_type": "display_data"
    }
   ],
   "source": [
    "sc.tl.rank_genes_groups(SC_DF_Subset, groupby='sg_id')\n",
    "sc.pl.rank_genes_groups(SC_DF_Subset)"
   ]
  },
  {
   "cell_type": "code",
   "execution_count": 18,
   "metadata": {},
   "outputs": [
    {
     "data": {
      "text/plain": [
       "array([1.52411766e-05, 1.52411766e-05, 1.52411766e-05, 4.60415480e-04,\n",
       "       8.70997223e-04, 1.29427038e-03, 1.30122214e-03, 4.17475161e-03,\n",
       "       1.03586952e-02, 1.26201485e-02, 1.29588302e-02])"
      ]
     },
     "execution_count": 18,
     "metadata": {},
     "output_type": "execute_result"
    }
   ],
   "source": [
    "SC_DF_Subset.uns['rank_genes_groups']['pvals_adj']['TBX5_ENH'][0:11]"
   ]
  },
  {
   "cell_type": "code",
   "execution_count": 19,
   "metadata": {},
   "outputs": [],
   "source": [
    "Gene = 'NPPA'\n",
    "Gene_Pos = np.argwhere(SC_DF.raw.var_names == Gene)[0][0]\n",
    "Perturbed_Cells = SC_DF[SC_DF.obs.sg_id == 'TBX5_ENH']\n",
    "NC_Cells = SC_DF[SC_DF.obs.sg_id == 'NC']"
   ]
  },
  {
   "cell_type": "code",
   "execution_count": 17,
   "metadata": {},
   "outputs": [
    {
     "data": {
      "image/png": "[encoded data removed]",
      "text/plain": [
       "<Figure size 432x288 with 1 Axes>"
      ]
     },
     "metadata": {
      "needs_background": "light"
     },
     "output_type": "display_data"
    }
   ],
   "source": [
    "clust2_NC = NC_Cells[NC_Cells.obs.louvain == '2']\n",
    "clust2_Perturbed = Perturbed_Cells[Perturbed_Cells.obs.louvain == '2']\n",
    "plt.violinplot(clust2_NC.raw.X[:,Gene_Pos].todense().tolist()/np.log(2), positions=[0], showextrema=False)\n",
    "plt.violinplot(clust2_Perturbed.raw.X[:,Gene_Pos].todense().tolist()/np.log(2), positions=[1], showextrema=False)\n",
    "\n",
    "\n",
    "plt.ylim(0)\n",
    "plt.savefig('./All_Violin_' + Gene + '.pdf')"
   ]
  },
  {
   "cell_type": "markdown",
   "metadata": {},
   "source": [
    "### Statistics (ACTA2)"
   ]
  },
  {
   "cell_type": "code",
   "execution_count": 32,
   "metadata": {},
   "outputs": [],
   "source": [
    "%%capture\n",
    "Gene = 'ACTA2'\n",
    "Gene_Pos = np.argwhere(SC_DF.raw.var_names == Gene)[0][0]\n",
    "\n",
    "Con_Mean = NC_Cells.raw.X[:,Gene_Pos]/np.log(2)\n",
    "Con_Means = []\n",
    "[Con_Means.append(i[0]) for i in Con_Mean.mean(axis=1).tolist()]\n",
    "\n",
    "Perturb_Mean = Perturbed_Cells.raw.X[:,Gene_Pos]/np.log(2)\n",
    "Perturb_Means = []\n",
    "[Perturb_Means.append(i[0]) for i in Perturb_Mean.mean(axis=1).tolist()]\n",
    "\n"
   ]
  },
  {
   "cell_type": "code",
   "execution_count": 33,
   "metadata": {},
   "outputs": [
    {
     "name": "stdout",
     "output_type": "stream",
     "text": [
      "p-val = 3.0754427122190743e-07\n"
     ]
    }
   ],
   "source": [
    "print('p-val = ' + str(scipy.stats.mannwhitneyu(Perturb_Means, Con_Means)[1]))"
   ]
  },
  {
   "cell_type": "markdown",
   "metadata": {},
   "source": [
    "### Statistics (NPPA)"
   ]
  },
  {
   "cell_type": "code",
   "execution_count": 43,
   "metadata": {},
   "outputs": [],
   "source": [
    "%%capture\n",
    "Gene = 'NPPA'\n",
    "Gene_Pos = np.argwhere(SC_DF.raw.var_names == Gene)[0][0]\n",
    "\n",
    "Con_Mean = NC_Cells.raw.X[:,Gene_Pos]/np.log(2)\n",
    "Con_Means = []\n",
    "[Con_Means.append(i[0]) for i in Con_Mean.mean(axis=1).tolist()]\n",
    "\n",
    "Perturb_Mean = Perturbed_Cells.raw.X[:,Gene_Pos]/np.log(2)\n",
    "Perturb_Means = []\n",
    "[Perturb_Means.append(i[0]) for i in Perturb_Mean.mean(axis=1).tolist()]\n",
    "\n"
   ]
  },
  {
   "cell_type": "code",
   "execution_count": 44,
   "metadata": {},
   "outputs": [
    {
     "name": "stdout",
     "output_type": "stream",
     "text": [
      "p-val = 8.180697114369298e-24\n"
     ]
    }
   ],
   "source": [
    "print('p-val = ' + str(scipy.stats.mannwhitneyu(Perturb_Means, Con_Means)[1]))"
   ]
  }
 ],
 "metadata": {
  "kernelspec": {
   "display_name": "hope",
   "language": "python",
   "name": "hope"
  },
  "language_info": {
   "codemirror_mode": {
    "name": "ipython",
    "version": 3
   },
   "file_extension": ".py",
   "mimetype": "text/x-python",
   "name": "python",
   "nbconvert_exporter": "python",
   "pygments_lexer": "ipython3",
   "version": "3.6.12"
  }
 },
 "nbformat": 4,
 "nbformat_minor": 2
}
