{
 "cells": [
  {
   "cell_type": "code",
   "execution_count": 1,
   "metadata": {},
   "outputs": [],
   "source": [
    "#import scrublet as scr\n",
    "import numpy as np\n",
    "import pandas as pd\n",
    "import statistics as st\n",
    "import pickle\n",
    "\n",
    "import re\n",
    "import csv\n",
    "import scanpy as sc \n",
    "import scanpy.external as sce\n",
    "import phate\n",
    "import matplotlib\n",
    "from matplotlib import pyplot as plt\n",
    "import warnings\n",
    "\n",
    "from scipy.stats import binom\n",
    "from scipy.stats import multinomial\n",
    "import seaborn\n",
    "from scipy.stats import hypergeom\n",
    "import warnings\n",
    "warnings.filterwarnings('ignore')\n",
    "import scrublet as scr\n",
    "import harmonypy as hm\n",
    "from random import sample\n",
    "import matplotlib.patches as mpatches\n",
    "import statistics as stat\n",
    "import scipy"
   ]
  },
  {
   "cell_type": "markdown",
   "metadata": {},
   "source": [
    "### Load Data"
   ]
  },
  {
   "cell_type": "code",
   "execution_count": 2,
   "metadata": {},
   "outputs": [],
   "source": [
    "#CM_Cells = sc.read_h5ad('./Large_CM_DF.h5ad')"
   ]
  },
  {
   "cell_type": "code",
   "execution_count": 3,
   "metadata": {},
   "outputs": [],
   "source": [
    "PATH = '../../Data/Pickles/'\n",
    "Dict_File = open(PATH + \"CM_Large_sgRNA_Dic_Filtered.pkl\", \"rb\")\n",
    "SGRNA_CELLS_DIC = pickle.load(Dict_File)"
   ]
  },
  {
   "cell_type": "code",
   "execution_count": 4,
   "metadata": {},
   "outputs": [],
   "source": [
    "PATH = '../../Data/Pickles/'\n",
    "Dict_File = open(PATH + \"Guide_Dictionary_Filtered.pkl\", \"rb\")\n",
    "Guide_Dictionary = pickle.load(Dict_File)"
   ]
  },
  {
   "cell_type": "code",
   "execution_count": 5,
   "metadata": {},
   "outputs": [
    {
     "data": {
      "text/plain": [
       "[None, None, None, None]"
      ]
     },
     "execution_count": 5,
     "metadata": {},
     "output_type": "execute_result"
    }
   ],
   "source": [
    "Clean_NC_Cells = []\n",
    "[Clean_NC_Cells.extend(SGRNA_CELLS_DIC[i]) for i in Guide_Dictionary['NC']]"
   ]
  },
  {
   "cell_type": "markdown",
   "metadata": {},
   "source": [
    "### Distribution (BarGraph)"
   ]
  },
  {
   "cell_type": "code",
   "execution_count": 6,
   "metadata": {},
   "outputs": [],
   "source": [
    "cluster_list = ['2', '3', '1', '0']"
   ]
  },
  {
   "cell_type": "code",
   "execution_count": 9,
   "metadata": {},
   "outputs": [],
   "source": [
    "Target = 'TNNT2_PROM1'\n",
    "Target_Cells = []\n",
    "[Target_Cells.extend(SGRNA_CELLS_DIC[i]) for i in Guide_Dictionary[Target]]\n",
    "Target_SC = CM_Cells[Target_Cells]\n",
    "Target_Cell_Num = Target_SC.shape[0]\n",
    "Target_Percents = []\n",
    "for cluster in cluster_list:\n",
    "    Target_Percents.append((Target_SC[Target_SC.obs.louvain == cluster].shape[0]/Target_Cell_Num)*100)\n",
    "TNNT2_PROM1_Percents = Target_Percents\n",
    "\n",
    "Target = 'TNNT2_ENH2'\n",
    "Target_Cells = []\n",
    "[Target_Cells.extend(SGRNA_CELLS_DIC[i]) for i in Guide_Dictionary[Target]]\n",
    "Target_SC = CM_Cells[Target_Cells]\n",
    "Target_Cell_Num = Target_SC.shape[0]\n",
    "Target_Percents = []\n",
    "for cluster in cluster_list:\n",
    "    Target_Percents.append((Target_SC[Target_SC.obs.louvain == cluster].shape[0]/Target_Cell_Num)*100)\n",
    "TNNT2_ENH2_Percents = Target_Percents\n",
    "\n",
    "Target = 'TNNT2_ENH3'\n",
    "Target_Cells = []\n",
    "[Target_Cells.extend(SGRNA_CELLS_DIC[i]) for i in Guide_Dictionary[Target]]\n",
    "Target_SC = CM_Cells[Target_Cells]\n",
    "Target_Cell_Num = Target_SC.shape[0]\n",
    "Target_Percents = []\n",
    "for cluster in cluster_list:\n",
    "    Target_Percents.append((Target_SC[Target_SC.obs.louvain == cluster].shape[0]/Target_Cell_Num)*100)\n",
    "TNNT2_ENH3_Percents = Target_Percents\n",
    "\n",
    "Target = 'NGFRAP1'\n",
    "Target_Cells = []\n",
    "[Target_Cells.extend(SGRNA_CELLS_DIC[i]) for i in Guide_Dictionary[Target]]\n",
    "Target_SC = CM_Cells[Target_Cells]\n",
    "Target_Cell_Num = Target_SC.shape[0]\n",
    "Target_Percents = []\n",
    "for cluster in cluster_list:\n",
    "    Target_Percents.append((Target_SC[Target_SC.obs.louvain == cluster].shape[0]/Target_Cell_Num)*100)\n",
    "NGFRAP1_Percents = Target_Percents\n",
    "\n",
    "NC_SC = CM_Cells[Clean_NC_Cells]\n",
    "NC_Cell_Num = NC_SC.shape[0]\n",
    "NC_Percents = []\n",
    "for cluster in cluster_list:\n",
    "     NC_Percents.append((NC_SC[NC_SC.obs.louvain == cluster].shape[0]/NC_Cell_Num)*100)"
   ]
  },
  {
   "cell_type": "code",
   "execution_count": 10,
   "metadata": {},
   "outputs": [],
   "source": [
    "NC_cmap = {\n",
    "    'Progenitor': '#4c72b0',\n",
    "    'Early_CM': '#4c72b0',\n",
    "    'Mid_CM' : '#4c72b0',\n",
    "    'Late_CM' : '#4c72b0'}"
   ]
  },
  {
   "cell_type": "code",
   "execution_count": 11,
   "metadata": {},
   "outputs": [],
   "source": [
    "NGFRAP1_cmap = {\n",
    "    'Progenitor': '#8172b3',\n",
    "    'Early_CM': '#8172b3',\n",
    "    'Mid_CM' : '#8172b3',\n",
    "    'Late_CM' : '#8172b3'}"
   ]
  },
  {
   "cell_type": "code",
   "execution_count": 12,
   "metadata": {},
   "outputs": [],
   "source": [
    "TNNT2_PROM1_cmap = {\n",
    "    'Progenitor': '#c44e52',\n",
    "    'Early_CM': '#c44e52',\n",
    "    'Mid_CM' : '#c44e52',\n",
    "    'Late_CM' : '#c44e52'}"
   ]
  },
  {
   "cell_type": "code",
   "execution_count": 13,
   "metadata": {},
   "outputs": [],
   "source": [
    "TNNT2_ENH2_cmap = {\n",
    "    'Progenitor': '#C4B04F',\n",
    "    'Early_CM': '#C4B04F',\n",
    "    'Mid_CM' : '#C4B04F',\n",
    "    'Late_CM' : '#C4B04F'}"
   ]
  },
  {
   "cell_type": "code",
   "execution_count": 14,
   "metadata": {},
   "outputs": [],
   "source": [
    "TNNT2_ENH3_cmap = {\n",
    "    'Progenitor': '#C4B04F',\n",
    "    'Early_CM': '#C4B04F',\n",
    "    'Mid_CM' : '#C4B04F',\n",
    "    'Late_CM' : '#C4B04F'}"
   ]
  },
  {
   "cell_type": "code",
   "execution_count": 15,
   "metadata": {},
   "outputs": [
    {
     "data": {
      "image/png": "[encoded data removed]",
      "text/plain": [
       "<Figure size 720x432 with 1 Axes>"
      ]
     },
     "metadata": {
      "needs_background": "light"
     },
     "output_type": "display_data"
    }
   ],
   "source": [
    "plt.rcParams.update({'font.size': 15})\n",
    "\n",
    "fig, ax = plt.subplots(1, figsize=(10,6))\n",
    "\n",
    "width = 0.20\n",
    "\n",
    "labels =  ['Progenitor', 'Early_CM', 'Mid_CM', 'Late_CM' ]\n",
    "\n",
    "\n",
    "for i, c in enumerate(NC_Percents):\n",
    "    ax.bar(i, c, width, color=NC_cmap[labels[i]])\n",
    "   \n",
    "for i, c in enumerate(TNNT2_PROM1_Percents):\n",
    "    ax.bar(i + width, c, width, color=TNNT2_PROM1_cmap[labels[i]])\n",
    "    \n",
    "for i, c in enumerate(TNNT2_ENH2_Percents):\n",
    "    ax.bar(i + width+ width, c, width, color=TNNT2_ENH2_cmap[labels[i]])\n",
    "    \n",
    "for i, c in enumerate(TNNT2_ENH3_Percents):\n",
    "    ax.bar(i + width+ width+ width, c, width, color=TNNT2_ENH3_cmap[labels[i]])\n",
    "    \n",
    "ax.set_xticks(np.arange(i+1) + .17)\n",
    "ax.set_xticklabels(labels)\n",
    "ax.set_ylabel('% Cells')\n",
    "plt.xticks(rotation = 45)\n",
    "rects = ax.patches\n",
    "rect_subset = rects[4:]\n",
    "\n",
    "\n",
    "plt.ylim(0, 75)\n",
    "plt.ylabel('Percent Cells')\n",
    "plt.title('TNNT2 Cell Percents Across Differentiation')\n",
    "fig.tight_layout()\n",
    "fig.savefig('./TNNT2_Percents_Barplot_CM.pdf')"
   ]
  },
  {
   "cell_type": "markdown",
   "metadata": {},
   "source": [
    "### Violin plots of pseudotime distribution"
   ]
  },
  {
   "cell_type": "code",
   "execution_count": 16,
   "metadata": {},
   "outputs": [],
   "source": [
    "Sig_Targets= ['TNNT2_PROM1', 'TNNT2_ENH2', 'TNNT2_ENH3']"
   ]
  },
  {
   "cell_type": "code",
   "execution_count": 18,
   "metadata": {},
   "outputs": [
    {
     "data": {
      "text/plain": [
       "(0.0, 18715.0)"
      ]
     },
     "execution_count": 18,
     "metadata": {},
     "output_type": "execute_result"
    },
    {
     "data": {
      "image/png": "[encoded data removed]",
      "text/plain": [
       "<Figure size 1440x360 with 1 Axes>"
      ]
     },
     "metadata": {
      "needs_background": "light"
     },
     "output_type": "display_data"
    }
   ],
   "source": [
    "fig, ax = plt.subplots(nrows=1, ncols=1, figsize=(20, 5), sharey=True)\n",
    "\n",
    "target_range = list(range(2, len(Sig_Targets)+ 2))\n",
    "\n",
    "NC_SC = CM_Cells[Clean_NC_Cells]\n",
    "NC_Pseudos = NC_SC.obs.rank_pseudotime\n",
    "\n",
    "plt.violinplot(NC_Pseudos, positions = [1], vert=True, showextrema=False)\n",
    "plt.boxplot(NC_Pseudos, positions= [1], vert=True)\n",
    "\n",
    "for i,target in enumerate(Sig_Targets):\n",
    "    Cell_List = []\n",
    "    [Cell_List.extend(SGRNA_CELLS_DIC[sg]) for sg in Guide_Dictionary[target]]\n",
    "    Target_SC = CM_Cells[Cell_List]\n",
    "    Target_Pseudos = Target_SC.obs.rank_pseudotime\n",
    "    plt.violinplot(Target_Pseudos, positions = [target_range[i]], vert=True, showextrema=False)\n",
    "    plt.boxplot(Target_Pseudos, positions= [target_range[i]], vert=True)\n",
    "\n",
    "plt.ylim(0,CM_Cells.obs.rank_pseudotime.max()+1000)\n",
    "fig.savefig('./TNNT2_Violin_Across_CM.pdf')"
   ]
  },
  {
   "cell_type": "code",
   "execution_count": 23,
   "metadata": {},
   "outputs": [
    {
     "name": "stdout",
     "output_type": "stream",
     "text": [
      "TNNT2_PROM1 MW p-val 0.0003987782459992201\n",
      "TNNT2_ENH2 MW p-val 0.07060540134019977\n",
      "TNNT2_ENH3 MW p-val 1.176052924876008e-06\n"
     ]
    }
   ],
   "source": [
    "for target in Sig_Targets:\n",
    "    Cell_List = []\n",
    "    [Cell_List.extend(SGRNA_CELLS_DIC[sg]) for sg in Guide_Dictionary[target]]\n",
    "    Target_SC = CM_Cells[Cell_List]\n",
    "    Target_Pseudos = Target_SC.obs.rank_pseudotime\n",
    "    print(target + ' MW p-val ' +  str(scipy.stats.mannwhitneyu(NC_Pseudos, Target_Pseudos)[1]))"
   ]
  }
 ],
 "metadata": {
  "kernelspec": {
   "display_name": "hope",
   "language": "python",
   "name": "hope"
  },
  "language_info": {
   "codemirror_mode": {
    "name": "ipython",
    "version": 3
   },
   "file_extension": ".py",
   "mimetype": "text/x-python",
   "name": "python",
   "nbconvert_exporter": "python",
   "pygments_lexer": "ipython3",
   "version": "3.6.12"
  }
 },
 "nbformat": 4,
 "nbformat_minor": 2
}
